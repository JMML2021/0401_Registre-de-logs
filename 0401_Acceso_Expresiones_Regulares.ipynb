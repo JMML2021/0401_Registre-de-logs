{
  "nbformat": 4,
  "nbformat_minor": 0,
  "metadata": {
    "colab": {
      "name": "0401_Acceso_Expresiones_Regulares.ipynb",
      "provenance": [],
      "authorship_tag": "ABX9TyMlByQKsGpW07pSdqSI6fh8",
      "include_colab_link": true
    },
    "kernelspec": {
      "name": "python3",
      "display_name": "Python 3"
    },
    "language_info": {
      "name": "python"
    }
  },
  "cells": [
    {
      "cell_type": "markdown",
      "metadata": {
        "id": "view-in-github",
        "colab_type": "text"
      },
      "source": [
        "<a href=\"https://colab.research.google.com/github/JMML2021/0401_Registre-de-logs/blob/main/0401_Acceso_Expresiones_Regulares.ipynb\" target=\"_parent\"><img src=\"https://colab.research.google.com/assets/colab-badge.svg\" alt=\"Open In Colab\"/></a>"
      ]
    },
    {
      "cell_type": "code",
      "execution_count": 1,
      "metadata": {
        "id": "DfgvLwVp5FEg"
      },
      "outputs": [],
      "source": [
        "# importing libraries\n",
        "from urllib.request import urlretrieve\n",
        "import pandas as pd\n",
        "import os\n",
        "import re\n",
        "from datetime import datetime\n",
        "import pytz\n",
        "#import geocoder\n",
        "import folium\n",
        "import time\n",
        "import urllib.request\n",
        "import json\n",
        "#import geopandas\n",
        "import matplotlib.pyplot as plt\n",
        "from datetime import datetime"
      ]
    },
    {
      "cell_type": "code",
      "source": [
        "# Activo Google Drive\n",
        "\n",
        "from google.colab import drive\n",
        "drive.mount('/content/drive')"
      ],
      "metadata": {
        "colab": {
          "base_uri": "https://localhost:8080/"
        },
        "id": "yGefk51H507w",
        "outputId": "ac670d8b-10ae-49c9-c328-674477261b1d"
      },
      "execution_count": 3,
      "outputs": [
        {
          "output_type": "stream",
          "name": "stdout",
          "text": [
            "Mounted at /content/drive\n"
          ]
        }
      ]
    },
    {
      "cell_type": "code",
      "source": [
        "# Abro archivo\n",
        "\n",
        "df = list(open('/content/drive/MyDrive/Web_access_log-akumenius.com.txt'))\n",
        "file= '/content/drive/MyDrive/Web_access_log-akumenius.com.txt'\n",
        "df[200:210]"
      ],
      "metadata": {
        "colab": {
          "base_uri": "https://localhost:8080/"
        },
        "id": "rIL2qvVT5Hph",
        "outputId": "47480dd1-8b1f-48cf-a9a2-0d3410465312"
      },
      "execution_count": 4,
      "outputs": [
        {
          "output_type": "execute_result",
          "data": {
            "text/plain": [
              "['www.akumenius.com 180.76.5.31 - - [23/Feb/2014:03:15:03 +0100] \"GET /destinos-baratos/destinos-caracteristicas/hoteles-baratos-en-Zurich_SUIZA-con-Alquiler-de-silla-de-ruedas HTTP/1.1\" 200 8360 \"-\" \"Mozilla/5.0 (compatible; Baiduspider/2.0; +http://www.baidu.com/search/spider.html)\" VLOG=-\\n',\n",
              " 'www.akumenius.com 66.249.76.216 - - [23/Feb/2014:03:15:03 +0100] \"GET /hoteles-baratos/ofertas-hotel-Capitolio-Apartamentos-Turisticos-en-Merida-207271b-destinos.html HTTP/1.1\" 404 3100 \"-\" \"Mozilla/5.0 (compatible; Googlebot/2.1; +http://www.google.com/bot.html)\" VLOG=-\\n',\n",
              " 'www.akumenius.com 66.249.76.216 - - [23/Feb/2014:03:15:06 +0100] \"GET /destinos-baratos/destinosEstrelles/hoteles-en-Gary_ESTADOS%20UNIDOS-con-4-estrellas HTTP/1.1\" 200 8812 \"-\" \"Mozilla/5.0 (compatible; Googlebot/2.1; +http://www.google.com/bot.html)\" VLOG=-\\n',\n",
              " 'www.akumenius.com 66.249.76.216 - - [23/Feb/2014:03:15:06 +0100] \"GET /hoteles-baratos/ofertas-hotel-Guitart-Termes-La-Collada-en-La%20Molina-6833b-destinos.html HTTP/1.1\" 404 3100 \"-\" \"Mozilla/5.0 (compatible; Googlebot/2.1; +http://www.google.com/bot.html)\" VLOG=-\\n',\n",
              " 'www.akumenius.com 66.249.76.216 - - [23/Feb/2014:03:15:08 +0100] \"GET /hoteles-baratos/ofertas-hotel-Sol-Palmeras-en-Varadero-63381b-destinos.html HTTP/1.1\" 404 3100 \"-\" \"Mozilla/5.0 (compatible; Googlebot/2.1; +http://www.google.com/bot.html)\" VLOG=-\\n',\n",
              " 'www.akumenius.com 66.249.76.216 - - [23/Feb/2014:03:15:10 +0100] \"GET /hoteles-baratos/ofertas-hotel-The-Suites-At-San-Roque-Club-en-Sotogrande-195247b-destinos.html HTTP/1.1\" 404 3100 \"-\" \"Mozilla/5.0 (compatible; Googlebot/2.1; +http://www.google.com/bot.html)\" VLOG=-\\n',\n",
              " 'www.akumenius.com 66.249.76.216 - - [23/Feb/2014:03:15:13 +0100] \"GET /hoteles-baratos/ofertas-hotel-Punta-Serena-en-Costa%20Alegre-54540b-destinos.html HTTP/1.1\" 404 3100 \"-\" \"Mozilla/5.0 (compatible; Googlebot/2.1; +http://www.google.com/bot.html)\" VLOG=-\\n',\n",
              " 'www.akumenius.com 66.249.76.216 - - [23/Feb/2014:03:15:13 +0100] \"GET /destinos-baratos/destinosEstrelles/hoteles-en-Sant\\'Arcangelo_ITALIA-con-5-estrellas HTTP/1.1\" 200 8816 \"-\" \"Mozilla/5.0 (compatible; Googlebot/2.1; +http://www.google.com/bot.html)\" VLOG=-\\n',\n",
              " 'www.akumenius.com 66.249.76.216 - - [23/Feb/2014:03:15:15 +0100] \"GET /destinos-baratos/hoteles-baratos/ofertas-hotel-Hotel-Vantis-en-Riga-215949b-destinos.html HTTP/1.1\" 404 3100 \"-\" \"Mozilla/5.0 (compatible; Googlebot/2.1; +http://www.google.com/bot.html)\" VLOG=-\\n',\n",
              " 'www.akumenius.com 66.249.76.216 - - [23/Feb/2014:03:15:17 +0100] \"GET /hoteles-baratos/ofertas-hotel-Tune-Hotel-Klia---LCCT-Airport-en-Airport%20Hotels-175955b-destinos.html HTTP/1.1\" 404 3100 \"-\" \"Mozilla/5.0 (compatible; Googlebot/2.1; +http://www.google.com/bot.html)\" VLOG=-\\n']"
            ]
          },
          "metadata": {},
          "execution_count": 4
        }
      ]
    },
    {
      "cell_type": "code",
      "source": [
        "for file in files:\n",
        "    open_file = open(file)  # here our data\n",
        "    print(\"lines from the file: \"+ file)\n",
        "    for i in range(5):\n",
        "        line = open_file.readline()\n",
        "        print(line)\n"
      ],
      "metadata": {
        "id": "NkJvTzQs5SUg"
      },
      "execution_count": null,
      "outputs": []
    },
    {
      "cell_type": "markdown",
      "source": [
        "Once the lines are printed, we see they are in the lines shows Common Log Format (CLF) :\n",
        "\n",
        "check here what CLF means\n",
        "\n",
        "knowing this, let's show the log format structure: \n",
        "\n",
        "%h %l %u %t \\\"%r\\\" %>s %b \\\"%{Referer}i\\\" \\\"%{User-agent}i\\\n",
        "\n",
        "\n",
        "where:\n",
        "\n",
        "%h is the IP address of the client (remote host);\n",
        "\n",
        "%l is RFC 1413 identity (not determined);\n",
        "\n",
        "%u is the user id, determined by the HTTP authentication;\n",
        "\n",
        "%t is the time, by default, formatted as [day/month/year:hour:minute:second zone];\n",
        "\n",
        "\\\"%r\\\" is the request string, formatted as \"method resource protocol\"\n",
        "\n",
        "%>s is the status code;\n",
        "\n",
        "%O is the request size;\n",
        "\n",
        "\\\"%{Referer}i\\\" is the Referer HTTP request header and\n",
        "\n",
        "\\\"%{User-Agent}i\\\" is the User-Agent HTTP request header."
      ],
      "metadata": {
        "id": "ugKwMXtm6QXq"
      }
    },
    {
      "cell_type": "code",
      "source": [
        "def parse_str(x):\n",
        "    \"\"\"\n",
        "    Returns the string delimited by two characters.\n",
        "\n",
        "    Example:\n",
        "        `>>> parse_str('[string]')`\n",
        "        `'string'`\n",
        "    \"\"\"\n",
        "    return x[1:-1]\n",
        "\n",
        "def parse_datetime(x):\n",
        "    '''\n",
        "    Parses datetime with timezone formatted as:\n",
        "        `[day/month/year:hour:minute:second zone]`\n",
        "\n",
        "    Example:\n",
        "        `>>> parse_datetime('13/Nov/2015:11:45:42 +0000')`\n",
        "        `datetime.datetime(2015, 11, 3, 11, 45, 4, tzinfo=<UTC>)`\n",
        "\n",
        "    Due to problems parsing the timezone (`%z`) with `datetime.strptime`, the\n",
        "    timezone will be obtained using the `pytz` library.\n",
        "    '''\n",
        "    dt = datetime.strptime(x[1:-7], '%d/%b/%Y:%H:%M:%S')\n",
        "    dt_tz = int(x[-6:-3])*60+int(x[-3:-1])\n",
        "    return dt.replace(tzinfo=pytz.FixedOffset(dt_tz))"
      ],
      "metadata": {
        "id": "zPrFQDiI5eYQ"
      },
      "execution_count": 6,
      "outputs": []
    },
    {
      "cell_type": "code",
      "source": [
        "data = df.read_csv(file,\n",
        "\n",
        "    sep=r'\\s(?=(?:[^\"]*\"[^\"]*\")*[^\"]*$)(?![^\\[]*\\])',\n",
        "    engine='python',\n",
        "    na_values='-',\n",
        "    header=None,\n",
        "    usecols=[0, 1, 4, 5, 6, 7, 8, 9],\n",
        "    names=['virtual_host','ip', 'time', 'request', 'status', 'size', 'referer', 'user_agent'],\n",
        "    converters={'time': parse_datetime,\n",
        "                'request': parse_str,\n",
        "                'status': int,\n",
        "                'size': int,\n",
        "                'referer': parse_str,\n",
        "                'user_agent': parse_str})"
      ],
      "metadata": {
        "colab": {
          "base_uri": "https://localhost:8080/",
          "height": 235
        },
        "id": "gQabVseV5fbH",
        "outputId": "4c4cf632-9d19-4766-efce-a30ea8da5559"
      },
      "execution_count": 8,
      "outputs": [
        {
          "output_type": "error",
          "ename": "AttributeError",
          "evalue": "ignored",
          "traceback": [
            "\u001b[0;31m---------------------------------------------------------------------------\u001b[0m",
            "\u001b[0;31mAttributeError\u001b[0m                            Traceback (most recent call last)",
            "\u001b[0;32m<ipython-input-8-503ebf1206eb>\u001b[0m in \u001b[0;36m<module>\u001b[0;34m()\u001b[0m\n\u001b[0;32m----> 1\u001b[0;31m data = df.read_csv(file,\n\u001b[0m\u001b[1;32m      2\u001b[0m \u001b[0;34m\u001b[0m\u001b[0m\n\u001b[1;32m      3\u001b[0m     \u001b[0msep\u001b[0m\u001b[0;34m=\u001b[0m\u001b[0;34mr'\\s(?=(?:[^\"]*\"[^\"]*\")*[^\"]*$)(?![^\\[]*\\])'\u001b[0m\u001b[0;34m,\u001b[0m\u001b[0;34m\u001b[0m\u001b[0;34m\u001b[0m\u001b[0m\n\u001b[1;32m      4\u001b[0m     \u001b[0mengine\u001b[0m\u001b[0;34m=\u001b[0m\u001b[0;34m'python'\u001b[0m\u001b[0;34m,\u001b[0m\u001b[0;34m\u001b[0m\u001b[0;34m\u001b[0m\u001b[0m\n\u001b[1;32m      5\u001b[0m     \u001b[0mna_values\u001b[0m\u001b[0;34m=\u001b[0m\u001b[0;34m'-'\u001b[0m\u001b[0;34m,\u001b[0m\u001b[0;34m\u001b[0m\u001b[0;34m\u001b[0m\u001b[0m\n",
            "\u001b[0;31mAttributeError\u001b[0m: 'list' object has no attribute 'read_csv'"
          ]
        }
      ]
    },
    {
      "cell_type": "code",
      "source": [
        "data.sample(10)"
      ],
      "metadata": {
        "id": "ZEBWCSJi5hfl"
      },
      "execution_count": null,
      "outputs": []
    }
  ]
}