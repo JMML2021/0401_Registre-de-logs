{
  "nbformat": 4,
  "nbformat_minor": 0,
  "metadata": {
    "colab": {
      "name": "0401_Acceso_Expresiones_Regulares.ipynb",
      "provenance": [],
      "authorship_tag": "ABX9TyMnTRqIUIUDuMlRqe7WzMT1",
      "include_colab_link": true
    },
    "kernelspec": {
      "name": "python3",
      "display_name": "Python 3"
    },
    "language_info": {
      "name": "python"
    }
  },
  "cells": [
    {
      "cell_type": "markdown",
      "metadata": {
        "id": "view-in-github",
        "colab_type": "text"
      },
      "source": [
        "<a href=\"https://colab.research.google.com/github/JMML2021/0401_Registre-de-logs/blob/main/0401_Acceso_Expresiones_Regulares.ipynb\" target=\"_parent\"><img src=\"https://colab.research.google.com/assets/colab-badge.svg\" alt=\"Open In Colab\"/></a>"
      ]
    },
    {
      "cell_type": "code",
      "execution_count": 1,
      "metadata": {
        "id": "DfgvLwVp5FEg"
      },
      "outputs": [],
      "source": [
        "# importing libraries\n",
        "from urllib.request import urlretrieve\n",
        "import pandas as pd\n",
        "import os\n",
        "import re\n",
        "from datetime import datetime\n",
        "import pytz\n",
        "#import geocoder\n",
        "import folium\n",
        "import time\n",
        "import urllib.request\n",
        "import json\n",
        "#import geopandas\n",
        "import matplotlib.pyplot as plt\n",
        "from datetime import datetime"
      ]
    },
    {
      "cell_type": "code",
      "source": [
        "# Activo Google Drive\n",
        "\n",
        "from google.colab import drive\n",
        "drive.mount('/content/drive')"
      ],
      "metadata": {
        "colab": {
          "base_uri": "https://localhost:8080/"
        },
        "id": "yGefk51H507w",
        "outputId": "1ff8b723-dbc3-4d43-de74-4cede18f7c04"
      },
      "execution_count": 2,
      "outputs": [
        {
          "output_type": "stream",
          "name": "stdout",
          "text": [
            "Mounted at /content/drive\n"
          ]
        }
      ]
    },
    {
      "cell_type": "code",
      "source": [
        "# Abro archivo\n",
        "\n",
        "df = list(open('/content/drive/MyDrive/Web_access_log-akumenius.com.txt'))\n",
        "file= '/content/drive/MyDrive/Web_access_log-akumenius.com.txt'\n",
        "df[200:210]"
      ],
      "metadata": {
        "colab": {
          "base_uri": "https://localhost:8080/"
        },
        "id": "rIL2qvVT5Hph",
        "outputId": "0be10c2f-9096-43f4-e152-bf16903f72e6"
      },
      "execution_count": 3,
      "outputs": [
        {
          "output_type": "execute_result",
          "data": {
            "text/plain": [
              "['www.akumenius.com 180.76.5.31 - - [23/Feb/2014:03:15:03 +0100] \"GET /destinos-baratos/destinos-caracteristicas/hoteles-baratos-en-Zurich_SUIZA-con-Alquiler-de-silla-de-ruedas HTTP/1.1\" 200 8360 \"-\" \"Mozilla/5.0 (compatible; Baiduspider/2.0; +http://www.baidu.com/search/spider.html)\" VLOG=-\\n',\n",
              " 'www.akumenius.com 66.249.76.216 - - [23/Feb/2014:03:15:03 +0100] \"GET /hoteles-baratos/ofertas-hotel-Capitolio-Apartamentos-Turisticos-en-Merida-207271b-destinos.html HTTP/1.1\" 404 3100 \"-\" \"Mozilla/5.0 (compatible; Googlebot/2.1; +http://www.google.com/bot.html)\" VLOG=-\\n',\n",
              " 'www.akumenius.com 66.249.76.216 - - [23/Feb/2014:03:15:06 +0100] \"GET /destinos-baratos/destinosEstrelles/hoteles-en-Gary_ESTADOS%20UNIDOS-con-4-estrellas HTTP/1.1\" 200 8812 \"-\" \"Mozilla/5.0 (compatible; Googlebot/2.1; +http://www.google.com/bot.html)\" VLOG=-\\n',\n",
              " 'www.akumenius.com 66.249.76.216 - - [23/Feb/2014:03:15:06 +0100] \"GET /hoteles-baratos/ofertas-hotel-Guitart-Termes-La-Collada-en-La%20Molina-6833b-destinos.html HTTP/1.1\" 404 3100 \"-\" \"Mozilla/5.0 (compatible; Googlebot/2.1; +http://www.google.com/bot.html)\" VLOG=-\\n',\n",
              " 'www.akumenius.com 66.249.76.216 - - [23/Feb/2014:03:15:08 +0100] \"GET /hoteles-baratos/ofertas-hotel-Sol-Palmeras-en-Varadero-63381b-destinos.html HTTP/1.1\" 404 3100 \"-\" \"Mozilla/5.0 (compatible; Googlebot/2.1; +http://www.google.com/bot.html)\" VLOG=-\\n',\n",
              " 'www.akumenius.com 66.249.76.216 - - [23/Feb/2014:03:15:10 +0100] \"GET /hoteles-baratos/ofertas-hotel-The-Suites-At-San-Roque-Club-en-Sotogrande-195247b-destinos.html HTTP/1.1\" 404 3100 \"-\" \"Mozilla/5.0 (compatible; Googlebot/2.1; +http://www.google.com/bot.html)\" VLOG=-\\n',\n",
              " 'www.akumenius.com 66.249.76.216 - - [23/Feb/2014:03:15:13 +0100] \"GET /hoteles-baratos/ofertas-hotel-Punta-Serena-en-Costa%20Alegre-54540b-destinos.html HTTP/1.1\" 404 3100 \"-\" \"Mozilla/5.0 (compatible; Googlebot/2.1; +http://www.google.com/bot.html)\" VLOG=-\\n',\n",
              " 'www.akumenius.com 66.249.76.216 - - [23/Feb/2014:03:15:13 +0100] \"GET /destinos-baratos/destinosEstrelles/hoteles-en-Sant\\'Arcangelo_ITALIA-con-5-estrellas HTTP/1.1\" 200 8816 \"-\" \"Mozilla/5.0 (compatible; Googlebot/2.1; +http://www.google.com/bot.html)\" VLOG=-\\n',\n",
              " 'www.akumenius.com 66.249.76.216 - - [23/Feb/2014:03:15:15 +0100] \"GET /destinos-baratos/hoteles-baratos/ofertas-hotel-Hotel-Vantis-en-Riga-215949b-destinos.html HTTP/1.1\" 404 3100 \"-\" \"Mozilla/5.0 (compatible; Googlebot/2.1; +http://www.google.com/bot.html)\" VLOG=-\\n',\n",
              " 'www.akumenius.com 66.249.76.216 - - [23/Feb/2014:03:15:17 +0100] \"GET /hoteles-baratos/ofertas-hotel-Tune-Hotel-Klia---LCCT-Airport-en-Airport%20Hotels-175955b-destinos.html HTTP/1.1\" 404 3100 \"-\" \"Mozilla/5.0 (compatible; Googlebot/2.1; +http://www.google.com/bot.html)\" VLOG=-\\n']"
            ]
          },
          "metadata": {},
          "execution_count": 3
        }
      ]
    },
    {
      "cell_type": "markdown",
      "source": [
        "Una vez que se imprimen las líneas, vemos que están en las líneas muestra Formato de registro común (CLF):\n",
        "\n",
        "mira aquí lo que significa CLF\n",
        "\n",
        "sabiendo esto, mostremos la estructura del formato de registro:\n",
        "\n",
        "%h %l %u %t \"%r\" %>s %b \"%{Referente}i\" \"%{Usuario-agente}i\\\n",
        "\n",
        "dónde:\n",
        "\n",
        "%h es la dirección IP del cliente (host remoto);\n",
        "\n",
        "%l es la identidad RFC 1413 (no determinado);\n",
        "\n",
        "%u es la identificación del usuario, determinada por la autenticación HTTP;\n",
        "\n",
        "%t es la hora, por defecto, formateada como [día/mes/año:hora:minuto:segunda zona];\n",
        "\n",
        "\"%r\" es la cadena de solicitud, formateada como \"protocolo de recurso de método\"\n",
        "\n",
        "%>s es el código de estado;\n",
        "\n",
        "%O es el tamaño de la solicitud;\n",
        "\n",
        "\"%{Referer}i\" es el encabezado de solicitud HTTP de referencia y\n",
        "\n",
        "\"%{User-Agent}i\" es el encabezado de solicitud HTTP de User-Agent.\n"
      ],
      "metadata": {
        "id": "ugKwMXtm6QXq"
      }
    },
    {
      "cell_type": "code",
      "source": [
        "def analizar_palabra(x):\n",
        "    \"\"\"\n",
        "    Returns the string delimited by two characters.\n",
        "\n",
        "    Example:\n",
        "        `>>> parse_str('[string]')`\n",
        "        `'string'`\n",
        "    \"\"\"\n",
        "    return x[1:-1]\n",
        "\n",
        "def analizar_fechaHora(x):\n",
        "    '''\n",
        "    Parses datetime with timezone formatted as:\n",
        "        `[day/month/year:hour:minute:second zone]`\n",
        "\n",
        "    Example:\n",
        "        `>>> parse_datetime('13/Nov/2015:11:45:42 +0000')`\n",
        "        `datetime.datetime(2015, 11, 3, 11, 45, 4, tzinfo=<UTC>)`\n",
        "\n",
        "    Due to problems parsing the timezone (`%z`) with `datetime.strptime`, the\n",
        "    timezone will be obtained using the `pytz` library.\n",
        "    '''\n",
        "    dt = datetime.strptime(x[1:-7], '%d/%b/%Y:%H:%M:%S')\n",
        "    dt_tz = int(x[-6:-3])*60+int(x[-3:-1])\n",
        "    return dt.replace(tzinfo=pytz.FixedOffset(dt_tz))"
      ],
      "metadata": {
        "id": "zPrFQDiI5eYQ"
      },
      "execution_count": 15,
      "outputs": []
    },
    {
      "cell_type": "code",
      "source": [
        "data = pd.read_csv(file,\n",
        "\n",
        "    sep=r'\\s(?=(?:[^\"]*\"[^\"]*\")*[^\"]*$)(?![^\\[]*\\])',\n",
        "    engine='python',\n",
        "    na_values='-',\n",
        "    header=None,\n",
        "    usecols=[0, 1, 4, 5, 6, 7, 8, 9],\n",
        "    names=['virtual_host','ip', 'time', 'request', 'status', 'size', 'referer', 'user_agent'],\n",
        "    converters={'time': analizar_fechaHora,\n",
        "                'request': analizar_palabra,\n",
        "                'status': int,\n",
        "                'size': int,\n",
        "                'referer': analizar_palabra,\n",
        "                'user_agent': analizar_palabra})"
      ],
      "metadata": {
        "id": "gQabVseV5fbH"
      },
      "execution_count": 16,
      "outputs": []
    },
    {
      "cell_type": "code",
      "source": [
        ""
      ],
      "metadata": {
        "id": "FCXF26p6i-SQ"
      },
      "execution_count": null,
      "outputs": []
    },
    {
      "cell_type": "code",
      "source": [
        "data.shape"
      ],
      "metadata": {
        "colab": {
          "base_uri": "https://localhost:8080/"
        },
        "id": "HQiHfyD7e0R0",
        "outputId": "d782d6f2-1cea-46d0-c915-97ee21ccbd1f"
      },
      "execution_count": 18,
      "outputs": [
        {
          "output_type": "execute_result",
          "data": {
            "text/plain": [
              "(261873, 8)"
            ]
          },
          "metadata": {},
          "execution_count": 18
        }
      ]
    },
    {
      "cell_type": "code",
      "source": [
        "data.sample(10)"
      ],
      "metadata": {
        "id": "ZEBWCSJi5hfl",
        "colab": {
          "base_uri": "https://localhost:8080/",
          "height": 965
        },
        "outputId": "177f176e-a52a-407f-bbc6-4b0d849da14b"
      },
      "execution_count": 17,
      "outputs": [
        {
          "output_type": "execute_result",
          "data": {
            "text/plain": [
              "             virtual_host              ip                      time  \\\n",
              "195706          localhost       127.0.0.1 2014-02-27 13:07:49+01:00   \n",
              "192980  www.akumenius.com     92.58.37.48 2014-02-27 12:15:27+01:00   \n",
              "21737   www.akumenius.com  190.100.112.14 2014-02-23 15:49:49+01:00   \n",
              "227936  www.akumenius.com   157.55.33.122 2014-02-28 04:54:50+01:00   \n",
              "246857  www.akumenius.com    66.249.64.98 2014-03-01 09:57:06+01:00   \n",
              "50454   www.akumenius.com   66.249.76.216 2014-02-24 09:28:01+01:00   \n",
              "225837  www.akumenius.com   66.249.76.216 2014-02-28 02:24:29+01:00   \n",
              "202198  www.akumenius.com   90.175.73.135 2014-02-27 15:32:27+01:00   \n",
              "198797  www.akumenius.com   85.48.148.136 2014-02-27 15:01:32+01:00   \n",
              "116951  www.akumenius.com  195.245.193.60 2014-02-25 16:16:03+01:00   \n",
              "\n",
              "                                                  request  status   size  \\\n",
              "195706                                 OPTIONS * HTTP/1.0     200    NaN   \n",
              "192980                    POST /hotel-list-data/ HTTP/1.1     200  19104   \n",
              "21737   GET /modules/raton/views/themes/bcoos/images/b...     200   7452   \n",
              "227936   GET /escapadas/san-valentin-976/14.html HTTP/1.1     200  10773   \n",
              "246857  GET /destinosCaracteristicas/hoteles-baratos-e...     200   6393   \n",
              "50454   GET /destinosCaracteristicas/hoteles-baratos-e...     200   7160   \n",
              "225837  GET /destinosCaracteristicas/hoteles-baratos-e...     200   8033   \n",
              "202198                    POST /hotel-list-data/ HTTP/1.1     200  45713   \n",
              "198797               GET /includes/css/style.css HTTP/1.1     200   3637   \n",
              "116951  GET /modules/raton/views/themes/bcoos/css/2col...     200  11146   \n",
              "\n",
              "                                                  referer  \\\n",
              "195706                                                NaN   \n",
              "192980                http://www.akumenius.com/hotel-list   \n",
              "21737   http://www.akumenius.com/destinos-caracteristi...   \n",
              "227936                                                NaN   \n",
              "246857                                                NaN   \n",
              "50454                                                 NaN   \n",
              "225837                                                NaN   \n",
              "202198                http://www.akumenius.com/hotel-list   \n",
              "198797                          http://www.akumenius.com/   \n",
              "116951  http://www.akumenius.com/?gclid=CKzmmIfJ57wCFY...   \n",
              "\n",
              "                                               user_agent  \n",
              "195706                 Apache (internal dummy connection)  \n",
              "192980  Mozilla/5.0 (iPad; CPU OS 7_0 like Mac OS X) A...  \n",
              "21737   Mozilla/5.0 (Windows NT 6.1; WOW64) AppleWebKi...  \n",
              "227936  Mozilla/5.0 (compatible; bingbot/2.0; +http://...  \n",
              "246857  Mozilla/5.0 (compatible; Googlebot/2.1; +http:...  \n",
              "50454   Mozilla/5.0 (compatible; Googlebot/2.1; +http:...  \n",
              "225837  Mozilla/5.0 (compatible; Googlebot/2.1; +http:...  \n",
              "202198  Mozilla/5.0 (Windows NT 6.1; WOW64) AppleWebKi...  \n",
              "198797  Mozilla/5.0 (Windows NT 6.1; WOW64; rv:27.0) G...  \n",
              "116951  Mozilla/5.0 (iPhone; CPU iPhone OS 7_0 like Ma...  "
            ],
            "text/html": [
              "\n",
              "  <div id=\"df-a6146efd-3280-4da5-b329-3ec9d43eb980\">\n",
              "    <div class=\"colab-df-container\">\n",
              "      <div>\n",
              "<style scoped>\n",
              "    .dataframe tbody tr th:only-of-type {\n",
              "        vertical-align: middle;\n",
              "    }\n",
              "\n",
              "    .dataframe tbody tr th {\n",
              "        vertical-align: top;\n",
              "    }\n",
              "\n",
              "    .dataframe thead th {\n",
              "        text-align: right;\n",
              "    }\n",
              "</style>\n",
              "<table border=\"1\" class=\"dataframe\">\n",
              "  <thead>\n",
              "    <tr style=\"text-align: right;\">\n",
              "      <th></th>\n",
              "      <th>virtual_host</th>\n",
              "      <th>ip</th>\n",
              "      <th>time</th>\n",
              "      <th>request</th>\n",
              "      <th>status</th>\n",
              "      <th>size</th>\n",
              "      <th>referer</th>\n",
              "      <th>user_agent</th>\n",
              "    </tr>\n",
              "  </thead>\n",
              "  <tbody>\n",
              "    <tr>\n",
              "      <th>195706</th>\n",
              "      <td>localhost</td>\n",
              "      <td>127.0.0.1</td>\n",
              "      <td>2014-02-27 13:07:49+01:00</td>\n",
              "      <td>OPTIONS * HTTP/1.0</td>\n",
              "      <td>200</td>\n",
              "      <td>NaN</td>\n",
              "      <td>NaN</td>\n",
              "      <td>Apache (internal dummy connection)</td>\n",
              "    </tr>\n",
              "    <tr>\n",
              "      <th>192980</th>\n",
              "      <td>www.akumenius.com</td>\n",
              "      <td>92.58.37.48</td>\n",
              "      <td>2014-02-27 12:15:27+01:00</td>\n",
              "      <td>POST /hotel-list-data/ HTTP/1.1</td>\n",
              "      <td>200</td>\n",
              "      <td>19104</td>\n",
              "      <td>http://www.akumenius.com/hotel-list</td>\n",
              "      <td>Mozilla/5.0 (iPad; CPU OS 7_0 like Mac OS X) A...</td>\n",
              "    </tr>\n",
              "    <tr>\n",
              "      <th>21737</th>\n",
              "      <td>www.akumenius.com</td>\n",
              "      <td>190.100.112.14</td>\n",
              "      <td>2014-02-23 15:49:49+01:00</td>\n",
              "      <td>GET /modules/raton/views/themes/bcoos/images/b...</td>\n",
              "      <td>200</td>\n",
              "      <td>7452</td>\n",
              "      <td>http://www.akumenius.com/destinos-caracteristi...</td>\n",
              "      <td>Mozilla/5.0 (Windows NT 6.1; WOW64) AppleWebKi...</td>\n",
              "    </tr>\n",
              "    <tr>\n",
              "      <th>227936</th>\n",
              "      <td>www.akumenius.com</td>\n",
              "      <td>157.55.33.122</td>\n",
              "      <td>2014-02-28 04:54:50+01:00</td>\n",
              "      <td>GET /escapadas/san-valentin-976/14.html HTTP/1.1</td>\n",
              "      <td>200</td>\n",
              "      <td>10773</td>\n",
              "      <td>NaN</td>\n",
              "      <td>Mozilla/5.0 (compatible; bingbot/2.0; +http://...</td>\n",
              "    </tr>\n",
              "    <tr>\n",
              "      <th>246857</th>\n",
              "      <td>www.akumenius.com</td>\n",
              "      <td>66.249.64.98</td>\n",
              "      <td>2014-03-01 09:57:06+01:00</td>\n",
              "      <td>GET /destinosCaracteristicas/hoteles-baratos-e...</td>\n",
              "      <td>200</td>\n",
              "      <td>6393</td>\n",
              "      <td>NaN</td>\n",
              "      <td>Mozilla/5.0 (compatible; Googlebot/2.1; +http:...</td>\n",
              "    </tr>\n",
              "    <tr>\n",
              "      <th>50454</th>\n",
              "      <td>www.akumenius.com</td>\n",
              "      <td>66.249.76.216</td>\n",
              "      <td>2014-02-24 09:28:01+01:00</td>\n",
              "      <td>GET /destinosCaracteristicas/hoteles-baratos-e...</td>\n",
              "      <td>200</td>\n",
              "      <td>7160</td>\n",
              "      <td>NaN</td>\n",
              "      <td>Mozilla/5.0 (compatible; Googlebot/2.1; +http:...</td>\n",
              "    </tr>\n",
              "    <tr>\n",
              "      <th>225837</th>\n",
              "      <td>www.akumenius.com</td>\n",
              "      <td>66.249.76.216</td>\n",
              "      <td>2014-02-28 02:24:29+01:00</td>\n",
              "      <td>GET /destinosCaracteristicas/hoteles-baratos-e...</td>\n",
              "      <td>200</td>\n",
              "      <td>8033</td>\n",
              "      <td>NaN</td>\n",
              "      <td>Mozilla/5.0 (compatible; Googlebot/2.1; +http:...</td>\n",
              "    </tr>\n",
              "    <tr>\n",
              "      <th>202198</th>\n",
              "      <td>www.akumenius.com</td>\n",
              "      <td>90.175.73.135</td>\n",
              "      <td>2014-02-27 15:32:27+01:00</td>\n",
              "      <td>POST /hotel-list-data/ HTTP/1.1</td>\n",
              "      <td>200</td>\n",
              "      <td>45713</td>\n",
              "      <td>http://www.akumenius.com/hotel-list</td>\n",
              "      <td>Mozilla/5.0 (Windows NT 6.1; WOW64) AppleWebKi...</td>\n",
              "    </tr>\n",
              "    <tr>\n",
              "      <th>198797</th>\n",
              "      <td>www.akumenius.com</td>\n",
              "      <td>85.48.148.136</td>\n",
              "      <td>2014-02-27 15:01:32+01:00</td>\n",
              "      <td>GET /includes/css/style.css HTTP/1.1</td>\n",
              "      <td>200</td>\n",
              "      <td>3637</td>\n",
              "      <td>http://www.akumenius.com/</td>\n",
              "      <td>Mozilla/5.0 (Windows NT 6.1; WOW64; rv:27.0) G...</td>\n",
              "    </tr>\n",
              "    <tr>\n",
              "      <th>116951</th>\n",
              "      <td>www.akumenius.com</td>\n",
              "      <td>195.245.193.60</td>\n",
              "      <td>2014-02-25 16:16:03+01:00</td>\n",
              "      <td>GET /modules/raton/views/themes/bcoos/css/2col...</td>\n",
              "      <td>200</td>\n",
              "      <td>11146</td>\n",
              "      <td>http://www.akumenius.com/?gclid=CKzmmIfJ57wCFY...</td>\n",
              "      <td>Mozilla/5.0 (iPhone; CPU iPhone OS 7_0 like Ma...</td>\n",
              "    </tr>\n",
              "  </tbody>\n",
              "</table>\n",
              "</div>\n",
              "      <button class=\"colab-df-convert\" onclick=\"convertToInteractive('df-a6146efd-3280-4da5-b329-3ec9d43eb980')\"\n",
              "              title=\"Convert this dataframe to an interactive table.\"\n",
              "              style=\"display:none;\">\n",
              "        \n",
              "  <svg xmlns=\"http://www.w3.org/2000/svg\" height=\"24px\"viewBox=\"0 0 24 24\"\n",
              "       width=\"24px\">\n",
              "    <path d=\"M0 0h24v24H0V0z\" fill=\"none\"/>\n",
              "    <path d=\"M18.56 5.44l.94 2.06.94-2.06 2.06-.94-2.06-.94-.94-2.06-.94 2.06-2.06.94zm-11 1L8.5 8.5l.94-2.06 2.06-.94-2.06-.94L8.5 2.5l-.94 2.06-2.06.94zm10 10l.94 2.06.94-2.06 2.06-.94-2.06-.94-.94-2.06-.94 2.06-2.06.94z\"/><path d=\"M17.41 7.96l-1.37-1.37c-.4-.4-.92-.59-1.43-.59-.52 0-1.04.2-1.43.59L10.3 9.45l-7.72 7.72c-.78.78-.78 2.05 0 2.83L4 21.41c.39.39.9.59 1.41.59.51 0 1.02-.2 1.41-.59l7.78-7.78 2.81-2.81c.8-.78.8-2.07 0-2.86zM5.41 20L4 18.59l7.72-7.72 1.47 1.35L5.41 20z\"/>\n",
              "  </svg>\n",
              "      </button>\n",
              "      \n",
              "  <style>\n",
              "    .colab-df-container {\n",
              "      display:flex;\n",
              "      flex-wrap:wrap;\n",
              "      gap: 12px;\n",
              "    }\n",
              "\n",
              "    .colab-df-convert {\n",
              "      background-color: #E8F0FE;\n",
              "      border: none;\n",
              "      border-radius: 50%;\n",
              "      cursor: pointer;\n",
              "      display: none;\n",
              "      fill: #1967D2;\n",
              "      height: 32px;\n",
              "      padding: 0 0 0 0;\n",
              "      width: 32px;\n",
              "    }\n",
              "\n",
              "    .colab-df-convert:hover {\n",
              "      background-color: #E2EBFA;\n",
              "      box-shadow: 0px 1px 2px rgba(60, 64, 67, 0.3), 0px 1px 3px 1px rgba(60, 64, 67, 0.15);\n",
              "      fill: #174EA6;\n",
              "    }\n",
              "\n",
              "    [theme=dark] .colab-df-convert {\n",
              "      background-color: #3B4455;\n",
              "      fill: #D2E3FC;\n",
              "    }\n",
              "\n",
              "    [theme=dark] .colab-df-convert:hover {\n",
              "      background-color: #434B5C;\n",
              "      box-shadow: 0px 1px 3px 1px rgba(0, 0, 0, 0.15);\n",
              "      filter: drop-shadow(0px 1px 2px rgba(0, 0, 0, 0.3));\n",
              "      fill: #FFFFFF;\n",
              "    }\n",
              "  </style>\n",
              "\n",
              "      <script>\n",
              "        const buttonEl =\n",
              "          document.querySelector('#df-a6146efd-3280-4da5-b329-3ec9d43eb980 button.colab-df-convert');\n",
              "        buttonEl.style.display =\n",
              "          google.colab.kernel.accessAllowed ? 'block' : 'none';\n",
              "\n",
              "        async function convertToInteractive(key) {\n",
              "          const element = document.querySelector('#df-a6146efd-3280-4da5-b329-3ec9d43eb980');\n",
              "          const dataTable =\n",
              "            await google.colab.kernel.invokeFunction('convertToInteractive',\n",
              "                                                     [key], {});\n",
              "          if (!dataTable) return;\n",
              "\n",
              "          const docLinkHtml = 'Like what you see? Visit the ' +\n",
              "            '<a target=\"_blank\" href=https://colab.research.google.com/notebooks/data_table.ipynb>data table notebook</a>'\n",
              "            + ' to learn more about interactive tables.';\n",
              "          element.innerHTML = '';\n",
              "          dataTable['output_type'] = 'display_data';\n",
              "          await google.colab.output.renderOutput(dataTable, element);\n",
              "          const docLink = document.createElement('div');\n",
              "          docLink.innerHTML = docLinkHtml;\n",
              "          element.appendChild(docLink);\n",
              "        }\n",
              "      </script>\n",
              "    </div>\n",
              "  </div>\n",
              "  "
            ]
          },
          "metadata": {},
          "execution_count": 17
        }
      ]
    }
  ]
}