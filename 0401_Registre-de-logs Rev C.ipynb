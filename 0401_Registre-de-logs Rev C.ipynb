{
  "nbformat": 4,
  "nbformat_minor": 0,
  "metadata": {
    "colab": {
      "name": "Untitled2.ipynb",
      "provenance": [],
      "mount_file_id": "https://github.com/JMML2021/0401_Registre-de-logs/blob/main/0401_Registre-de-logs%20Rev%20B.ipynb",
      "authorship_tag": "ABX9TyM/9hbDPx2uaDqV0SPBJWbi",
      "include_colab_link": true
    },
    "kernelspec": {
      "name": "python3",
      "display_name": "Python 3"
    },
    "language_info": {
      "name": "python"
    }
  },
  "cells": [
    {
      "cell_type": "markdown",
      "metadata": {
        "id": "view-in-github",
        "colab_type": "text"
      },
      "source": [
        "<a href=\"https://colab.research.google.com/github/JMML2021/0401_Registre-de-logs/blob/main/0401_Registre-de-logs%20Rev%20C.ipynb\" target=\"_parent\"><img src=\"https://colab.research.google.com/assets/colab-badge.svg\" alt=\"Open In Colab\"/></a>"
      ]
    },
    {
      "cell_type": "code",
      "execution_count": 2,
      "metadata": {
        "id": "oD7cCpvzDJn3"
      },
      "outputs": [],
      "source": [
        "# importing libraries\n",
        "from urllib.request import urlretrieve\n",
        "import pandas as pd\n",
        "import os\n",
        "import re\n",
        "from datetime import datetime\n",
        "import pytz\n",
        "#import geocoder\n",
        "import folium\n",
        "import time\n",
        "import urllib.request\n",
        "import json\n",
        "#import geopandas\n",
        "import matplotlib.pyplot as plt\n",
        "from datetime import datetime"
      ]
    },
    {
      "cell_type": "code",
      "source": [
        "!pip install -q condacolab\n",
        "import condacolab\n",
        "condacolab.install()\n"
      ],
      "metadata": {
        "id": "j1ZDAUCqpWHP"
      },
      "execution_count": null,
      "outputs": []
    },
    {
      "cell_type": "markdown",
      "source": [
        "https://stackoverflow.com/questions/65324533/geopandas-in-google-colab"
      ],
      "metadata": {
        "id": "zfuRrnh1patp"
      }
    },
    {
      "cell_type": "code",
      "source": [
        "!pip install geopandas"
      ],
      "metadata": {
        "id": "O5c0Uh5J_h2L",
        "outputId": "d1b44029-78eb-439f-e888-402acaffcfd0",
        "colab": {
          "base_uri": "https://localhost:8080/"
        }
      },
      "execution_count": null,
      "outputs": [
        {
          "output_type": "stream",
          "name": "stdout",
          "text": [
            "Looking in indexes: https://pypi.org/simple, https://us-python.pkg.dev/colab-wheels/public/simple/\n",
            "Collecting geopandas\n",
            "  Downloading geopandas-0.10.2-py2.py3-none-any.whl (1.0 MB)\n",
            "\u001b[K     |████████████████████████████████| 1.0 MB 5.1 MB/s \n",
            "\u001b[?25hRequirement already satisfied: pandas>=0.25.0 in /usr/local/lib/python3.7/dist-packages (from geopandas) (1.3.5)\n",
            "Collecting fiona>=1.8\n",
            "  Downloading Fiona-1.8.21-cp37-cp37m-manylinux2014_x86_64.whl (16.7 MB)\n",
            "\u001b[K     |████████████████████████████████| 16.7 MB 176 kB/s \n",
            "\u001b[?25hRequirement already satisfied: shapely>=1.6 in /usr/local/lib/python3.7/dist-packages (from geopandas) (1.8.2)\n",
            "Collecting pyproj>=2.2.0\n",
            "  Downloading pyproj-3.2.1-cp37-cp37m-manylinux2010_x86_64.whl (6.3 MB)\n",
            "\u001b[K     |████████████████████████████████| 6.3 MB 47.7 MB/s \n",
            "\u001b[?25hCollecting munch\n",
            "  Downloading munch-2.5.0-py2.py3-none-any.whl (10 kB)\n",
            "Requirement already satisfied: attrs>=17 in /usr/local/lib/python3.7/dist-packages (from fiona>=1.8->geopandas) (21.4.0)\n",
            "Collecting cligj>=0.5\n",
            "  Downloading cligj-0.7.2-py3-none-any.whl (7.1 kB)\n",
            "Requirement already satisfied: certifi in /usr/local/lib/python3.7/dist-packages (from fiona>=1.8->geopandas) (2022.6.15)\n",
            "Requirement already satisfied: six>=1.7 in /usr/local/lib/python3.7/dist-packages (from fiona>=1.8->geopandas) (1.15.0)\n",
            "Collecting click-plugins>=1.0\n",
            "  Downloading click_plugins-1.1.1-py2.py3-none-any.whl (7.5 kB)\n",
            "Requirement already satisfied: click>=4.0 in /usr/local/lib/python3.7/dist-packages (from fiona>=1.8->geopandas) (7.1.2)\n",
            "Requirement already satisfied: setuptools in /usr/local/lib/python3.7/dist-packages (from fiona>=1.8->geopandas) (57.4.0)\n",
            "Requirement already satisfied: numpy>=1.17.3 in /usr/local/lib/python3.7/dist-packages (from pandas>=0.25.0->geopandas) (1.21.6)\n",
            "Requirement already satisfied: pytz>=2017.3 in /usr/local/lib/python3.7/dist-packages (from pandas>=0.25.0->geopandas) (2022.1)\n",
            "Requirement already satisfied: python-dateutil>=2.7.3 in /usr/local/lib/python3.7/dist-packages (from pandas>=0.25.0->geopandas) (2.8.2)\n",
            "Installing collected packages: munch, cligj, click-plugins, pyproj, fiona, geopandas\n",
            "Successfully installed click-plugins-1.1.1 cligj-0.7.2 fiona-1.8.21 geopandas-0.10.2 munch-2.5.0 pyproj-3.2.1\n"
          ]
        }
      ]
    },
    {
      "cell_type": "code",
      "source": [
        "# Activo Google Drive\n",
        "\n",
        "from google.colab import drive\n",
        "drive.mount('/content/drive')"
      ],
      "metadata": {
        "id": "XtbGt2_x71yT",
        "outputId": "d9aeb2dc-d981-4885-eba6-ada2c03cb336",
        "colab": {
          "base_uri": "https://localhost:8080/"
        }
      },
      "execution_count": 4,
      "outputs": [
        {
          "output_type": "stream",
          "name": "stdout",
          "text": [
            "Mounted at /content/drive\n"
          ]
        }
      ]
    },
    {
      "cell_type": "markdown",
      "source": [
        "\n",
        "\n",
        "```\n",
        "# Tiene formato de código\n",
        "```\n",
        "\n",
        "# Nivell 1\n",
        "L'analista ha d'assegurar-se que els registres consisteixen en una gamma completa de missatges i s'interpreten segons el context. Els elements de registre han d'estandaritzar-se, utilitzant els mateixos termes o terminologia, per evitar confusions i proporcionar cohesió.\n",
        "\n",
        "Com Científic de Dades se t'ha proporcionat accés als registres-Logs on queda registrada l'activitat de totes les visites a realitzades a la pàgina web de l'agència de viatges \"akumenius.com\".\n"
      ],
      "metadata": {
        "id": "4Bk3iRmxn_uV"
      }
    },
    {
      "cell_type": "code",
      "source": [
        "# Abro archivo\n",
        "\n",
        "df = list(open('/content/drive/MyDrive/Web_access_log-akumenius.com.txt'))\n",
        "df[200:210]"
      ],
      "metadata": {
        "id": "S8cgYls8MpY3",
        "colab": {
          "base_uri": "https://localhost:8080/"
        },
        "outputId": "7a3c9a00-3bd7-4dec-cae6-0d9f1fdecfb4"
      },
      "execution_count": 5,
      "outputs": [
        {
          "output_type": "execute_result",
          "data": {
            "text/plain": [
              "['www.akumenius.com 180.76.5.31 - - [23/Feb/2014:03:15:03 +0100] \"GET /destinos-baratos/destinos-caracteristicas/hoteles-baratos-en-Zurich_SUIZA-con-Alquiler-de-silla-de-ruedas HTTP/1.1\" 200 8360 \"-\" \"Mozilla/5.0 (compatible; Baiduspider/2.0; +http://www.baidu.com/search/spider.html)\" VLOG=-\\n',\n",
              " 'www.akumenius.com 66.249.76.216 - - [23/Feb/2014:03:15:03 +0100] \"GET /hoteles-baratos/ofertas-hotel-Capitolio-Apartamentos-Turisticos-en-Merida-207271b-destinos.html HTTP/1.1\" 404 3100 \"-\" \"Mozilla/5.0 (compatible; Googlebot/2.1; +http://www.google.com/bot.html)\" VLOG=-\\n',\n",
              " 'www.akumenius.com 66.249.76.216 - - [23/Feb/2014:03:15:06 +0100] \"GET /destinos-baratos/destinosEstrelles/hoteles-en-Gary_ESTADOS%20UNIDOS-con-4-estrellas HTTP/1.1\" 200 8812 \"-\" \"Mozilla/5.0 (compatible; Googlebot/2.1; +http://www.google.com/bot.html)\" VLOG=-\\n',\n",
              " 'www.akumenius.com 66.249.76.216 - - [23/Feb/2014:03:15:06 +0100] \"GET /hoteles-baratos/ofertas-hotel-Guitart-Termes-La-Collada-en-La%20Molina-6833b-destinos.html HTTP/1.1\" 404 3100 \"-\" \"Mozilla/5.0 (compatible; Googlebot/2.1; +http://www.google.com/bot.html)\" VLOG=-\\n',\n",
              " 'www.akumenius.com 66.249.76.216 - - [23/Feb/2014:03:15:08 +0100] \"GET /hoteles-baratos/ofertas-hotel-Sol-Palmeras-en-Varadero-63381b-destinos.html HTTP/1.1\" 404 3100 \"-\" \"Mozilla/5.0 (compatible; Googlebot/2.1; +http://www.google.com/bot.html)\" VLOG=-\\n',\n",
              " 'www.akumenius.com 66.249.76.216 - - [23/Feb/2014:03:15:10 +0100] \"GET /hoteles-baratos/ofertas-hotel-The-Suites-At-San-Roque-Club-en-Sotogrande-195247b-destinos.html HTTP/1.1\" 404 3100 \"-\" \"Mozilla/5.0 (compatible; Googlebot/2.1; +http://www.google.com/bot.html)\" VLOG=-\\n',\n",
              " 'www.akumenius.com 66.249.76.216 - - [23/Feb/2014:03:15:13 +0100] \"GET /hoteles-baratos/ofertas-hotel-Punta-Serena-en-Costa%20Alegre-54540b-destinos.html HTTP/1.1\" 404 3100 \"-\" \"Mozilla/5.0 (compatible; Googlebot/2.1; +http://www.google.com/bot.html)\" VLOG=-\\n',\n",
              " 'www.akumenius.com 66.249.76.216 - - [23/Feb/2014:03:15:13 +0100] \"GET /destinos-baratos/destinosEstrelles/hoteles-en-Sant\\'Arcangelo_ITALIA-con-5-estrellas HTTP/1.1\" 200 8816 \"-\" \"Mozilla/5.0 (compatible; Googlebot/2.1; +http://www.google.com/bot.html)\" VLOG=-\\n',\n",
              " 'www.akumenius.com 66.249.76.216 - - [23/Feb/2014:03:15:15 +0100] \"GET /destinos-baratos/hoteles-baratos/ofertas-hotel-Hotel-Vantis-en-Riga-215949b-destinos.html HTTP/1.1\" 404 3100 \"-\" \"Mozilla/5.0 (compatible; Googlebot/2.1; +http://www.google.com/bot.html)\" VLOG=-\\n',\n",
              " 'www.akumenius.com 66.249.76.216 - - [23/Feb/2014:03:15:17 +0100] \"GET /hoteles-baratos/ofertas-hotel-Tune-Hotel-Klia---LCCT-Airport-en-Airport%20Hotels-175955b-destinos.html HTTP/1.1\" 404 3100 \"-\" \"Mozilla/5.0 (compatible; Googlebot/2.1; +http://www.google.com/bot.html)\" VLOG=-\\n']"
            ]
          },
          "metadata": {},
          "execution_count": 5
        }
      ]
    },
    {
      "cell_type": "code",
      "source": [
        "print('NUmero de registros:')\n",
        "len(df)"
      ],
      "metadata": {
        "id": "CYCn5AvsJR33",
        "outputId": "825e0fc4-bd0e-478a-f621-db04a19d423b",
        "colab": {
          "base_uri": "https://localhost:8080/"
        }
      },
      "execution_count": null,
      "outputs": [
        {
          "output_type": "stream",
          "name": "stdout",
          "text": [
            "NUmero de registros:\n"
          ]
        },
        {
          "output_type": "execute_result",
          "data": {
            "text/plain": [
              "261873"
            ]
          },
          "metadata": {},
          "execution_count": 16
        }
      ]
    },
    {
      "cell_type": "markdown",
      "source": [
        "# Exercici 1\n",
        "Estandaritza, identifica i enumera cada un dels atributs / variables de l'estructura de l'arxiu \"Web_access_log-akumenius.com\" que trobaràs al repositori de GitHub \"Data-sources\"."
      ],
      "metadata": {
        "id": "81mA2VgVoPIG"
      }
    },
    {
      "cell_type": "code",
      "source": [
        "#2.- Separo la parte central.\n",
        "\n",
        "def custom_split(str_to_split):\n",
        "    separatorsCentro = \"[\", \"]\", \"\\s\", \",\",' ','+', ')', '(', '\"'\n",
        "    # create regular expression dynamically\n",
        "    regular_exp = '|'.join(map(re.escape, separatorsCentro))\n",
        "\n",
        "    return re.split(regular_exp, str_to_split)"
      ],
      "metadata": {
        "id": "s0G4sqNTFyP4"
      },
      "execution_count": 21,
      "outputs": []
    },
    {
      "cell_type": "code",
      "source": [
        "def separoCorchete ( textoCortar):\n",
        "  separatorsCentro = \"]\"\n",
        "  regular_exp = '|'.join(map(re.escape, separatorsCentro))\n",
        "\n",
        "  return re.split(regular_exp, textoCortar)\n",
        "\n"
      ],
      "metadata": {
        "id": "Jumw4lw9KV8G"
      },
      "execution_count": 9,
      "outputs": []
    },
    {
      "cell_type": "code",
      "source": [
        "def arregloFecha(x):\n",
        "    '''\n",
        "    Parses datetime with timezone formatted as:\n",
        "        `[day/month/year:hour:minute:second zone]`\n",
        "\n",
        "    Example:\n",
        "        `>>> parse_datetime('13/Nov/2015:11:45:42 +0000')`\n",
        "        `datetime.datetime(2015, 11, 3, 11, 45, 4, tzinfo=<UTC>)`\n",
        "\n",
        "    Due to problems parsing the timezone (`%z`) with `datetime.strptime`, the\n",
        "    timezone will be obtained using the `pytz` library.\n",
        "    '''\n",
        "    dt = datetime.strptime(x, '%d/%b/%Y:%H:%M:%S')\n",
        "\n",
        "    #dt = datetime.strptime(x[0:-9], '%d/%b/%Y:%H:%M:%S')\n",
        "    #print('Fecha ', dt)\n",
        "    #dt_tz = int(x[-6:-3])*60+int(x[-3:-1])\n",
        "    #return dt.replace(tzinfo=pytz.FixedOffset(dt_tz))\n",
        "    return dt"
      ],
      "metadata": {
        "id": "kthKAAJhLn8W"
      },
      "execution_count": 27,
      "outputs": []
    },
    {
      "cell_type": "code",
      "source": [
        "import re\n",
        "#ladoIzq=[]\n",
        "#ladoDcha=[]\n",
        "texto=[]\n",
        "\n",
        "  \n",
        "df1 = df.copy()\n",
        "data = {'virtual_host': [],    'IPs': [],    'Fecha': [],    'request': [],  'status': [], 'size': [], 'referer': [], 'user_agent': []}\n",
        "\n",
        "df_salida = pd.DataFrame(data)\n",
        "print('lineas total ------> ', len(df1))\n",
        "\n",
        "#for s, textoLinea  in enumerate(df1):\n",
        "#  print('Hola', s, textoLinea)\n",
        "\n",
        "for s, textoLinea  in enumerate(df1):\n",
        "  #if len(textoLinea) == 23:\n",
        "    #print ('---', s, textoLinea) \n",
        "  problematico= 0\n",
        "  if s<1000000000000:\n",
        "    textin = separoCorchete(textoLinea)\n",
        "\n",
        "    #print(s, len(textin), textin[0])\n",
        "    texto = custom_split(textin[0])\n",
        "    nueva_fila = {'virtual_host': texto[0],\n",
        "          'IPs': texto[1],\n",
        "          'Fecha': arregloFecha(texto[5])}  # Lo tranformo en fecha\n",
        "    #for p,q in enumerate(texto):\n",
        "      #print(p, q)\n",
        "\n",
        "    if s%10000 ==0 :\n",
        "            print(s, 'Z--->', nueva_fila)\n",
        "\n",
        "    #df_salida= df_salida.append(nueva_fila, ignore_index=True) \n",
        "    df_salida=pd.DataFrame.from_dict(nueva_fila, orient='index')  \n",
        "  '''\n",
        "  if s> problematico and s <= 300: # len(df1) :\n",
        "    \n",
        "    texto=custom_split(textoLinea)\n",
        "    \n",
        "\n",
        "\n",
        "\n",
        "    #print(s, len(texto), '<---', textoLinea) \n",
        "    #print( texto[5])\n",
        "    #print('longitud', len(texto))  \n",
        "\n",
        "    if len(texto)> 125:\n",
        "      #print(s, texto[1])\n",
        "      nueva_fila = {'virtual_host': texto[0],\n",
        "          'IPs': texto[1],\n",
        "          'Fecha': arregloFecha(texto[5]),  # Lo tranformo en fecha\n",
        "          'request': texto[11],\n",
        "          'status': texto[14],\n",
        "          'size': texto[15], \n",
        "          'referer': texto[20]}\n",
        "\n",
        "    else:\n",
        "      #print (s,'MALO    long=',  len(texto), textoLinea)\n",
        "      for p,q in enumerate(texto):\n",
        "        print(p,q)\n",
        "    \n",
        "    \n",
        "    if len(texto)> 23:            \n",
        "          nueva_fila = {'user_agent': texto[23]}\n",
        "    else:\n",
        "      nueva_fila = {'user_agent': []}\n",
        "    \n",
        "    if len(texto)> 25:      \n",
        "      nueva_fila = {'Navegador': texto[25]}\n",
        "    else:\n",
        "      nueva_fila = {'Navegador': []}\n",
        "    \n",
        "  '''\n",
        "    \n",
        "  \n",
        "  #if len(texto) <=23:\n",
        "    \n",
        "    \n",
        "        \n",
        "# Guardo la informacion en drive   \n",
        "path = ('/content/drive/MyDrive/01_COLAB/' +'direcionesIP.csv')\n",
        "df_salida.to_csv(path)\n",
        "#\n",
        "#df_salida.type\n",
        "print('Forma ', df_salida.shape)\n",
        "\n",
        "df_salida.head()\n"
      ],
      "metadata": {
        "id": "ikVtoXbubu0z",
        "outputId": "52e598da-ba8e-449c-b1e3-b46f57d5c7fa",
        "colab": {
          "base_uri": "https://localhost:8080/",
          "height": 647
        }
      },
      "execution_count": 35,
      "outputs": [
        {
          "output_type": "stream",
          "name": "stdout",
          "text": [
            "lineas total ------>  261873\n",
            "0 Z---> {'virtual_host': 'localhost', 'IPs': '127.0.0.1', 'Fecha': datetime.datetime(2014, 2, 23, 3, 10, 31)}\n",
            "10000 Z---> {'virtual_host': 'www.akumenius.com', 'IPs': '144.76.95.232', 'Fecha': datetime.datetime(2014, 2, 23, 10, 24, 39)}\n",
            "20000 Z---> {'virtual_host': 'www.akumenius.com', 'IPs': '180.76.5.171', 'Fecha': datetime.datetime(2014, 2, 23, 15, 14, 11)}\n",
            "30000 Z---> {'virtual_host': 'www.akumenius.com', 'IPs': '157.56.92.146', 'Fecha': datetime.datetime(2014, 2, 23, 19, 29, 16)}\n",
            "40000 Z---> {'virtual_host': 'www.akumenius.com', 'IPs': '66.249.76.216', 'Fecha': datetime.datetime(2014, 2, 23, 23, 40, 6)}\n",
            "50000 Z---> {'virtual_host': 'www.akumenius.com', 'IPs': '87.221.174.146', 'Fecha': datetime.datetime(2014, 2, 24, 9, 13, 48)}\n",
            "60000 Z---> {'virtual_host': 'www.akumenius.com', 'IPs': '83.37.239.190', 'Fecha': datetime.datetime(2014, 2, 24, 12, 43, 28)}\n",
            "70000 Z---> {'virtual_host': 'www.akumenius.com', 'IPs': '83.61.241.37', 'Fecha': datetime.datetime(2014, 2, 24, 14, 5, 58)}\n",
            "80000 Z---> {'virtual_host': 'www.akumenius.com', 'IPs': '66.249.76.216', 'Fecha': datetime.datetime(2014, 2, 24, 19, 0, 10)}\n",
            "90000 Z---> {'virtual_host': 'www.akumenius.com', 'IPs': '31.4.182.223', 'Fecha': datetime.datetime(2014, 2, 25, 0, 42, 19)}\n",
            "100000 Z---> {'virtual_host': 'www.akumenius.com', 'IPs': '88.14.201.73', 'Fecha': datetime.datetime(2014, 2, 25, 11, 14, 9)}\n",
            "110000 Z---> {'virtual_host': 'www.akumenius.com', 'IPs': '88.11.41.24', 'Fecha': datetime.datetime(2014, 2, 25, 15, 5, 35)}\n",
            "120000 Z---> {'virtual_host': 'www.akumenius.com', 'IPs': '66.249.76.216', 'Fecha': datetime.datetime(2014, 2, 25, 16, 43, 35)}\n",
            "130000 Z---> {'virtual_host': 'www.akumenius.com', 'IPs': '66.249.76.216', 'Fecha': datetime.datetime(2014, 2, 25, 18, 33, 40)}\n",
            "140000 Z---> {'virtual_host': 'localhost', 'IPs': '127.0.0.1', 'Fecha': datetime.datetime(2014, 2, 25, 21, 33, 28)}\n",
            "150000 Z---> {'virtual_host': 'www.akumenius.com', 'IPs': '66.249.76.216', 'Fecha': datetime.datetime(2014, 2, 26, 4, 29, 17)}\n",
            "160000 Z---> {'virtual_host': 'www.akumenius.com', 'IPs': '79.151.59.10', 'Fecha': datetime.datetime(2014, 2, 26, 12, 27, 55)}\n",
            "170000 Z---> {'virtual_host': 'www.akumenius.com', 'IPs': '84.122.81.236', 'Fecha': datetime.datetime(2014, 2, 26, 17, 30, 52)}\n",
            "180000 Z---> {'virtual_host': 'www.akumenius.com', 'IPs': '66.249.75.148', 'Fecha': datetime.datetime(2014, 2, 26, 23, 6, 51)}\n",
            "190000 Z---> {'virtual_host': 'www.akumenius.com', 'IPs': '87.218.139.190', 'Fecha': datetime.datetime(2014, 2, 27, 11, 24, 23)}\n",
            "200000 Z---> {'virtual_host': 'localhost', 'IPs': '127.0.0.1', 'Fecha': datetime.datetime(2014, 2, 27, 15, 11, 46)}\n",
            "210000 Z---> {'virtual_host': 'www.akumenius.com', 'IPs': '81.39.17.184', 'Fecha': datetime.datetime(2014, 2, 27, 16, 46, 44)}\n",
            "220000 Z---> {'virtual_host': 'www.akumenius.com', 'IPs': '186.82.214.90', 'Fecha': datetime.datetime(2014, 2, 27, 21, 14, 10)}\n",
            "230000 Z---> {'virtual_host': 'www.akumenius.com', 'IPs': '37.14.223.169', 'Fecha': datetime.datetime(2014, 2, 28, 8, 57, 28)}\n",
            "240000 Z---> {'virtual_host': 'www.akumenius.com', 'IPs': '2.136.76.13', 'Fecha': datetime.datetime(2014, 2, 28, 20, 18, 50)}\n",
            "250000 Z---> {'virtual_host': 'www.akumenius.com', 'IPs': '31.4.190.156', 'Fecha': datetime.datetime(2014, 3, 1, 12, 58, 25)}\n",
            "260000 Z---> {'virtual_host': 'localhost', 'IPs': '127.0.0.1', 'Fecha': datetime.datetime(2014, 3, 1, 23, 28, 21)}\n",
            "Forma  (3, 1)\n"
          ]
        },
        {
          "output_type": "execute_result",
          "data": {
            "text/plain": [
              "                                0\n",
              "virtual_host            localhost\n",
              "IPs                     127.0.0.1\n",
              "Fecha         2014-03-02 03:10:18"
            ],
            "text/html": [
              "\n",
              "  <div id=\"df-e049b263-feb0-46bd-86de-6546ebc0e191\">\n",
              "    <div class=\"colab-df-container\">\n",
              "      <div>\n",
              "<style scoped>\n",
              "    .dataframe tbody tr th:only-of-type {\n",
              "        vertical-align: middle;\n",
              "    }\n",
              "\n",
              "    .dataframe tbody tr th {\n",
              "        vertical-align: top;\n",
              "    }\n",
              "\n",
              "    .dataframe thead th {\n",
              "        text-align: right;\n",
              "    }\n",
              "</style>\n",
              "<table border=\"1\" class=\"dataframe\">\n",
              "  <thead>\n",
              "    <tr style=\"text-align: right;\">\n",
              "      <th></th>\n",
              "      <th>0</th>\n",
              "    </tr>\n",
              "  </thead>\n",
              "  <tbody>\n",
              "    <tr>\n",
              "      <th>virtual_host</th>\n",
              "      <td>localhost</td>\n",
              "    </tr>\n",
              "    <tr>\n",
              "      <th>IPs</th>\n",
              "      <td>127.0.0.1</td>\n",
              "    </tr>\n",
              "    <tr>\n",
              "      <th>Fecha</th>\n",
              "      <td>2014-03-02 03:10:18</td>\n",
              "    </tr>\n",
              "  </tbody>\n",
              "</table>\n",
              "</div>\n",
              "      <button class=\"colab-df-convert\" onclick=\"convertToInteractive('df-e049b263-feb0-46bd-86de-6546ebc0e191')\"\n",
              "              title=\"Convert this dataframe to an interactive table.\"\n",
              "              style=\"display:none;\">\n",
              "        \n",
              "  <svg xmlns=\"http://www.w3.org/2000/svg\" height=\"24px\"viewBox=\"0 0 24 24\"\n",
              "       width=\"24px\">\n",
              "    <path d=\"M0 0h24v24H0V0z\" fill=\"none\"/>\n",
              "    <path d=\"M18.56 5.44l.94 2.06.94-2.06 2.06-.94-2.06-.94-.94-2.06-.94 2.06-2.06.94zm-11 1L8.5 8.5l.94-2.06 2.06-.94-2.06-.94L8.5 2.5l-.94 2.06-2.06.94zm10 10l.94 2.06.94-2.06 2.06-.94-2.06-.94-.94-2.06-.94 2.06-2.06.94z\"/><path d=\"M17.41 7.96l-1.37-1.37c-.4-.4-.92-.59-1.43-.59-.52 0-1.04.2-1.43.59L10.3 9.45l-7.72 7.72c-.78.78-.78 2.05 0 2.83L4 21.41c.39.39.9.59 1.41.59.51 0 1.02-.2 1.41-.59l7.78-7.78 2.81-2.81c.8-.78.8-2.07 0-2.86zM5.41 20L4 18.59l7.72-7.72 1.47 1.35L5.41 20z\"/>\n",
              "  </svg>\n",
              "      </button>\n",
              "      \n",
              "  <style>\n",
              "    .colab-df-container {\n",
              "      display:flex;\n",
              "      flex-wrap:wrap;\n",
              "      gap: 12px;\n",
              "    }\n",
              "\n",
              "    .colab-df-convert {\n",
              "      background-color: #E8F0FE;\n",
              "      border: none;\n",
              "      border-radius: 50%;\n",
              "      cursor: pointer;\n",
              "      display: none;\n",
              "      fill: #1967D2;\n",
              "      height: 32px;\n",
              "      padding: 0 0 0 0;\n",
              "      width: 32px;\n",
              "    }\n",
              "\n",
              "    .colab-df-convert:hover {\n",
              "      background-color: #E2EBFA;\n",
              "      box-shadow: 0px 1px 2px rgba(60, 64, 67, 0.3), 0px 1px 3px 1px rgba(60, 64, 67, 0.15);\n",
              "      fill: #174EA6;\n",
              "    }\n",
              "\n",
              "    [theme=dark] .colab-df-convert {\n",
              "      background-color: #3B4455;\n",
              "      fill: #D2E3FC;\n",
              "    }\n",
              "\n",
              "    [theme=dark] .colab-df-convert:hover {\n",
              "      background-color: #434B5C;\n",
              "      box-shadow: 0px 1px 3px 1px rgba(0, 0, 0, 0.15);\n",
              "      filter: drop-shadow(0px 1px 2px rgba(0, 0, 0, 0.3));\n",
              "      fill: #FFFFFF;\n",
              "    }\n",
              "  </style>\n",
              "\n",
              "      <script>\n",
              "        const buttonEl =\n",
              "          document.querySelector('#df-e049b263-feb0-46bd-86de-6546ebc0e191 button.colab-df-convert');\n",
              "        buttonEl.style.display =\n",
              "          google.colab.kernel.accessAllowed ? 'block' : 'none';\n",
              "\n",
              "        async function convertToInteractive(key) {\n",
              "          const element = document.querySelector('#df-e049b263-feb0-46bd-86de-6546ebc0e191');\n",
              "          const dataTable =\n",
              "            await google.colab.kernel.invokeFunction('convertToInteractive',\n",
              "                                                     [key], {});\n",
              "          if (!dataTable) return;\n",
              "\n",
              "          const docLinkHtml = 'Like what you see? Visit the ' +\n",
              "            '<a target=\"_blank\" href=https://colab.research.google.com/notebooks/data_table.ipynb>data table notebook</a>'\n",
              "            + ' to learn more about interactive tables.';\n",
              "          element.innerHTML = '';\n",
              "          dataTable['output_type'] = 'display_data';\n",
              "          await google.colab.output.renderOutput(dataTable, element);\n",
              "          const docLink = document.createElement('div');\n",
              "          docLink.innerHTML = docLinkHtml;\n",
              "          element.appendChild(docLink);\n",
              "        }\n",
              "      </script>\n",
              "    </div>\n",
              "  </div>\n",
              "  "
            ]
          },
          "metadata": {},
          "execution_count": 35
        }
      ]
    },
    {
      "cell_type": "code",
      "source": [
        "nueva_fila"
      ],
      "metadata": {
        "colab": {
          "base_uri": "https://localhost:8080/"
        },
        "id": "yQMt_YEnWr7l",
        "outputId": "05257485-4eb8-4619-ebb9-c8d1abe016a7"
      },
      "execution_count": 36,
      "outputs": [
        {
          "output_type": "execute_result",
          "data": {
            "text/plain": [
              "{'Fecha': datetime.datetime(2014, 3, 2, 3, 10, 18),\n",
              " 'IPs': '127.0.0.1',\n",
              " 'virtual_host': 'localhost'}"
            ]
          },
          "metadata": {},
          "execution_count": 36
        }
      ]
    },
    {
      "cell_type": "code",
      "source": [
        "type(df_salida)\n",
        "df_salida.dtypes"
      ],
      "metadata": {
        "id": "WLzLgjEfh4W6",
        "outputId": "a8ebdfc2-00cf-40f4-9986-769e95f0e78f",
        "colab": {
          "base_uri": "https://localhost:8080/"
        }
      },
      "execution_count": 37,
      "outputs": [
        {
          "output_type": "execute_result",
          "data": {
            "text/plain": [
              "0    object\n",
              "dtype: object"
            ]
          },
          "metadata": {},
          "execution_count": 37
        }
      ]
    },
    {
      "cell_type": "code",
      "source": [
        "df_salida.shape\n"
      ],
      "metadata": {
        "colab": {
          "base_uri": "https://localhost:8080/"
        },
        "id": "HuUDPADbY4UY",
        "outputId": "29cbf925-9442-45dc-d5a5-ca08e060124e"
      },
      "execution_count": 38,
      "outputs": [
        {
          "output_type": "execute_result",
          "data": {
            "text/plain": [
              "(3, 1)"
            ]
          },
          "metadata": {},
          "execution_count": 38
        }
      ]
    },
    {
      "cell_type": "code",
      "source": [
        "df=  pd.read_csv(path)"
      ],
      "metadata": {
        "id": "W_9JUQ9TOxbi"
      },
      "execution_count": 39,
      "outputs": []
    },
    {
      "cell_type": "code",
      "source": [
        "df_salida[['IPs','referer'] ]"
      ],
      "metadata": {
        "id": "InPyU9ixuiLn",
        "colab": {
          "base_uri": "https://localhost:8080/",
          "height": 311
        },
        "outputId": "c8eb2202-01fa-49fe-c5c3-83c1b1f20359"
      },
      "execution_count": 40,
      "outputs": [
        {
          "output_type": "error",
          "ename": "KeyError",
          "evalue": "ignored",
          "traceback": [
            "\u001b[0;31m---------------------------------------------------------------------------\u001b[0m",
            "\u001b[0;31mKeyError\u001b[0m                                  Traceback (most recent call last)",
            "\u001b[0;32m<ipython-input-40-c78e325760a2>\u001b[0m in \u001b[0;36m<module>\u001b[0;34m()\u001b[0m\n\u001b[0;32m----> 1\u001b[0;31m \u001b[0mdf_salida\u001b[0m\u001b[0;34m[\u001b[0m\u001b[0;34m[\u001b[0m\u001b[0;34m'IPs'\u001b[0m\u001b[0;34m,\u001b[0m\u001b[0;34m'referer'\u001b[0m\u001b[0;34m]\u001b[0m \u001b[0;34m]\u001b[0m\u001b[0;34m\u001b[0m\u001b[0;34m\u001b[0m\u001b[0m\n\u001b[0m",
            "\u001b[0;32m/usr/local/lib/python3.7/dist-packages/pandas/core/frame.py\u001b[0m in \u001b[0;36m__getitem__\u001b[0;34m(self, key)\u001b[0m\n\u001b[1;32m   3462\u001b[0m             \u001b[0;32mif\u001b[0m \u001b[0mis_iterator\u001b[0m\u001b[0;34m(\u001b[0m\u001b[0mkey\u001b[0m\u001b[0;34m)\u001b[0m\u001b[0;34m:\u001b[0m\u001b[0;34m\u001b[0m\u001b[0;34m\u001b[0m\u001b[0m\n\u001b[1;32m   3463\u001b[0m                 \u001b[0mkey\u001b[0m \u001b[0;34m=\u001b[0m \u001b[0mlist\u001b[0m\u001b[0;34m(\u001b[0m\u001b[0mkey\u001b[0m\u001b[0;34m)\u001b[0m\u001b[0;34m\u001b[0m\u001b[0;34m\u001b[0m\u001b[0m\n\u001b[0;32m-> 3464\u001b[0;31m             \u001b[0mindexer\u001b[0m \u001b[0;34m=\u001b[0m \u001b[0mself\u001b[0m\u001b[0;34m.\u001b[0m\u001b[0mloc\u001b[0m\u001b[0;34m.\u001b[0m\u001b[0m_get_listlike_indexer\u001b[0m\u001b[0;34m(\u001b[0m\u001b[0mkey\u001b[0m\u001b[0;34m,\u001b[0m \u001b[0maxis\u001b[0m\u001b[0;34m=\u001b[0m\u001b[0;36m1\u001b[0m\u001b[0;34m)\u001b[0m\u001b[0;34m[\u001b[0m\u001b[0;36m1\u001b[0m\u001b[0;34m]\u001b[0m\u001b[0;34m\u001b[0m\u001b[0;34m\u001b[0m\u001b[0m\n\u001b[0m\u001b[1;32m   3465\u001b[0m \u001b[0;34m\u001b[0m\u001b[0m\n\u001b[1;32m   3466\u001b[0m         \u001b[0;31m# take() does not accept boolean indexers\u001b[0m\u001b[0;34m\u001b[0m\u001b[0;34m\u001b[0m\u001b[0;34m\u001b[0m\u001b[0m\n",
            "\u001b[0;32m/usr/local/lib/python3.7/dist-packages/pandas/core/indexing.py\u001b[0m in \u001b[0;36m_get_listlike_indexer\u001b[0;34m(self, key, axis)\u001b[0m\n\u001b[1;32m   1312\u001b[0m             \u001b[0mkeyarr\u001b[0m\u001b[0;34m,\u001b[0m \u001b[0mindexer\u001b[0m\u001b[0;34m,\u001b[0m \u001b[0mnew_indexer\u001b[0m \u001b[0;34m=\u001b[0m \u001b[0max\u001b[0m\u001b[0;34m.\u001b[0m\u001b[0m_reindex_non_unique\u001b[0m\u001b[0;34m(\u001b[0m\u001b[0mkeyarr\u001b[0m\u001b[0;34m)\u001b[0m\u001b[0;34m\u001b[0m\u001b[0;34m\u001b[0m\u001b[0m\n\u001b[1;32m   1313\u001b[0m \u001b[0;34m\u001b[0m\u001b[0m\n\u001b[0;32m-> 1314\u001b[0;31m         \u001b[0mself\u001b[0m\u001b[0;34m.\u001b[0m\u001b[0m_validate_read_indexer\u001b[0m\u001b[0;34m(\u001b[0m\u001b[0mkeyarr\u001b[0m\u001b[0;34m,\u001b[0m \u001b[0mindexer\u001b[0m\u001b[0;34m,\u001b[0m \u001b[0maxis\u001b[0m\u001b[0;34m)\u001b[0m\u001b[0;34m\u001b[0m\u001b[0;34m\u001b[0m\u001b[0m\n\u001b[0m\u001b[1;32m   1315\u001b[0m \u001b[0;34m\u001b[0m\u001b[0m\n\u001b[1;32m   1316\u001b[0m         if needs_i8_conversion(ax.dtype) or isinstance(\n",
            "\u001b[0;32m/usr/local/lib/python3.7/dist-packages/pandas/core/indexing.py\u001b[0m in \u001b[0;36m_validate_read_indexer\u001b[0;34m(self, key, indexer, axis)\u001b[0m\n\u001b[1;32m   1372\u001b[0m                 \u001b[0;32mif\u001b[0m \u001b[0muse_interval_msg\u001b[0m\u001b[0;34m:\u001b[0m\u001b[0;34m\u001b[0m\u001b[0;34m\u001b[0m\u001b[0m\n\u001b[1;32m   1373\u001b[0m                     \u001b[0mkey\u001b[0m \u001b[0;34m=\u001b[0m \u001b[0mlist\u001b[0m\u001b[0;34m(\u001b[0m\u001b[0mkey\u001b[0m\u001b[0;34m)\u001b[0m\u001b[0;34m\u001b[0m\u001b[0;34m\u001b[0m\u001b[0m\n\u001b[0;32m-> 1374\u001b[0;31m                 \u001b[0;32mraise\u001b[0m \u001b[0mKeyError\u001b[0m\u001b[0;34m(\u001b[0m\u001b[0;34mf\"None of [{key}] are in the [{axis_name}]\"\u001b[0m\u001b[0;34m)\u001b[0m\u001b[0;34m\u001b[0m\u001b[0;34m\u001b[0m\u001b[0m\n\u001b[0m\u001b[1;32m   1375\u001b[0m \u001b[0;34m\u001b[0m\u001b[0m\n\u001b[1;32m   1376\u001b[0m             \u001b[0mnot_found\u001b[0m \u001b[0;34m=\u001b[0m \u001b[0mlist\u001b[0m\u001b[0;34m(\u001b[0m\u001b[0mensure_index\u001b[0m\u001b[0;34m(\u001b[0m\u001b[0mkey\u001b[0m\u001b[0;34m)\u001b[0m\u001b[0;34m[\u001b[0m\u001b[0mmissing_mask\u001b[0m\u001b[0;34m.\u001b[0m\u001b[0mnonzero\u001b[0m\u001b[0;34m(\u001b[0m\u001b[0;34m)\u001b[0m\u001b[0;34m[\u001b[0m\u001b[0;36m0\u001b[0m\u001b[0;34m]\u001b[0m\u001b[0;34m]\u001b[0m\u001b[0;34m.\u001b[0m\u001b[0munique\u001b[0m\u001b[0;34m(\u001b[0m\u001b[0;34m)\u001b[0m\u001b[0;34m)\u001b[0m\u001b[0;34m\u001b[0m\u001b[0;34m\u001b[0m\u001b[0m\n",
            "\u001b[0;31mKeyError\u001b[0m: \"None of [Index(['IPs', 'referer'], dtype='object')] are in the [columns]\""
          ]
        }
      ]
    },
    {
      "cell_type": "markdown",
      "source": [
        "# Exercici 2\n",
        "Neteja, preprocesa, estructura i transforma (dataframe) les dades del registre d'Accés a la web."
      ],
      "metadata": {
        "id": "aC8gdAsVq3Am"
      }
    },
    {
      "cell_type": "code",
      "source": [
        "data_ip =df[\"IPs\"].value_counts().rename_axis('ip').reset_index(name=\"visits\")\n",
        "data_ip.head()"
      ],
      "metadata": {
        "id": "8h0EuW2ZORfl",
        "outputId": "85e26c7c-3d27-451c-8fd4-5f6d2e1c2e99",
        "colab": {
          "base_uri": "https://localhost:8080/",
          "height": 50
        }
      },
      "execution_count": null,
      "outputs": [
        {
          "output_type": "execute_result",
          "data": {
            "text/plain": [
              "Empty DataFrame\n",
              "Columns: [ip, visits]\n",
              "Index: []"
            ],
            "text/html": [
              "\n",
              "  <div id=\"df-06b95295-d29f-416c-a2e6-e02a4ec5dbfd\">\n",
              "    <div class=\"colab-df-container\">\n",
              "      <div>\n",
              "<style scoped>\n",
              "    .dataframe tbody tr th:only-of-type {\n",
              "        vertical-align: middle;\n",
              "    }\n",
              "\n",
              "    .dataframe tbody tr th {\n",
              "        vertical-align: top;\n",
              "    }\n",
              "\n",
              "    .dataframe thead th {\n",
              "        text-align: right;\n",
              "    }\n",
              "</style>\n",
              "<table border=\"1\" class=\"dataframe\">\n",
              "  <thead>\n",
              "    <tr style=\"text-align: right;\">\n",
              "      <th></th>\n",
              "      <th>ip</th>\n",
              "      <th>visits</th>\n",
              "    </tr>\n",
              "  </thead>\n",
              "  <tbody>\n",
              "  </tbody>\n",
              "</table>\n",
              "</div>\n",
              "      <button class=\"colab-df-convert\" onclick=\"convertToInteractive('df-06b95295-d29f-416c-a2e6-e02a4ec5dbfd')\"\n",
              "              title=\"Convert this dataframe to an interactive table.\"\n",
              "              style=\"display:none;\">\n",
              "        \n",
              "  <svg xmlns=\"http://www.w3.org/2000/svg\" height=\"24px\"viewBox=\"0 0 24 24\"\n",
              "       width=\"24px\">\n",
              "    <path d=\"M0 0h24v24H0V0z\" fill=\"none\"/>\n",
              "    <path d=\"M18.56 5.44l.94 2.06.94-2.06 2.06-.94-2.06-.94-.94-2.06-.94 2.06-2.06.94zm-11 1L8.5 8.5l.94-2.06 2.06-.94-2.06-.94L8.5 2.5l-.94 2.06-2.06.94zm10 10l.94 2.06.94-2.06 2.06-.94-2.06-.94-.94-2.06-.94 2.06-2.06.94z\"/><path d=\"M17.41 7.96l-1.37-1.37c-.4-.4-.92-.59-1.43-.59-.52 0-1.04.2-1.43.59L10.3 9.45l-7.72 7.72c-.78.78-.78 2.05 0 2.83L4 21.41c.39.39.9.59 1.41.59.51 0 1.02-.2 1.41-.59l7.78-7.78 2.81-2.81c.8-.78.8-2.07 0-2.86zM5.41 20L4 18.59l7.72-7.72 1.47 1.35L5.41 20z\"/>\n",
              "  </svg>\n",
              "      </button>\n",
              "      \n",
              "  <style>\n",
              "    .colab-df-container {\n",
              "      display:flex;\n",
              "      flex-wrap:wrap;\n",
              "      gap: 12px;\n",
              "    }\n",
              "\n",
              "    .colab-df-convert {\n",
              "      background-color: #E8F0FE;\n",
              "      border: none;\n",
              "      border-radius: 50%;\n",
              "      cursor: pointer;\n",
              "      display: none;\n",
              "      fill: #1967D2;\n",
              "      height: 32px;\n",
              "      padding: 0 0 0 0;\n",
              "      width: 32px;\n",
              "    }\n",
              "\n",
              "    .colab-df-convert:hover {\n",
              "      background-color: #E2EBFA;\n",
              "      box-shadow: 0px 1px 2px rgba(60, 64, 67, 0.3), 0px 1px 3px 1px rgba(60, 64, 67, 0.15);\n",
              "      fill: #174EA6;\n",
              "    }\n",
              "\n",
              "    [theme=dark] .colab-df-convert {\n",
              "      background-color: #3B4455;\n",
              "      fill: #D2E3FC;\n",
              "    }\n",
              "\n",
              "    [theme=dark] .colab-df-convert:hover {\n",
              "      background-color: #434B5C;\n",
              "      box-shadow: 0px 1px 3px 1px rgba(0, 0, 0, 0.15);\n",
              "      filter: drop-shadow(0px 1px 2px rgba(0, 0, 0, 0.3));\n",
              "      fill: #FFFFFF;\n",
              "    }\n",
              "  </style>\n",
              "\n",
              "      <script>\n",
              "        const buttonEl =\n",
              "          document.querySelector('#df-06b95295-d29f-416c-a2e6-e02a4ec5dbfd button.colab-df-convert');\n",
              "        buttonEl.style.display =\n",
              "          google.colab.kernel.accessAllowed ? 'block' : 'none';\n",
              "\n",
              "        async function convertToInteractive(key) {\n",
              "          const element = document.querySelector('#df-06b95295-d29f-416c-a2e6-e02a4ec5dbfd');\n",
              "          const dataTable =\n",
              "            await google.colab.kernel.invokeFunction('convertToInteractive',\n",
              "                                                     [key], {});\n",
              "          if (!dataTable) return;\n",
              "\n",
              "          const docLinkHtml = 'Like what you see? Visit the ' +\n",
              "            '<a target=\"_blank\" href=https://colab.research.google.com/notebooks/data_table.ipynb>data table notebook</a>'\n",
              "            + ' to learn more about interactive tables.';\n",
              "          element.innerHTML = '';\n",
              "          dataTable['output_type'] = 'display_data';\n",
              "          await google.colab.output.renderOutput(dataTable, element);\n",
              "          const docLink = document.createElement('div');\n",
              "          docLink.innerHTML = docLinkHtml;\n",
              "          element.appendChild(docLink);\n",
              "        }\n",
              "      </script>\n",
              "    </div>\n",
              "  </div>\n",
              "  "
            ]
          },
          "metadata": {},
          "execution_count": 64
        }
      ]
    },
    {
      "cell_type": "code",
      "source": [
        "ip = geocoder.ip(\"80.28.221.123\")\n",
        "print(ip.city)\n",
        "print(ip)\n",
        "print(ip.latlng)"
      ],
      "metadata": {
        "id": "skHdB2p1jKja",
        "outputId": "6bb88d49-22c0-48f4-c386-f547fab249f5",
        "colab": {
          "base_uri": "https://localhost:8080/",
          "height": 219
        }
      },
      "execution_count": null,
      "outputs": [
        {
          "output_type": "error",
          "ename": "NameError",
          "evalue": "ignored",
          "traceback": [
            "\u001b[0;31m---------------------------------------------------------------------------\u001b[0m",
            "\u001b[0;31mNameError\u001b[0m                                 Traceback (most recent call last)",
            "\u001b[0;32m<ipython-input-65-863d468e40d7>\u001b[0m in \u001b[0;36m<module>\u001b[0;34m()\u001b[0m\n\u001b[0;32m----> 1\u001b[0;31m \u001b[0mip\u001b[0m \u001b[0;34m=\u001b[0m \u001b[0mgeocoder\u001b[0m\u001b[0;34m.\u001b[0m\u001b[0mip\u001b[0m\u001b[0;34m(\u001b[0m\u001b[0;34m\"80.28.221.123\"\u001b[0m\u001b[0;34m)\u001b[0m\u001b[0;34m\u001b[0m\u001b[0;34m\u001b[0m\u001b[0m\n\u001b[0m\u001b[1;32m      2\u001b[0m \u001b[0mprint\u001b[0m\u001b[0;34m(\u001b[0m\u001b[0mip\u001b[0m\u001b[0;34m.\u001b[0m\u001b[0mcity\u001b[0m\u001b[0;34m)\u001b[0m\u001b[0;34m\u001b[0m\u001b[0;34m\u001b[0m\u001b[0m\n\u001b[1;32m      3\u001b[0m \u001b[0mprint\u001b[0m\u001b[0;34m(\u001b[0m\u001b[0mip\u001b[0m\u001b[0;34m)\u001b[0m\u001b[0;34m\u001b[0m\u001b[0;34m\u001b[0m\u001b[0m\n\u001b[1;32m      4\u001b[0m \u001b[0mprint\u001b[0m\u001b[0;34m(\u001b[0m\u001b[0mip\u001b[0m\u001b[0;34m.\u001b[0m\u001b[0mlatlng\u001b[0m\u001b[0;34m)\u001b[0m\u001b[0;34m\u001b[0m\u001b[0;34m\u001b[0m\u001b[0m\n",
            "\u001b[0;31mNameError\u001b[0m: name 'geocoder' is not defined"
          ]
        }
      ]
    },
    {
      "cell_type": "code",
      "source": [
        "len(df_salida)"
      ],
      "metadata": {
        "id": "gxmYHcKLr53v",
        "outputId": "8735bc5d-d1fb-4871-da3c-f529e42954b3",
        "colab": {
          "base_uri": "https://localhost:8080/"
        }
      },
      "execution_count": null,
      "outputs": [
        {
          "output_type": "execute_result",
          "data": {
            "text/plain": [
              "99"
            ]
          },
          "metadata": {},
          "execution_count": 74
        }
      ]
    },
    {
      "cell_type": "code",
      "source": [
        "df_salida"
      ],
      "metadata": {
        "id": "U-v12jTrswQk",
        "outputId": "b243cf4d-c2fe-42eb-9561-6143587cda35",
        "colab": {
          "base_uri": "https://localhost:8080/",
          "height": 423
        }
      },
      "execution_count": null,
      "outputs": [
        {
          "output_type": "execute_result",
          "data": {
            "text/plain": [
              "                                            Direccion            IPs  \\\n",
              "0   /hoteles-baratos/ofertas-hotel-Capitolio-Apart...  66.249.76.216   \n",
              "1   /destinos-baratos/destinosEstrelles/hoteles-en...  66.249.76.216   \n",
              "2   /hoteles-baratos/ofertas-hotel-Guitart-Termes-...  66.249.76.216   \n",
              "3   /hoteles-baratos/ofertas-hotel-Sol-Palmeras-en...  66.249.76.216   \n",
              "4   /hoteles-baratos/ofertas-hotel-The-Suites-At-S...  66.249.76.216   \n",
              "..                                                ...            ...   \n",
              "94  /destinos-baratos/destinosEstrelles/hoteles-en...  66.249.76.216   \n",
              "95  /hoteles-baratos/ofertas-hotel-Suite-Monte-Gol...  66.249.76.216   \n",
              "96  /hoteles-baratos/ofertas-hotel-Barcelo-Family-...  66.249.76.216   \n",
              "97  /hoteles-baratos/ofertas-hotel-Sofitel-Santa-C...  66.249.76.216   \n",
              "98  /destinos-baratos/destinosEstrelles/hoteles-en...  66.249.76.216   \n",
              "\n",
              "                   Fecha  Navegador  \n",
              "0   23/Feb/2014:03:15:03        NaN  \n",
              "1   23/Feb/2014:03:15:06        NaN  \n",
              "2   23/Feb/2014:03:15:06        NaN  \n",
              "3   23/Feb/2014:03:15:08        NaN  \n",
              "4   23/Feb/2014:03:15:10        NaN  \n",
              "..                   ...        ...  \n",
              "94  23/Feb/2014:03:17:26        NaN  \n",
              "95  23/Feb/2014:03:17:27        NaN  \n",
              "96  23/Feb/2014:03:17:29        NaN  \n",
              "97  23/Feb/2014:03:17:32        NaN  \n",
              "98  23/Feb/2014:03:17:34        NaN  \n",
              "\n",
              "[99 rows x 4 columns]"
            ],
            "text/html": [
              "\n",
              "  <div id=\"df-32f71f79-2604-48ad-9864-3e871f2cb937\">\n",
              "    <div class=\"colab-df-container\">\n",
              "      <div>\n",
              "<style scoped>\n",
              "    .dataframe tbody tr th:only-of-type {\n",
              "        vertical-align: middle;\n",
              "    }\n",
              "\n",
              "    .dataframe tbody tr th {\n",
              "        vertical-align: top;\n",
              "    }\n",
              "\n",
              "    .dataframe thead th {\n",
              "        text-align: right;\n",
              "    }\n",
              "</style>\n",
              "<table border=\"1\" class=\"dataframe\">\n",
              "  <thead>\n",
              "    <tr style=\"text-align: right;\">\n",
              "      <th></th>\n",
              "      <th>Direccion</th>\n",
              "      <th>IPs</th>\n",
              "      <th>Fecha</th>\n",
              "      <th>Navegador</th>\n",
              "    </tr>\n",
              "  </thead>\n",
              "  <tbody>\n",
              "    <tr>\n",
              "      <th>0</th>\n",
              "      <td>/hoteles-baratos/ofertas-hotel-Capitolio-Apart...</td>\n",
              "      <td>66.249.76.216</td>\n",
              "      <td>23/Feb/2014:03:15:03</td>\n",
              "      <td>NaN</td>\n",
              "    </tr>\n",
              "    <tr>\n",
              "      <th>1</th>\n",
              "      <td>/destinos-baratos/destinosEstrelles/hoteles-en...</td>\n",
              "      <td>66.249.76.216</td>\n",
              "      <td>23/Feb/2014:03:15:06</td>\n",
              "      <td>NaN</td>\n",
              "    </tr>\n",
              "    <tr>\n",
              "      <th>2</th>\n",
              "      <td>/hoteles-baratos/ofertas-hotel-Guitart-Termes-...</td>\n",
              "      <td>66.249.76.216</td>\n",
              "      <td>23/Feb/2014:03:15:06</td>\n",
              "      <td>NaN</td>\n",
              "    </tr>\n",
              "    <tr>\n",
              "      <th>3</th>\n",
              "      <td>/hoteles-baratos/ofertas-hotel-Sol-Palmeras-en...</td>\n",
              "      <td>66.249.76.216</td>\n",
              "      <td>23/Feb/2014:03:15:08</td>\n",
              "      <td>NaN</td>\n",
              "    </tr>\n",
              "    <tr>\n",
              "      <th>4</th>\n",
              "      <td>/hoteles-baratos/ofertas-hotel-The-Suites-At-S...</td>\n",
              "      <td>66.249.76.216</td>\n",
              "      <td>23/Feb/2014:03:15:10</td>\n",
              "      <td>NaN</td>\n",
              "    </tr>\n",
              "    <tr>\n",
              "      <th>...</th>\n",
              "      <td>...</td>\n",
              "      <td>...</td>\n",
              "      <td>...</td>\n",
              "      <td>...</td>\n",
              "    </tr>\n",
              "    <tr>\n",
              "      <th>94</th>\n",
              "      <td>/destinos-baratos/destinosEstrelles/hoteles-en...</td>\n",
              "      <td>66.249.76.216</td>\n",
              "      <td>23/Feb/2014:03:17:26</td>\n",
              "      <td>NaN</td>\n",
              "    </tr>\n",
              "    <tr>\n",
              "      <th>95</th>\n",
              "      <td>/hoteles-baratos/ofertas-hotel-Suite-Monte-Gol...</td>\n",
              "      <td>66.249.76.216</td>\n",
              "      <td>23/Feb/2014:03:17:27</td>\n",
              "      <td>NaN</td>\n",
              "    </tr>\n",
              "    <tr>\n",
              "      <th>96</th>\n",
              "      <td>/hoteles-baratos/ofertas-hotel-Barcelo-Family-...</td>\n",
              "      <td>66.249.76.216</td>\n",
              "      <td>23/Feb/2014:03:17:29</td>\n",
              "      <td>NaN</td>\n",
              "    </tr>\n",
              "    <tr>\n",
              "      <th>97</th>\n",
              "      <td>/hoteles-baratos/ofertas-hotel-Sofitel-Santa-C...</td>\n",
              "      <td>66.249.76.216</td>\n",
              "      <td>23/Feb/2014:03:17:32</td>\n",
              "      <td>NaN</td>\n",
              "    </tr>\n",
              "    <tr>\n",
              "      <th>98</th>\n",
              "      <td>/destinos-baratos/destinosEstrelles/hoteles-en...</td>\n",
              "      <td>66.249.76.216</td>\n",
              "      <td>23/Feb/2014:03:17:34</td>\n",
              "      <td>NaN</td>\n",
              "    </tr>\n",
              "  </tbody>\n",
              "</table>\n",
              "<p>99 rows × 4 columns</p>\n",
              "</div>\n",
              "      <button class=\"colab-df-convert\" onclick=\"convertToInteractive('df-32f71f79-2604-48ad-9864-3e871f2cb937')\"\n",
              "              title=\"Convert this dataframe to an interactive table.\"\n",
              "              style=\"display:none;\">\n",
              "        \n",
              "  <svg xmlns=\"http://www.w3.org/2000/svg\" height=\"24px\"viewBox=\"0 0 24 24\"\n",
              "       width=\"24px\">\n",
              "    <path d=\"M0 0h24v24H0V0z\" fill=\"none\"/>\n",
              "    <path d=\"M18.56 5.44l.94 2.06.94-2.06 2.06-.94-2.06-.94-.94-2.06-.94 2.06-2.06.94zm-11 1L8.5 8.5l.94-2.06 2.06-.94-2.06-.94L8.5 2.5l-.94 2.06-2.06.94zm10 10l.94 2.06.94-2.06 2.06-.94-2.06-.94-.94-2.06-.94 2.06-2.06.94z\"/><path d=\"M17.41 7.96l-1.37-1.37c-.4-.4-.92-.59-1.43-.59-.52 0-1.04.2-1.43.59L10.3 9.45l-7.72 7.72c-.78.78-.78 2.05 0 2.83L4 21.41c.39.39.9.59 1.41.59.51 0 1.02-.2 1.41-.59l7.78-7.78 2.81-2.81c.8-.78.8-2.07 0-2.86zM5.41 20L4 18.59l7.72-7.72 1.47 1.35L5.41 20z\"/>\n",
              "  </svg>\n",
              "      </button>\n",
              "      \n",
              "  <style>\n",
              "    .colab-df-container {\n",
              "      display:flex;\n",
              "      flex-wrap:wrap;\n",
              "      gap: 12px;\n",
              "    }\n",
              "\n",
              "    .colab-df-convert {\n",
              "      background-color: #E8F0FE;\n",
              "      border: none;\n",
              "      border-radius: 50%;\n",
              "      cursor: pointer;\n",
              "      display: none;\n",
              "      fill: #1967D2;\n",
              "      height: 32px;\n",
              "      padding: 0 0 0 0;\n",
              "      width: 32px;\n",
              "    }\n",
              "\n",
              "    .colab-df-convert:hover {\n",
              "      background-color: #E2EBFA;\n",
              "      box-shadow: 0px 1px 2px rgba(60, 64, 67, 0.3), 0px 1px 3px 1px rgba(60, 64, 67, 0.15);\n",
              "      fill: #174EA6;\n",
              "    }\n",
              "\n",
              "    [theme=dark] .colab-df-convert {\n",
              "      background-color: #3B4455;\n",
              "      fill: #D2E3FC;\n",
              "    }\n",
              "\n",
              "    [theme=dark] .colab-df-convert:hover {\n",
              "      background-color: #434B5C;\n",
              "      box-shadow: 0px 1px 3px 1px rgba(0, 0, 0, 0.15);\n",
              "      filter: drop-shadow(0px 1px 2px rgba(0, 0, 0, 0.3));\n",
              "      fill: #FFFFFF;\n",
              "    }\n",
              "  </style>\n",
              "\n",
              "      <script>\n",
              "        const buttonEl =\n",
              "          document.querySelector('#df-32f71f79-2604-48ad-9864-3e871f2cb937 button.colab-df-convert');\n",
              "        buttonEl.style.display =\n",
              "          google.colab.kernel.accessAllowed ? 'block' : 'none';\n",
              "\n",
              "        async function convertToInteractive(key) {\n",
              "          const element = document.querySelector('#df-32f71f79-2604-48ad-9864-3e871f2cb937');\n",
              "          const dataTable =\n",
              "            await google.colab.kernel.invokeFunction('convertToInteractive',\n",
              "                                                     [key], {});\n",
              "          if (!dataTable) return;\n",
              "\n",
              "          const docLinkHtml = 'Like what you see? Visit the ' +\n",
              "            '<a target=\"_blank\" href=https://colab.research.google.com/notebooks/data_table.ipynb>data table notebook</a>'\n",
              "            + ' to learn more about interactive tables.';\n",
              "          element.innerHTML = '';\n",
              "          dataTable['output_type'] = 'display_data';\n",
              "          await google.colab.output.renderOutput(dataTable, element);\n",
              "          const docLink = document.createElement('div');\n",
              "          docLink.innerHTML = docLinkHtml;\n",
              "          element.appendChild(docLink);\n",
              "        }\n",
              "      </script>\n",
              "    </div>\n",
              "  </div>\n",
              "  "
            ]
          },
          "metadata": {},
          "execution_count": 79
        }
      ]
    },
    {
      "cell_type": "markdown",
      "source": [
        "# Exercici 3\n",
        "Geolocalitza les IP's."
      ],
      "metadata": {
        "id": "dCQXNIBWrLa-"
      }
    },
    {
      "cell_type": "code",
      "source": [
        "\n",
        "location = geocoder.ip('66.249.76.216')"
      ],
      "metadata": {
        "id": "g-vbw41X2644",
        "outputId": "4e834774-03c6-4eea-9142-d1c48849a755",
        "colab": {
          "base_uri": "https://localhost:8080/",
          "height": 182
        }
      },
      "execution_count": null,
      "outputs": [
        {
          "output_type": "error",
          "ename": "NameError",
          "evalue": "ignored",
          "traceback": [
            "\u001b[0;31m---------------------------------------------------------------------------\u001b[0m",
            "\u001b[0;31mNameError\u001b[0m                                 Traceback (most recent call last)",
            "\u001b[0;32m<ipython-input-92-473b52e9d3de>\u001b[0m in \u001b[0;36m<module>\u001b[0;34m()\u001b[0m\n\u001b[1;32m      1\u001b[0m \u001b[0;34m\u001b[0m\u001b[0m\n\u001b[0;32m----> 2\u001b[0;31m \u001b[0mlocation\u001b[0m \u001b[0;34m=\u001b[0m \u001b[0mgeocoder\u001b[0m\u001b[0;34m.\u001b[0m\u001b[0mip\u001b[0m\u001b[0;34m(\u001b[0m\u001b[0;34m'66.249.76.216'\u001b[0m\u001b[0;34m)\u001b[0m\u001b[0;34m\u001b[0m\u001b[0;34m\u001b[0m\u001b[0m\n\u001b[0m",
            "\u001b[0;31mNameError\u001b[0m: name 'geocoder' is not defined"
          ]
        }
      ]
    },
    {
      "cell_type": "code",
      "source": [
        "#! pip install folium"
      ],
      "metadata": {
        "id": "OOruk04f5U8I"
      },
      "execution_count": null,
      "outputs": []
    },
    {
      "cell_type": "code",
      "source": [
        "#! pip install geocoder"
      ],
      "metadata": {
        "id": "iX3Gcc-l3Gox"
      },
      "execution_count": null,
      "outputs": []
    },
    {
      "cell_type": "code",
      "source": [
        "import geocoder\n",
        "for s, t in enumerate(df_salida['IPs']):\n",
        "  #print(s,t)\n",
        "  location = geocoder.ip(t)\n",
        "  #print(s,t, location)\n",
        "  ip = geocoder.ip(t)\n",
        "  print(s, ip, ip.latlng)\n",
        "  #location = ip.latlng\n",
        "  #map = folium.Map(location=location, zoom_start=105)\n",
        "  #folium.CircleMarker(location=location, radius=15, color=\"blue\").add_to(map)\n",
        "  #folium.Marker(location).add_to(map)\n",
        "  #log, lat = location\n",
        "  #print(log, lat)\n",
        "  #print('-->',location)\n",
        "'''\n",
        "  folium.Map(location=[45.5236, -122.6750],\n",
        "           tiles='Mapbox',\n",
        "           API_key='your.API.key')\n",
        "map\n",
        "  map  \n",
        "\n",
        "  '''#\n",
        "'''\n",
        "  location = ip.t\n",
        "\n",
        "  \n",
        "  \n",
        "map\n",
        "'''"
      ],
      "metadata": {
        "id": "EIILDe56j9HA",
        "outputId": "26b0f856-7e1c-4b16-b6a7-4de187942419",
        "colab": {
          "base_uri": "https://localhost:8080/",
          "height": 1000
        }
      },
      "execution_count": null,
      "outputs": [
        {
          "output_type": "stream",
          "name": "stderr",
          "text": [
            "Status code 429 from http://ipinfo.io/66.249.76.216/json: ERROR - 429 Client Error: Too Many Requests for url: http://ipinfo.io/66.249.76.216/json\n",
            "Status code 429 from http://ipinfo.io/66.249.76.216/json: ERROR - 429 Client Error: Too Many Requests for url: http://ipinfo.io/66.249.76.216/json\n"
          ]
        },
        {
          "output_type": "stream",
          "name": "stdout",
          "text": [
            "0 <[ERROR - 429 Client Error: Too Many Requests for url: http://ipinfo.io/66.249.76.216/json] Ipinfo - Geocode [empty]> None\n"
          ]
        },
        {
          "output_type": "stream",
          "name": "stderr",
          "text": [
            "Status code 429 from http://ipinfo.io/66.249.76.216/json: ERROR - 429 Client Error: Too Many Requests for url: http://ipinfo.io/66.249.76.216/json\n",
            "Status code 429 from http://ipinfo.io/66.249.76.216/json: ERROR - 429 Client Error: Too Many Requests for url: http://ipinfo.io/66.249.76.216/json\n",
            "Status code 429 from http://ipinfo.io/66.249.76.216/json: ERROR - 429 Client Error: Too Many Requests for url: http://ipinfo.io/66.249.76.216/json\n",
            "Status code 429 from http://ipinfo.io/66.249.76.216/json: ERROR - 429 Client Error: Too Many Requests for url: http://ipinfo.io/66.249.76.216/json\n",
            "Status code 429 from http://ipinfo.io/66.249.76.216/json: ERROR - 429 Client Error: Too Many Requests for url: http://ipinfo.io/66.249.76.216/json\n",
            "Status code 429 from http://ipinfo.io/66.249.76.216/json: ERROR - 429 Client Error: Too Many Requests for url: http://ipinfo.io/66.249.76.216/json\n",
            "Status code 429 from http://ipinfo.io/66.249.76.216/json: ERROR - 429 Client Error: Too Many Requests for url: http://ipinfo.io/66.249.76.216/json\n",
            "Status code 429 from http://ipinfo.io/66.249.76.216/json: ERROR - 429 Client Error: Too Many Requests for url: http://ipinfo.io/66.249.76.216/json\n",
            "Status code 429 from http://ipinfo.io/66.249.76.216/json: ERROR - 429 Client Error: Too Many Requests for url: http://ipinfo.io/66.249.76.216/json\n",
            "Status code 429 from http://ipinfo.io/66.249.76.216/json: ERROR - 429 Client Error: Too Many Requests for url: http://ipinfo.io/66.249.76.216/json\n",
            "Status code 429 from http://ipinfo.io/66.249.76.216/json: ERROR - 429 Client Error: Too Many Requests for url: http://ipinfo.io/66.249.76.216/json\n"
          ]
        },
        {
          "output_type": "stream",
          "name": "stdout",
          "text": [
            "1 <[ERROR - 429 Client Error: Too Many Requests for url: http://ipinfo.io/66.249.76.216/json] Ipinfo - Geocode [empty]> None\n",
            "2 <[ERROR - 429 Client Error: Too Many Requests for url: http://ipinfo.io/66.249.76.216/json] Ipinfo - Geocode [empty]> None\n",
            "3 <[ERROR - 429 Client Error: Too Many Requests for url: http://ipinfo.io/66.249.76.216/json] Ipinfo - Geocode [empty]> None\n",
            "4 <[ERROR - 429 Client Error: Too Many Requests for url: http://ipinfo.io/66.249.76.216/json] Ipinfo - Geocode [empty]> None\n",
            "5 <[ERROR - 429 Client Error: Too Many Requests for url: http://ipinfo.io/66.249.76.216/json] Ipinfo - Geocode [empty]> None\n"
          ]
        },
        {
          "output_type": "stream",
          "name": "stderr",
          "text": [
            "Status code 429 from http://ipinfo.io/66.249.76.216/json: ERROR - 429 Client Error: Too Many Requests for url: http://ipinfo.io/66.249.76.216/json\n",
            "Status code 429 from http://ipinfo.io/66.249.76.216/json: ERROR - 429 Client Error: Too Many Requests for url: http://ipinfo.io/66.249.76.216/json\n",
            "Status code 429 from http://ipinfo.io/66.249.76.216/json: ERROR - 429 Client Error: Too Many Requests for url: http://ipinfo.io/66.249.76.216/json\n",
            "Status code 429 from http://ipinfo.io/66.249.76.216/json: ERROR - 429 Client Error: Too Many Requests for url: http://ipinfo.io/66.249.76.216/json\n",
            "Status code 429 from http://ipinfo.io/66.249.76.216/json: ERROR - 429 Client Error: Too Many Requests for url: http://ipinfo.io/66.249.76.216/json\n",
            "Status code 429 from http://ipinfo.io/66.249.76.216/json: ERROR - 429 Client Error: Too Many Requests for url: http://ipinfo.io/66.249.76.216/json\n",
            "Status code 429 from http://ipinfo.io/66.249.76.216/json: ERROR - 429 Client Error: Too Many Requests for url: http://ipinfo.io/66.249.76.216/json\n",
            "Status code 429 from http://ipinfo.io/66.249.76.216/json: ERROR - 429 Client Error: Too Many Requests for url: http://ipinfo.io/66.249.76.216/json\n",
            "Status code 429 from http://ipinfo.io/66.249.76.216/json: ERROR - 429 Client Error: Too Many Requests for url: http://ipinfo.io/66.249.76.216/json\n",
            "Status code 429 from http://ipinfo.io/66.249.76.216/json: ERROR - 429 Client Error: Too Many Requests for url: http://ipinfo.io/66.249.76.216/json\n",
            "Status code 429 from http://ipinfo.io/66.249.76.216/json: ERROR - 429 Client Error: Too Many Requests for url: http://ipinfo.io/66.249.76.216/json\n"
          ]
        },
        {
          "output_type": "stream",
          "name": "stdout",
          "text": [
            "6 <[ERROR - 429 Client Error: Too Many Requests for url: http://ipinfo.io/66.249.76.216/json] Ipinfo - Geocode [empty]> None\n",
            "7 <[ERROR - 429 Client Error: Too Many Requests for url: http://ipinfo.io/66.249.76.216/json] Ipinfo - Geocode [empty]> None\n",
            "8 <[ERROR - 429 Client Error: Too Many Requests for url: http://ipinfo.io/66.249.76.216/json] Ipinfo - Geocode [empty]> None\n",
            "9 <[ERROR - 429 Client Error: Too Many Requests for url: http://ipinfo.io/66.249.76.216/json] Ipinfo - Geocode [empty]> None\n",
            "10 <[ERROR - 429 Client Error: Too Many Requests for url: http://ipinfo.io/66.249.76.216/json] Ipinfo - Geocode [empty]> None\n",
            "11 <[ERROR - 429 Client Error: Too Many Requests for url: http://ipinfo.io/66.249.76.216/json] Ipinfo - Geocode [empty]> None\n"
          ]
        },
        {
          "output_type": "stream",
          "name": "stderr",
          "text": [
            "Status code 429 from http://ipinfo.io/66.249.76.216/json: ERROR - 429 Client Error: Too Many Requests for url: http://ipinfo.io/66.249.76.216/json\n",
            "Status code 429 from http://ipinfo.io/66.249.76.216/json: ERROR - 429 Client Error: Too Many Requests for url: http://ipinfo.io/66.249.76.216/json\n"
          ]
        },
        {
          "output_type": "stream",
          "name": "stdout",
          "text": [
            "12 <[ERROR - 429 Client Error: Too Many Requests for url: http://ipinfo.io/66.249.76.216/json] Ipinfo - Geocode [empty]> None\n"
          ]
        },
        {
          "output_type": "stream",
          "name": "stderr",
          "text": [
            "Status code 429 from http://ipinfo.io/66.249.76.216/json: ERROR - 429 Client Error: Too Many Requests for url: http://ipinfo.io/66.249.76.216/json\n",
            "Status code 429 from http://ipinfo.io/66.249.76.216/json: ERROR - 429 Client Error: Too Many Requests for url: http://ipinfo.io/66.249.76.216/json\n",
            "Status code 429 from http://ipinfo.io/66.249.76.216/json: ERROR - 429 Client Error: Too Many Requests for url: http://ipinfo.io/66.249.76.216/json\n",
            "Status code 429 from http://ipinfo.io/66.249.76.216/json: ERROR - 429 Client Error: Too Many Requests for url: http://ipinfo.io/66.249.76.216/json\n",
            "Status code 429 from http://ipinfo.io/66.249.76.216/json: ERROR - 429 Client Error: Too Many Requests for url: http://ipinfo.io/66.249.76.216/json\n",
            "Status code 429 from http://ipinfo.io/66.249.76.216/json: ERROR - 429 Client Error: Too Many Requests for url: http://ipinfo.io/66.249.76.216/json\n",
            "Status code 429 from http://ipinfo.io/66.249.76.216/json: ERROR - 429 Client Error: Too Many Requests for url: http://ipinfo.io/66.249.76.216/json\n",
            "Status code 429 from http://ipinfo.io/66.249.76.216/json: ERROR - 429 Client Error: Too Many Requests for url: http://ipinfo.io/66.249.76.216/json\n",
            "Status code 429 from http://ipinfo.io/66.249.76.216/json: ERROR - 429 Client Error: Too Many Requests for url: http://ipinfo.io/66.249.76.216/json\n",
            "Status code 429 from http://ipinfo.io/66.249.76.216/json: ERROR - 429 Client Error: Too Many Requests for url: http://ipinfo.io/66.249.76.216/json\n",
            "Status code 429 from http://ipinfo.io/66.249.76.216/json: ERROR - 429 Client Error: Too Many Requests for url: http://ipinfo.io/66.249.76.216/json\n"
          ]
        },
        {
          "output_type": "stream",
          "name": "stdout",
          "text": [
            "13 <[ERROR - 429 Client Error: Too Many Requests for url: http://ipinfo.io/66.249.76.216/json] Ipinfo - Geocode [empty]> None\n",
            "14 <[ERROR - 429 Client Error: Too Many Requests for url: http://ipinfo.io/66.249.76.216/json] Ipinfo - Geocode [empty]> None\n",
            "15 <[ERROR - 429 Client Error: Too Many Requests for url: http://ipinfo.io/66.249.76.216/json] Ipinfo - Geocode [empty]> None\n",
            "16 <[ERROR - 429 Client Error: Too Many Requests for url: http://ipinfo.io/66.249.76.216/json] Ipinfo - Geocode [empty]> None\n",
            "17 <[ERROR - 429 Client Error: Too Many Requests for url: http://ipinfo.io/66.249.76.216/json] Ipinfo - Geocode [empty]> None\n"
          ]
        },
        {
          "output_type": "stream",
          "name": "stderr",
          "text": [
            "Status code 429 from http://ipinfo.io/66.249.76.216/json: ERROR - 429 Client Error: Too Many Requests for url: http://ipinfo.io/66.249.76.216/json\n",
            "Status code 429 from http://ipinfo.io/66.249.76.216/json: ERROR - 429 Client Error: Too Many Requests for url: http://ipinfo.io/66.249.76.216/json\n",
            "Status code 429 from http://ipinfo.io/66.249.76.216/json: ERROR - 429 Client Error: Too Many Requests for url: http://ipinfo.io/66.249.76.216/json\n",
            "Status code 429 from http://ipinfo.io/66.249.76.216/json: ERROR - 429 Client Error: Too Many Requests for url: http://ipinfo.io/66.249.76.216/json\n",
            "Status code 429 from http://ipinfo.io/66.249.76.216/json: ERROR - 429 Client Error: Too Many Requests for url: http://ipinfo.io/66.249.76.216/json\n",
            "Status code 429 from http://ipinfo.io/66.249.76.216/json: ERROR - 429 Client Error: Too Many Requests for url: http://ipinfo.io/66.249.76.216/json\n",
            "Status code 429 from http://ipinfo.io/66.249.76.216/json: ERROR - 429 Client Error: Too Many Requests for url: http://ipinfo.io/66.249.76.216/json\n",
            "Status code 429 from http://ipinfo.io/66.249.76.216/json: ERROR - 429 Client Error: Too Many Requests for url: http://ipinfo.io/66.249.76.216/json\n",
            "Status code 429 from http://ipinfo.io/66.249.76.216/json: ERROR - 429 Client Error: Too Many Requests for url: http://ipinfo.io/66.249.76.216/json\n",
            "Status code 429 from http://ipinfo.io/66.249.76.216/json: ERROR - 429 Client Error: Too Many Requests for url: http://ipinfo.io/66.249.76.216/json\n",
            "Status code 429 from http://ipinfo.io/66.249.76.216/json: ERROR - 429 Client Error: Too Many Requests for url: http://ipinfo.io/66.249.76.216/json\n"
          ]
        },
        {
          "output_type": "stream",
          "name": "stdout",
          "text": [
            "18 <[ERROR - 429 Client Error: Too Many Requests for url: http://ipinfo.io/66.249.76.216/json] Ipinfo - Geocode [empty]> None\n",
            "19 <[ERROR - 429 Client Error: Too Many Requests for url: http://ipinfo.io/66.249.76.216/json] Ipinfo - Geocode [empty]> None\n",
            "20 <[ERROR - 429 Client Error: Too Many Requests for url: http://ipinfo.io/66.249.76.216/json] Ipinfo - Geocode [empty]> None\n",
            "21 <[ERROR - 429 Client Error: Too Many Requests for url: http://ipinfo.io/66.249.76.216/json] Ipinfo - Geocode [empty]> None\n",
            "22 <[ERROR - 429 Client Error: Too Many Requests for url: http://ipinfo.io/66.249.76.216/json] Ipinfo - Geocode [empty]> None\n",
            "23 <[ERROR - 429 Client Error: Too Many Requests for url: http://ipinfo.io/66.249.76.216/json] Ipinfo - Geocode [empty]> None\n"
          ]
        },
        {
          "output_type": "stream",
          "name": "stderr",
          "text": [
            "Status code 429 from http://ipinfo.io/66.249.76.216/json: ERROR - 429 Client Error: Too Many Requests for url: http://ipinfo.io/66.249.76.216/json\n",
            "Status code 429 from http://ipinfo.io/66.249.76.216/json: ERROR - 429 Client Error: Too Many Requests for url: http://ipinfo.io/66.249.76.216/json\n",
            "Status code 429 from http://ipinfo.io/66.249.76.216/json: ERROR - 429 Client Error: Too Many Requests for url: http://ipinfo.io/66.249.76.216/json\n",
            "Status code 429 from http://ipinfo.io/66.249.76.216/json: ERROR - 429 Client Error: Too Many Requests for url: http://ipinfo.io/66.249.76.216/json\n",
            "Status code 429 from http://ipinfo.io/66.249.76.216/json: ERROR - 429 Client Error: Too Many Requests for url: http://ipinfo.io/66.249.76.216/json\n",
            "Status code 429 from http://ipinfo.io/66.249.76.216/json: ERROR - 429 Client Error: Too Many Requests for url: http://ipinfo.io/66.249.76.216/json\n",
            "Status code 429 from http://ipinfo.io/66.249.76.216/json: ERROR - 429 Client Error: Too Many Requests for url: http://ipinfo.io/66.249.76.216/json\n",
            "Status code 429 from http://ipinfo.io/66.249.76.216/json: ERROR - 429 Client Error: Too Many Requests for url: http://ipinfo.io/66.249.76.216/json\n",
            "Status code 429 from http://ipinfo.io/66.249.76.216/json: ERROR - 429 Client Error: Too Many Requests for url: http://ipinfo.io/66.249.76.216/json\n",
            "Status code 429 from http://ipinfo.io/66.249.76.216/json: ERROR - 429 Client Error: Too Many Requests for url: http://ipinfo.io/66.249.76.216/json\n",
            "Status code 429 from http://ipinfo.io/66.249.76.216/json: ERROR - 429 Client Error: Too Many Requests for url: http://ipinfo.io/66.249.76.216/json\n",
            "Status code 429 from http://ipinfo.io/66.249.76.216/json: ERROR - 429 Client Error: Too Many Requests for url: http://ipinfo.io/66.249.76.216/json\n",
            "Status code 429 from http://ipinfo.io/66.249.76.216/json: ERROR - 429 Client Error: Too Many Requests for url: http://ipinfo.io/66.249.76.216/json\n"
          ]
        },
        {
          "output_type": "stream",
          "name": "stdout",
          "text": [
            "24 <[ERROR - 429 Client Error: Too Many Requests for url: http://ipinfo.io/66.249.76.216/json] Ipinfo - Geocode [empty]> None\n",
            "25 <[ERROR - 429 Client Error: Too Many Requests for url: http://ipinfo.io/66.249.76.216/json] Ipinfo - Geocode [empty]> None\n",
            "26 <[ERROR - 429 Client Error: Too Many Requests for url: http://ipinfo.io/66.249.76.216/json] Ipinfo - Geocode [empty]> None\n",
            "27 <[ERROR - 429 Client Error: Too Many Requests for url: http://ipinfo.io/66.249.76.216/json] Ipinfo - Geocode [empty]> None\n",
            "28 <[ERROR - 429 Client Error: Too Many Requests for url: http://ipinfo.io/66.249.76.216/json] Ipinfo - Geocode [empty]> None\n",
            "29 <[ERROR - 429 Client Error: Too Many Requests for url: http://ipinfo.io/66.249.76.216/json] Ipinfo - Geocode [empty]> None\n"
          ]
        },
        {
          "output_type": "stream",
          "name": "stderr",
          "text": [
            "Status code 429 from http://ipinfo.io/66.249.76.216/json: ERROR - 429 Client Error: Too Many Requests for url: http://ipinfo.io/66.249.76.216/json\n",
            "Status code 429 from http://ipinfo.io/180.76.5.27/json: ERROR - 429 Client Error: Too Many Requests for url: http://ipinfo.io/180.76.5.27/json\n",
            "Status code 429 from http://ipinfo.io/180.76.5.27/json: ERROR - 429 Client Error: Too Many Requests for url: http://ipinfo.io/180.76.5.27/json\n",
            "Status code 429 from http://ipinfo.io/66.249.76.216/json: ERROR - 429 Client Error: Too Many Requests for url: http://ipinfo.io/66.249.76.216/json\n",
            "Status code 429 from http://ipinfo.io/66.249.76.216/json: ERROR - 429 Client Error: Too Many Requests for url: http://ipinfo.io/66.249.76.216/json\n",
            "Status code 429 from http://ipinfo.io/66.249.76.216/json: ERROR - 429 Client Error: Too Many Requests for url: http://ipinfo.io/66.249.76.216/json\n",
            "Status code 429 from http://ipinfo.io/66.249.76.216/json: ERROR - 429 Client Error: Too Many Requests for url: http://ipinfo.io/66.249.76.216/json\n",
            "Status code 429 from http://ipinfo.io/66.249.76.216/json: ERROR - 429 Client Error: Too Many Requests for url: http://ipinfo.io/66.249.76.216/json\n",
            "Status code 429 from http://ipinfo.io/66.249.76.216/json: ERROR - 429 Client Error: Too Many Requests for url: http://ipinfo.io/66.249.76.216/json\n",
            "Status code 429 from http://ipinfo.io/66.249.76.216/json: ERROR - 429 Client Error: Too Many Requests for url: http://ipinfo.io/66.249.76.216/json\n",
            "Status code 429 from http://ipinfo.io/66.249.76.216/json: ERROR - 429 Client Error: Too Many Requests for url: http://ipinfo.io/66.249.76.216/json\n",
            "Status code 429 from http://ipinfo.io/180.76.5.65/json: ERROR - 429 Client Error: Too Many Requests for url: http://ipinfo.io/180.76.5.65/json\n",
            "Status code 429 from http://ipinfo.io/180.76.5.65/json: ERROR - 429 Client Error: Too Many Requests for url: http://ipinfo.io/180.76.5.65/json\n",
            "Status code 429 from http://ipinfo.io/66.249.76.216/json: ERROR - 429 Client Error: Too Many Requests for url: http://ipinfo.io/66.249.76.216/json\n",
            "Status code 429 from http://ipinfo.io/66.249.76.216/json: ERROR - 429 Client Error: Too Many Requests for url: http://ipinfo.io/66.249.76.216/json\n"
          ]
        },
        {
          "output_type": "stream",
          "name": "stdout",
          "text": [
            "30 <[ERROR - 429 Client Error: Too Many Requests for url: http://ipinfo.io/66.249.76.216/json] Ipinfo - Geocode [empty]> None\n",
            "31 <[ERROR - 429 Client Error: Too Many Requests for url: http://ipinfo.io/180.76.5.27/json] Ipinfo - Geocode [empty]> None\n",
            "32 <[ERROR - 429 Client Error: Too Many Requests for url: http://ipinfo.io/66.249.76.216/json] Ipinfo - Geocode [empty]> None\n",
            "33 <[ERROR - 429 Client Error: Too Many Requests for url: http://ipinfo.io/66.249.76.216/json] Ipinfo - Geocode [empty]> None\n",
            "34 <[ERROR - 429 Client Error: Too Many Requests for url: http://ipinfo.io/66.249.76.216/json] Ipinfo - Geocode [empty]> None\n",
            "35 <[ERROR - 429 Client Error: Too Many Requests for url: http://ipinfo.io/66.249.76.216/json] Ipinfo - Geocode [empty]> None\n",
            "36 <[ERROR - 429 Client Error: Too Many Requests for url: http://ipinfo.io/180.76.5.65/json] Ipinfo - Geocode [empty]> None\n"
          ]
        },
        {
          "output_type": "stream",
          "name": "stderr",
          "text": [
            "Status code 429 from http://ipinfo.io/66.249.76.216/json: ERROR - 429 Client Error: Too Many Requests for url: http://ipinfo.io/66.249.76.216/json\n",
            "Status code 429 from http://ipinfo.io/66.249.76.216/json: ERROR - 429 Client Error: Too Many Requests for url: http://ipinfo.io/66.249.76.216/json\n",
            "Status code 429 from http://ipinfo.io/66.249.76.216/json: ERROR - 429 Client Error: Too Many Requests for url: http://ipinfo.io/66.249.76.216/json\n",
            "Status code 429 from http://ipinfo.io/66.249.76.216/json: ERROR - 429 Client Error: Too Many Requests for url: http://ipinfo.io/66.249.76.216/json\n",
            "Status code 429 from http://ipinfo.io/66.249.76.216/json: ERROR - 429 Client Error: Too Many Requests for url: http://ipinfo.io/66.249.76.216/json\n",
            "Status code 429 from http://ipinfo.io/66.249.76.216/json: ERROR - 429 Client Error: Too Many Requests for url: http://ipinfo.io/66.249.76.216/json\n",
            "Status code 429 from http://ipinfo.io/66.249.76.216/json: ERROR - 429 Client Error: Too Many Requests for url: http://ipinfo.io/66.249.76.216/json\n",
            "Status code 429 from http://ipinfo.io/66.249.76.216/json: ERROR - 429 Client Error: Too Many Requests for url: http://ipinfo.io/66.249.76.216/json\n",
            "Status code 429 from http://ipinfo.io/66.249.76.216/json: ERROR - 429 Client Error: Too Many Requests for url: http://ipinfo.io/66.249.76.216/json\n",
            "Status code 429 from http://ipinfo.io/66.249.76.216/json: ERROR - 429 Client Error: Too Many Requests for url: http://ipinfo.io/66.249.76.216/json\n",
            "Status code 429 from http://ipinfo.io/66.249.76.216/json: ERROR - 429 Client Error: Too Many Requests for url: http://ipinfo.io/66.249.76.216/json\n",
            "Status code 429 from http://ipinfo.io/66.249.76.216/json: ERROR - 429 Client Error: Too Many Requests for url: http://ipinfo.io/66.249.76.216/json\n",
            "Status code 429 from http://ipinfo.io/66.249.76.216/json: ERROR - 429 Client Error: Too Many Requests for url: http://ipinfo.io/66.249.76.216/json\n",
            "Status code 429 from http://ipinfo.io/66.249.76.216/json: ERROR - 429 Client Error: Too Many Requests for url: http://ipinfo.io/66.249.76.216/json\n",
            "Status code 429 from http://ipinfo.io/66.249.76.216/json: ERROR - 429 Client Error: Too Many Requests for url: http://ipinfo.io/66.249.76.216/json\n"
          ]
        },
        {
          "output_type": "stream",
          "name": "stdout",
          "text": [
            "37 <[ERROR - 429 Client Error: Too Many Requests for url: http://ipinfo.io/66.249.76.216/json] Ipinfo - Geocode [empty]> None\n",
            "38 <[ERROR - 429 Client Error: Too Many Requests for url: http://ipinfo.io/66.249.76.216/json] Ipinfo - Geocode [empty]> None\n",
            "39 <[ERROR - 429 Client Error: Too Many Requests for url: http://ipinfo.io/66.249.76.216/json] Ipinfo - Geocode [empty]> None\n",
            "40 <[ERROR - 429 Client Error: Too Many Requests for url: http://ipinfo.io/66.249.76.216/json] Ipinfo - Geocode [empty]> None\n",
            "41 <[ERROR - 429 Client Error: Too Many Requests for url: http://ipinfo.io/66.249.76.216/json] Ipinfo - Geocode [empty]> None\n",
            "42 <[ERROR - 429 Client Error: Too Many Requests for url: http://ipinfo.io/66.249.76.216/json] Ipinfo - Geocode [empty]> None\n",
            "43 <[ERROR - 429 Client Error: Too Many Requests for url: http://ipinfo.io/66.249.76.216/json] Ipinfo - Geocode [empty]> None\n",
            "44 <[ERROR - 429 Client Error: Too Many Requests for url: http://ipinfo.io/66.249.76.216/json] Ipinfo - Geocode [empty]> None\n"
          ]
        },
        {
          "output_type": "stream",
          "name": "stderr",
          "text": [
            "Status code 429 from http://ipinfo.io/66.249.76.216/json: ERROR - 429 Client Error: Too Many Requests for url: http://ipinfo.io/66.249.76.216/json\n",
            "Status code 429 from http://ipinfo.io/66.249.76.216/json: ERROR - 429 Client Error: Too Many Requests for url: http://ipinfo.io/66.249.76.216/json\n",
            "Status code 429 from http://ipinfo.io/66.249.76.216/json: ERROR - 429 Client Error: Too Many Requests for url: http://ipinfo.io/66.249.76.216/json\n",
            "Status code 429 from http://ipinfo.io/66.249.76.216/json: ERROR - 429 Client Error: Too Many Requests for url: http://ipinfo.io/66.249.76.216/json\n",
            "Status code 429 from http://ipinfo.io/66.249.76.216/json: ERROR - 429 Client Error: Too Many Requests for url: http://ipinfo.io/66.249.76.216/json\n",
            "Status code 429 from http://ipinfo.io/66.249.76.216/json: ERROR - 429 Client Error: Too Many Requests for url: http://ipinfo.io/66.249.76.216/json\n",
            "Status code 429 from http://ipinfo.io/66.249.76.216/json: ERROR - 429 Client Error: Too Many Requests for url: http://ipinfo.io/66.249.76.216/json\n",
            "Status code 429 from http://ipinfo.io/66.249.76.216/json: ERROR - 429 Client Error: Too Many Requests for url: http://ipinfo.io/66.249.76.216/json\n",
            "Status code 429 from http://ipinfo.io/66.249.76.216/json: ERROR - 429 Client Error: Too Many Requests for url: http://ipinfo.io/66.249.76.216/json\n",
            "Status code 429 from http://ipinfo.io/157.55.33.97/json: ERROR - 429 Client Error: Too Many Requests for url: http://ipinfo.io/157.55.33.97/json\n",
            "Status code 429 from http://ipinfo.io/157.55.33.97/json: ERROR - 429 Client Error: Too Many Requests for url: http://ipinfo.io/157.55.33.97/json\n",
            "Status code 429 from http://ipinfo.io/66.249.76.216/json: ERROR - 429 Client Error: Too Many Requests for url: http://ipinfo.io/66.249.76.216/json\n",
            "Status code 429 from http://ipinfo.io/66.249.76.216/json: ERROR - 429 Client Error: Too Many Requests for url: http://ipinfo.io/66.249.76.216/json\n",
            "Status code 429 from http://ipinfo.io/66.249.76.216/json: ERROR - 429 Client Error: Too Many Requests for url: http://ipinfo.io/66.249.76.216/json\n",
            "Status code 429 from http://ipinfo.io/66.249.76.216/json: ERROR - 429 Client Error: Too Many Requests for url: http://ipinfo.io/66.249.76.216/json\n"
          ]
        },
        {
          "output_type": "stream",
          "name": "stdout",
          "text": [
            "45 <[ERROR - 429 Client Error: Too Many Requests for url: http://ipinfo.io/66.249.76.216/json] Ipinfo - Geocode [empty]> None\n",
            "46 <[ERROR - 429 Client Error: Too Many Requests for url: http://ipinfo.io/66.249.76.216/json] Ipinfo - Geocode [empty]> None\n",
            "47 <[ERROR - 429 Client Error: Too Many Requests for url: http://ipinfo.io/66.249.76.216/json] Ipinfo - Geocode [empty]> None\n",
            "48 <[ERROR - 429 Client Error: Too Many Requests for url: http://ipinfo.io/66.249.76.216/json] Ipinfo - Geocode [empty]> None\n",
            "49 <[ERROR - 429 Client Error: Too Many Requests for url: http://ipinfo.io/66.249.76.216/json] Ipinfo - Geocode [empty]> None\n",
            "50 <[ERROR - 429 Client Error: Too Many Requests for url: http://ipinfo.io/157.55.33.97/json] Ipinfo - Geocode [empty]> None\n",
            "51 <[ERROR - 429 Client Error: Too Many Requests for url: http://ipinfo.io/66.249.76.216/json] Ipinfo - Geocode [empty]> None\n",
            "52 <[ERROR - 429 Client Error: Too Many Requests for url: http://ipinfo.io/66.249.76.216/json] Ipinfo - Geocode [empty]> None\n"
          ]
        },
        {
          "output_type": "stream",
          "name": "stderr",
          "text": [
            "Status code 429 from http://ipinfo.io/157.55.33.97/json: ERROR - 429 Client Error: Too Many Requests for url: http://ipinfo.io/157.55.33.97/json\n",
            "Status code 429 from http://ipinfo.io/157.55.33.97/json: ERROR - 429 Client Error: Too Many Requests for url: http://ipinfo.io/157.55.33.97/json\n",
            "Status code 429 from http://ipinfo.io/66.249.76.216/json: ERROR - 429 Client Error: Too Many Requests for url: http://ipinfo.io/66.249.76.216/json\n",
            "Status code 429 from http://ipinfo.io/66.249.76.216/json: ERROR - 429 Client Error: Too Many Requests for url: http://ipinfo.io/66.249.76.216/json\n",
            "Status code 429 from http://ipinfo.io/157.55.33.97/json: ERROR - 429 Client Error: Too Many Requests for url: http://ipinfo.io/157.55.33.97/json\n",
            "Status code 429 from http://ipinfo.io/157.55.33.97/json: ERROR - 429 Client Error: Too Many Requests for url: http://ipinfo.io/157.55.33.97/json\n",
            "Status code 429 from http://ipinfo.io/66.249.76.216/json: ERROR - 429 Client Error: Too Many Requests for url: http://ipinfo.io/66.249.76.216/json\n",
            "Status code 429 from http://ipinfo.io/66.249.76.216/json: ERROR - 429 Client Error: Too Many Requests for url: http://ipinfo.io/66.249.76.216/json\n",
            "Status code 429 from http://ipinfo.io/157.55.33.97/json: ERROR - 429 Client Error: Too Many Requests for url: http://ipinfo.io/157.55.33.97/json\n",
            "Status code 429 from http://ipinfo.io/157.55.33.97/json: ERROR - 429 Client Error: Too Many Requests for url: http://ipinfo.io/157.55.33.97/json\n",
            "Status code 429 from http://ipinfo.io/66.249.76.216/json: ERROR - 429 Client Error: Too Many Requests for url: http://ipinfo.io/66.249.76.216/json\n",
            "Status code 429 from http://ipinfo.io/66.249.76.216/json: ERROR - 429 Client Error: Too Many Requests for url: http://ipinfo.io/66.249.76.216/json\n",
            "Status code 429 from http://ipinfo.io/157.55.33.97/json: ERROR - 429 Client Error: Too Many Requests for url: http://ipinfo.io/157.55.33.97/json\n",
            "Status code 429 from http://ipinfo.io/157.55.33.97/json: ERROR - 429 Client Error: Too Many Requests for url: http://ipinfo.io/157.55.33.97/json\n",
            "Status code 429 from http://ipinfo.io/66.249.76.216/json: ERROR - 429 Client Error: Too Many Requests for url: http://ipinfo.io/66.249.76.216/json\n",
            "Status code 429 from http://ipinfo.io/66.249.76.216/json: ERROR - 429 Client Error: Too Many Requests for url: http://ipinfo.io/66.249.76.216/json\n"
          ]
        },
        {
          "output_type": "stream",
          "name": "stdout",
          "text": [
            "53 <[ERROR - 429 Client Error: Too Many Requests for url: http://ipinfo.io/157.55.33.97/json] Ipinfo - Geocode [empty]> None\n",
            "54 <[ERROR - 429 Client Error: Too Many Requests for url: http://ipinfo.io/66.249.76.216/json] Ipinfo - Geocode [empty]> None\n",
            "55 <[ERROR - 429 Client Error: Too Many Requests for url: http://ipinfo.io/157.55.33.97/json] Ipinfo - Geocode [empty]> None\n",
            "56 <[ERROR - 429 Client Error: Too Many Requests for url: http://ipinfo.io/66.249.76.216/json] Ipinfo - Geocode [empty]> None\n",
            "57 <[ERROR - 429 Client Error: Too Many Requests for url: http://ipinfo.io/157.55.33.97/json] Ipinfo - Geocode [empty]> None\n",
            "58 <[ERROR - 429 Client Error: Too Many Requests for url: http://ipinfo.io/66.249.76.216/json] Ipinfo - Geocode [empty]> None\n",
            "59 <[ERROR - 429 Client Error: Too Many Requests for url: http://ipinfo.io/157.55.33.97/json] Ipinfo - Geocode [empty]> None\n"
          ]
        },
        {
          "output_type": "stream",
          "name": "stderr",
          "text": [
            "Status code 429 from http://ipinfo.io/66.249.76.216/json: ERROR - 429 Client Error: Too Many Requests for url: http://ipinfo.io/66.249.76.216/json\n",
            "Status code 429 from http://ipinfo.io/66.249.76.216/json: ERROR - 429 Client Error: Too Many Requests for url: http://ipinfo.io/66.249.76.216/json\n",
            "Status code 429 from http://ipinfo.io/157.55.33.97/json: ERROR - 429 Client Error: Too Many Requests for url: http://ipinfo.io/157.55.33.97/json\n",
            "Status code 429 from http://ipinfo.io/157.55.33.97/json: ERROR - 429 Client Error: Too Many Requests for url: http://ipinfo.io/157.55.33.97/json\n",
            "Status code 429 from http://ipinfo.io/217.12.28.5/json: ERROR - 429 Client Error: Too Many Requests for url: http://ipinfo.io/217.12.28.5/json\n",
            "Status code 429 from http://ipinfo.io/217.12.28.5/json: ERROR - 429 Client Error: Too Many Requests for url: http://ipinfo.io/217.12.28.5/json\n",
            "Status code 429 from http://ipinfo.io/66.249.76.216/json: ERROR - 429 Client Error: Too Many Requests for url: http://ipinfo.io/66.249.76.216/json\n",
            "Status code 429 from http://ipinfo.io/66.249.76.216/json: ERROR - 429 Client Error: Too Many Requests for url: http://ipinfo.io/66.249.76.216/json\n",
            "Status code 429 from http://ipinfo.io/157.55.33.97/json: ERROR - 429 Client Error: Too Many Requests for url: http://ipinfo.io/157.55.33.97/json\n",
            "Status code 429 from http://ipinfo.io/157.55.33.97/json: ERROR - 429 Client Error: Too Many Requests for url: http://ipinfo.io/157.55.33.97/json\n",
            "Status code 429 from http://ipinfo.io/66.249.76.216/json: ERROR - 429 Client Error: Too Many Requests for url: http://ipinfo.io/66.249.76.216/json\n",
            "Status code 429 from http://ipinfo.io/66.249.76.216/json: ERROR - 429 Client Error: Too Many Requests for url: http://ipinfo.io/66.249.76.216/json\n"
          ]
        },
        {
          "output_type": "stream",
          "name": "stdout",
          "text": [
            "60 <[ERROR - 429 Client Error: Too Many Requests for url: http://ipinfo.io/66.249.76.216/json] Ipinfo - Geocode [empty]> None\n",
            "61 <[ERROR - 429 Client Error: Too Many Requests for url: http://ipinfo.io/66.249.76.216/json] Ipinfo - Geocode [empty]> None\n",
            "62 <[ERROR - 429 Client Error: Too Many Requests for url: http://ipinfo.io/157.55.33.97/json] Ipinfo - Geocode [empty]> None\n",
            "63 <[ERROR - 429 Client Error: Too Many Requests for url: http://ipinfo.io/217.12.28.5/json] Ipinfo - Geocode [empty]> None\n",
            "64 <[ERROR - 429 Client Error: Too Many Requests for url: http://ipinfo.io/66.249.76.216/json] Ipinfo - Geocode [empty]> None\n",
            "65 <[ERROR - 429 Client Error: Too Many Requests for url: http://ipinfo.io/157.55.33.97/json] Ipinfo - Geocode [empty]> None\n",
            "66 <[ERROR - 429 Client Error: Too Many Requests for url: http://ipinfo.io/66.249.76.216/json] Ipinfo - Geocode [empty]> None\n"
          ]
        },
        {
          "output_type": "stream",
          "name": "stderr",
          "text": [
            "Status code 429 from http://ipinfo.io/66.249.76.216/json: ERROR - 429 Client Error: Too Many Requests for url: http://ipinfo.io/66.249.76.216/json\n",
            "Status code 429 from http://ipinfo.io/66.249.76.216/json: ERROR - 429 Client Error: Too Many Requests for url: http://ipinfo.io/66.249.76.216/json\n",
            "Status code 429 from http://ipinfo.io/66.249.76.216/json: ERROR - 429 Client Error: Too Many Requests for url: http://ipinfo.io/66.249.76.216/json\n",
            "Status code 429 from http://ipinfo.io/66.249.76.216/json: ERROR - 429 Client Error: Too Many Requests for url: http://ipinfo.io/66.249.76.216/json\n",
            "Status code 429 from http://ipinfo.io/66.249.76.216/json: ERROR - 429 Client Error: Too Many Requests for url: http://ipinfo.io/66.249.76.216/json\n",
            "Status code 429 from http://ipinfo.io/66.249.76.216/json: ERROR - 429 Client Error: Too Many Requests for url: http://ipinfo.io/66.249.76.216/json\n",
            "Status code 429 from http://ipinfo.io/217.12.28.5/json: ERROR - 429 Client Error: Too Many Requests for url: http://ipinfo.io/217.12.28.5/json\n",
            "Status code 429 from http://ipinfo.io/217.12.28.5/json: ERROR - 429 Client Error: Too Many Requests for url: http://ipinfo.io/217.12.28.5/json\n",
            "Status code 429 from http://ipinfo.io/66.249.76.216/json: ERROR - 429 Client Error: Too Many Requests for url: http://ipinfo.io/66.249.76.216/json\n",
            "Status code 429 from http://ipinfo.io/66.249.76.216/json: ERROR - 429 Client Error: Too Many Requests for url: http://ipinfo.io/66.249.76.216/json\n",
            "Status code 429 from http://ipinfo.io/66.249.76.216/json: ERROR - 429 Client Error: Too Many Requests for url: http://ipinfo.io/66.249.76.216/json\n",
            "Status code 429 from http://ipinfo.io/66.249.76.216/json: ERROR - 429 Client Error: Too Many Requests for url: http://ipinfo.io/66.249.76.216/json\n",
            "Status code 429 from http://ipinfo.io/66.249.76.216/json: ERROR - 429 Client Error: Too Many Requests for url: http://ipinfo.io/66.249.76.216/json\n",
            "Status code 429 from http://ipinfo.io/66.249.76.216/json: ERROR - 429 Client Error: Too Many Requests for url: http://ipinfo.io/66.249.76.216/json\n",
            "Status code 429 from http://ipinfo.io/66.249.76.216/json: ERROR - 429 Client Error: Too Many Requests for url: http://ipinfo.io/66.249.76.216/json\n"
          ]
        },
        {
          "output_type": "stream",
          "name": "stdout",
          "text": [
            "67 <[ERROR - 429 Client Error: Too Many Requests for url: http://ipinfo.io/66.249.76.216/json] Ipinfo - Geocode [empty]> None\n",
            "68 <[ERROR - 429 Client Error: Too Many Requests for url: http://ipinfo.io/66.249.76.216/json] Ipinfo - Geocode [empty]> None\n",
            "69 <[ERROR - 429 Client Error: Too Many Requests for url: http://ipinfo.io/66.249.76.216/json] Ipinfo - Geocode [empty]> None\n",
            "70 <[ERROR - 429 Client Error: Too Many Requests for url: http://ipinfo.io/217.12.28.5/json] Ipinfo - Geocode [empty]> None\n",
            "71 <[ERROR - 429 Client Error: Too Many Requests for url: http://ipinfo.io/66.249.76.216/json] Ipinfo - Geocode [empty]> None\n",
            "72 <[ERROR - 429 Client Error: Too Many Requests for url: http://ipinfo.io/66.249.76.216/json] Ipinfo - Geocode [empty]> None\n",
            "73 <[ERROR - 429 Client Error: Too Many Requests for url: http://ipinfo.io/66.249.76.216/json] Ipinfo - Geocode [empty]> None\n"
          ]
        },
        {
          "output_type": "stream",
          "name": "stderr",
          "text": [
            "Status code 429 from http://ipinfo.io/66.249.76.216/json: ERROR - 429 Client Error: Too Many Requests for url: http://ipinfo.io/66.249.76.216/json\n",
            "Status code 429 from http://ipinfo.io/66.249.76.216/json: ERROR - 429 Client Error: Too Many Requests for url: http://ipinfo.io/66.249.76.216/json\n",
            "Status code 429 from http://ipinfo.io/66.249.76.216/json: ERROR - 429 Client Error: Too Many Requests for url: http://ipinfo.io/66.249.76.216/json\n",
            "Status code 429 from http://ipinfo.io/66.249.76.216/json: ERROR - 429 Client Error: Too Many Requests for url: http://ipinfo.io/66.249.76.216/json\n",
            "Status code 429 from http://ipinfo.io/66.249.76.216/json: ERROR - 429 Client Error: Too Many Requests for url: http://ipinfo.io/66.249.76.216/json\n",
            "Status code 429 from http://ipinfo.io/180.76.6.64/json: ERROR - 429 Client Error: Too Many Requests for url: http://ipinfo.io/180.76.6.64/json\n",
            "Status code 429 from http://ipinfo.io/180.76.6.64/json: ERROR - 429 Client Error: Too Many Requests for url: http://ipinfo.io/180.76.6.64/json\n",
            "Status code 429 from http://ipinfo.io/66.249.76.216/json: ERROR - 429 Client Error: Too Many Requests for url: http://ipinfo.io/66.249.76.216/json\n",
            "Status code 429 from http://ipinfo.io/66.249.76.216/json: ERROR - 429 Client Error: Too Many Requests for url: http://ipinfo.io/66.249.76.216/json\n",
            "Status code 429 from http://ipinfo.io/66.249.76.216/json: ERROR - 429 Client Error: Too Many Requests for url: http://ipinfo.io/66.249.76.216/json\n",
            "Status code 429 from http://ipinfo.io/66.249.76.216/json: ERROR - 429 Client Error: Too Many Requests for url: http://ipinfo.io/66.249.76.216/json\n",
            "Status code 429 from http://ipinfo.io/66.249.76.216/json: ERROR - 429 Client Error: Too Many Requests for url: http://ipinfo.io/66.249.76.216/json\n",
            "Status code 429 from http://ipinfo.io/66.249.76.216/json: ERROR - 429 Client Error: Too Many Requests for url: http://ipinfo.io/66.249.76.216/json\n",
            "Status code 429 from http://ipinfo.io/66.249.76.216/json: ERROR - 429 Client Error: Too Many Requests for url: http://ipinfo.io/66.249.76.216/json\n"
          ]
        },
        {
          "output_type": "stream",
          "name": "stdout",
          "text": [
            "74 <[ERROR - 429 Client Error: Too Many Requests for url: http://ipinfo.io/66.249.76.216/json] Ipinfo - Geocode [empty]> None\n",
            "75 <[ERROR - 429 Client Error: Too Many Requests for url: http://ipinfo.io/66.249.76.216/json] Ipinfo - Geocode [empty]> None\n",
            "76 <[ERROR - 429 Client Error: Too Many Requests for url: http://ipinfo.io/66.249.76.216/json] Ipinfo - Geocode [empty]> None\n",
            "77 <[ERROR - 429 Client Error: Too Many Requests for url: http://ipinfo.io/180.76.6.64/json] Ipinfo - Geocode [empty]> None\n",
            "78 <[ERROR - 429 Client Error: Too Many Requests for url: http://ipinfo.io/66.249.76.216/json] Ipinfo - Geocode [empty]> None\n",
            "79 <[ERROR - 429 Client Error: Too Many Requests for url: http://ipinfo.io/66.249.76.216/json] Ipinfo - Geocode [empty]> None\n",
            "80 <[ERROR - 429 Client Error: Too Many Requests for url: http://ipinfo.io/66.249.76.216/json] Ipinfo - Geocode [empty]> None\n"
          ]
        },
        {
          "output_type": "stream",
          "name": "stderr",
          "text": [
            "Status code 429 from http://ipinfo.io/66.249.76.216/json: ERROR - 429 Client Error: Too Many Requests for url: http://ipinfo.io/66.249.76.216/json\n",
            "Status code 429 from http://ipinfo.io/66.249.76.216/json: ERROR - 429 Client Error: Too Many Requests for url: http://ipinfo.io/66.249.76.216/json\n",
            "Status code 429 from http://ipinfo.io/66.249.76.216/json: ERROR - 429 Client Error: Too Many Requests for url: http://ipinfo.io/66.249.76.216/json\n",
            "Status code 429 from http://ipinfo.io/66.249.76.216/json: ERROR - 429 Client Error: Too Many Requests for url: http://ipinfo.io/66.249.76.216/json\n",
            "Status code 429 from http://ipinfo.io/66.249.76.216/json: ERROR - 429 Client Error: Too Many Requests for url: http://ipinfo.io/66.249.76.216/json\n",
            "Status code 429 from http://ipinfo.io/66.249.76.216/json: ERROR - 429 Client Error: Too Many Requests for url: http://ipinfo.io/66.249.76.216/json\n",
            "Status code 429 from http://ipinfo.io/66.249.76.216/json: ERROR - 429 Client Error: Too Many Requests for url: http://ipinfo.io/66.249.76.216/json\n",
            "Status code 429 from http://ipinfo.io/66.249.76.216/json: ERROR - 429 Client Error: Too Many Requests for url: http://ipinfo.io/66.249.76.216/json\n",
            "Status code 429 from http://ipinfo.io/66.249.76.216/json: ERROR - 429 Client Error: Too Many Requests for url: http://ipinfo.io/66.249.76.216/json\n",
            "Status code 429 from http://ipinfo.io/66.249.76.216/json: ERROR - 429 Client Error: Too Many Requests for url: http://ipinfo.io/66.249.76.216/json\n",
            "Status code 429 from http://ipinfo.io/66.249.76.216/json: ERROR - 429 Client Error: Too Many Requests for url: http://ipinfo.io/66.249.76.216/json\n",
            "Status code 429 from http://ipinfo.io/66.249.76.216/json: ERROR - 429 Client Error: Too Many Requests for url: http://ipinfo.io/66.249.76.216/json\n",
            "Status code 429 from http://ipinfo.io/66.249.76.216/json: ERROR - 429 Client Error: Too Many Requests for url: http://ipinfo.io/66.249.76.216/json\n",
            "Status code 429 from http://ipinfo.io/66.249.76.216/json: ERROR - 429 Client Error: Too Many Requests for url: http://ipinfo.io/66.249.76.216/json\n"
          ]
        },
        {
          "output_type": "stream",
          "name": "stdout",
          "text": [
            "81 <[ERROR - 429 Client Error: Too Many Requests for url: http://ipinfo.io/66.249.76.216/json] Ipinfo - Geocode [empty]> None\n",
            "82 <[ERROR - 429 Client Error: Too Many Requests for url: http://ipinfo.io/66.249.76.216/json] Ipinfo - Geocode [empty]> None\n",
            "83 <[ERROR - 429 Client Error: Too Many Requests for url: http://ipinfo.io/66.249.76.216/json] Ipinfo - Geocode [empty]> None\n",
            "84 <[ERROR - 429 Client Error: Too Many Requests for url: http://ipinfo.io/66.249.76.216/json] Ipinfo - Geocode [empty]> None\n",
            "85 <[ERROR - 429 Client Error: Too Many Requests for url: http://ipinfo.io/66.249.76.216/json] Ipinfo - Geocode [empty]> None\n",
            "86 <[ERROR - 429 Client Error: Too Many Requests for url: http://ipinfo.io/66.249.76.216/json] Ipinfo - Geocode [empty]> None\n",
            "87 <[ERROR - 429 Client Error: Too Many Requests for url: http://ipinfo.io/66.249.76.216/json] Ipinfo - Geocode [empty]> None\n"
          ]
        },
        {
          "output_type": "stream",
          "name": "stderr",
          "text": [
            "Status code 429 from http://ipinfo.io/66.249.76.216/json: ERROR - 429 Client Error: Too Many Requests for url: http://ipinfo.io/66.249.76.216/json\n",
            "Status code 429 from http://ipinfo.io/66.249.76.216/json: ERROR - 429 Client Error: Too Many Requests for url: http://ipinfo.io/66.249.76.216/json\n",
            "Status code 429 from http://ipinfo.io/66.249.76.216/json: ERROR - 429 Client Error: Too Many Requests for url: http://ipinfo.io/66.249.76.216/json\n",
            "Status code 429 from http://ipinfo.io/66.249.76.216/json: ERROR - 429 Client Error: Too Many Requests for url: http://ipinfo.io/66.249.76.216/json\n",
            "Status code 429 from http://ipinfo.io/66.249.76.216/json: ERROR - 429 Client Error: Too Many Requests for url: http://ipinfo.io/66.249.76.216/json\n",
            "Status code 429 from http://ipinfo.io/66.249.76.216/json: ERROR - 429 Client Error: Too Many Requests for url: http://ipinfo.io/66.249.76.216/json\n",
            "Status code 429 from http://ipinfo.io/66.249.76.216/json: ERROR - 429 Client Error: Too Many Requests for url: http://ipinfo.io/66.249.76.216/json\n",
            "Status code 429 from http://ipinfo.io/66.249.76.216/json: ERROR - 429 Client Error: Too Many Requests for url: http://ipinfo.io/66.249.76.216/json\n",
            "Status code 429 from http://ipinfo.io/66.249.76.216/json: ERROR - 429 Client Error: Too Many Requests for url: http://ipinfo.io/66.249.76.216/json\n",
            "Status code 429 from http://ipinfo.io/66.249.76.216/json: ERROR - 429 Client Error: Too Many Requests for url: http://ipinfo.io/66.249.76.216/json\n",
            "Status code 429 from http://ipinfo.io/66.249.76.216/json: ERROR - 429 Client Error: Too Many Requests for url: http://ipinfo.io/66.249.76.216/json\n",
            "Status code 429 from http://ipinfo.io/66.249.76.216/json: ERROR - 429 Client Error: Too Many Requests for url: http://ipinfo.io/66.249.76.216/json\n",
            "Status code 429 from http://ipinfo.io/66.249.76.216/json: ERROR - 429 Client Error: Too Many Requests for url: http://ipinfo.io/66.249.76.216/json\n",
            "Status code 429 from http://ipinfo.io/66.249.76.216/json: ERROR - 429 Client Error: Too Many Requests for url: http://ipinfo.io/66.249.76.216/json\n"
          ]
        },
        {
          "output_type": "stream",
          "name": "stdout",
          "text": [
            "88 <[ERROR - 429 Client Error: Too Many Requests for url: http://ipinfo.io/66.249.76.216/json] Ipinfo - Geocode [empty]> None\n",
            "89 <[ERROR - 429 Client Error: Too Many Requests for url: http://ipinfo.io/66.249.76.216/json] Ipinfo - Geocode [empty]> None\n",
            "90 <[ERROR - 429 Client Error: Too Many Requests for url: http://ipinfo.io/66.249.76.216/json] Ipinfo - Geocode [empty]> None\n",
            "91 <[ERROR - 429 Client Error: Too Many Requests for url: http://ipinfo.io/66.249.76.216/json] Ipinfo - Geocode [empty]> None\n",
            "92 <[ERROR - 429 Client Error: Too Many Requests for url: http://ipinfo.io/66.249.76.216/json] Ipinfo - Geocode [empty]> None\n",
            "93 <[ERROR - 429 Client Error: Too Many Requests for url: http://ipinfo.io/66.249.76.216/json] Ipinfo - Geocode [empty]> None\n",
            "94 <[ERROR - 429 Client Error: Too Many Requests for url: http://ipinfo.io/66.249.76.216/json] Ipinfo - Geocode [empty]> None\n"
          ]
        },
        {
          "output_type": "stream",
          "name": "stderr",
          "text": [
            "Status code 429 from http://ipinfo.io/66.249.76.216/json: ERROR - 429 Client Error: Too Many Requests for url: http://ipinfo.io/66.249.76.216/json\n",
            "Status code 429 from http://ipinfo.io/66.249.76.216/json: ERROR - 429 Client Error: Too Many Requests for url: http://ipinfo.io/66.249.76.216/json\n",
            "Status code 429 from http://ipinfo.io/66.249.76.216/json: ERROR - 429 Client Error: Too Many Requests for url: http://ipinfo.io/66.249.76.216/json\n",
            "Status code 429 from http://ipinfo.io/66.249.76.216/json: ERROR - 429 Client Error: Too Many Requests for url: http://ipinfo.io/66.249.76.216/json\n",
            "Status code 429 from http://ipinfo.io/66.249.76.216/json: ERROR - 429 Client Error: Too Many Requests for url: http://ipinfo.io/66.249.76.216/json\n",
            "Status code 429 from http://ipinfo.io/66.249.76.216/json: ERROR - 429 Client Error: Too Many Requests for url: http://ipinfo.io/66.249.76.216/json\n",
            "Status code 429 from http://ipinfo.io/66.249.76.216/json: ERROR - 429 Client Error: Too Many Requests for url: http://ipinfo.io/66.249.76.216/json\n"
          ]
        },
        {
          "output_type": "stream",
          "name": "stdout",
          "text": [
            "95 <[ERROR - 429 Client Error: Too Many Requests for url: http://ipinfo.io/66.249.76.216/json] Ipinfo - Geocode [empty]> None\n",
            "96 <[ERROR - 429 Client Error: Too Many Requests for url: http://ipinfo.io/66.249.76.216/json] Ipinfo - Geocode [empty]> None\n",
            "97 <[ERROR - 429 Client Error: Too Many Requests for url: http://ipinfo.io/66.249.76.216/json] Ipinfo - Geocode [empty]> None\n",
            "98 <[ERROR - 429 Client Error: Too Many Requests for url: http://ipinfo.io/66.249.76.216/json] Ipinfo - Geocode [empty]> None\n"
          ]
        },
        {
          "output_type": "execute_result",
          "data": {
            "text/plain": [
              "'\\n  location = ip.t\\n\\n  \\n  \\nmap\\n'"
            ],
            "application/vnd.google.colaboratory.intrinsic+json": {
              "type": "string"
            }
          },
          "metadata": {},
          "execution_count": 123
        }
      ]
    },
    {
      "cell_type": "code",
      "source": [
        "folium.Map(location=[45.5236, -122.6750],\n",
        "           tiles='Mapbox',\n",
        "           API_key='your.API.key')\n",
        "map"
      ],
      "metadata": {
        "id": "x_FhD2jfpwzR",
        "outputId": "03a15b82-6431-4d47-c94c-12d8e6f13ac9",
        "colab": {
          "base_uri": "https://localhost:8080/",
          "height": 903
        }
      },
      "execution_count": null,
      "outputs": [
        {
          "output_type": "execute_result",
          "data": {
            "text/plain": [
              "<folium.folium.Map at 0x7fb6424b7310>"
            ],
            "text/html": [
              "<div style=\"width:100%;\"><div style=\"position:relative;width:100%;height:0;padding-bottom:60%;\"><span style=\"color:#565656\">Make this Notebook Trusted to load map: File -> Trust Notebook</span><iframe srcdoc=\"&lt;!DOCTYPE html&gt;\n",
              "&lt;head&gt;    \n",
              "    &lt;meta http-equiv=&quot;content-type&quot; content=&quot;text/html; charset=UTF-8&quot; /&gt;\n",
              "    &lt;script&gt;L_PREFER_CANVAS=false; L_NO_TOUCH=false; L_DISABLE_3D=false;&lt;/script&gt;\n",
              "    &lt;script src=&quot;https://cdn.jsdelivr.net/npm/leaflet@1.4.0/dist/leaflet.js&quot;&gt;&lt;/script&gt;\n",
              "    &lt;script src=&quot;https://code.jquery.com/jquery-1.12.4.min.js&quot;&gt;&lt;/script&gt;\n",
              "    &lt;script src=&quot;https://maxcdn.bootstrapcdn.com/bootstrap/3.2.0/js/bootstrap.min.js&quot;&gt;&lt;/script&gt;\n",
              "    &lt;script src=&quot;https://cdnjs.cloudflare.com/ajax/libs/Leaflet.awesome-markers/2.0.2/leaflet.awesome-markers.js&quot;&gt;&lt;/script&gt;\n",
              "    &lt;link rel=&quot;stylesheet&quot; href=&quot;https://cdn.jsdelivr.net/npm/leaflet@1.4.0/dist/leaflet.css&quot;/&gt;\n",
              "    &lt;link rel=&quot;stylesheet&quot; href=&quot;https://maxcdn.bootstrapcdn.com/bootstrap/3.2.0/css/bootstrap.min.css&quot;/&gt;\n",
              "    &lt;link rel=&quot;stylesheet&quot; href=&quot;https://maxcdn.bootstrapcdn.com/bootstrap/3.2.0/css/bootstrap-theme.min.css&quot;/&gt;\n",
              "    &lt;link rel=&quot;stylesheet&quot; href=&quot;https://maxcdn.bootstrapcdn.com/font-awesome/4.6.3/css/font-awesome.min.css&quot;/&gt;\n",
              "    &lt;link rel=&quot;stylesheet&quot; href=&quot;https://cdnjs.cloudflare.com/ajax/libs/Leaflet.awesome-markers/2.0.2/leaflet.awesome-markers.css&quot;/&gt;\n",
              "    &lt;link rel=&quot;stylesheet&quot; href=&quot;https://rawcdn.githack.com/python-visualization/folium/master/folium/templates/leaflet.awesome.rotate.css&quot;/&gt;\n",
              "    &lt;style&gt;html, body {width: 100%;height: 100%;margin: 0;padding: 0;}&lt;/style&gt;\n",
              "    &lt;style&gt;#map {position:absolute;top:0;bottom:0;right:0;left:0;}&lt;/style&gt;\n",
              "    \n",
              "    &lt;meta name=&quot;viewport&quot; content=&quot;width=device-width,\n",
              "        initial-scale=1.0, maximum-scale=1.0, user-scalable=no&quot; /&gt;\n",
              "    &lt;style&gt;#map_c021bb7366793b7e6cecfe366227f59f {\n",
              "        position: relative;\n",
              "        width: 100.0%;\n",
              "        height: 100.0%;\n",
              "        left: 0.0%;\n",
              "        top: 0.0%;\n",
              "        }\n",
              "    &lt;/style&gt;\n",
              "&lt;/head&gt;\n",
              "&lt;body&gt;    \n",
              "    \n",
              "    &lt;div class=&quot;folium-map&quot; id=&quot;map_c021bb7366793b7e6cecfe366227f59f&quot; &gt;&lt;/div&gt;\n",
              "&lt;/body&gt;\n",
              "&lt;script&gt;    \n",
              "    \n",
              "    \n",
              "        var bounds = null;\n",
              "    \n",
              "\n",
              "    var map_c021bb7366793b7e6cecfe366227f59f = L.map(\n",
              "        &#x27;map_c021bb7366793b7e6cecfe366227f59f&#x27;, {\n",
              "        center: [0, 0],\n",
              "        zoom: 1,\n",
              "        maxBounds: bounds,\n",
              "        layers: [],\n",
              "        worldCopyJump: false,\n",
              "        crs: L.CRS.EPSG3857,\n",
              "        zoomControl: true,\n",
              "        });\n",
              "\n",
              "\n",
              "    \n",
              "    var tile_layer_ad333c8dc733e806a6d604ec6557c7f4 = L.tileLayer(\n",
              "        &#x27;https://{s}.tile.openstreetmap.org/{z}/{x}/{y}.png&#x27;,\n",
              "        {\n",
              "        &quot;attribution&quot;: null,\n",
              "        &quot;detectRetina&quot;: false,\n",
              "        &quot;maxNativeZoom&quot;: 18,\n",
              "        &quot;maxZoom&quot;: 18,\n",
              "        &quot;minZoom&quot;: 0,\n",
              "        &quot;noWrap&quot;: false,\n",
              "        &quot;opacity&quot;: 1,\n",
              "        &quot;subdomains&quot;: &quot;abc&quot;,\n",
              "        &quot;tms&quot;: false\n",
              "}).addTo(map_c021bb7366793b7e6cecfe366227f59f);\n",
              "&lt;/script&gt;\" style=\"position:absolute;width:100%;height:100%;left:0;top:0;border:none !important;\" allowfullscreen webkitallowfullscreen mozallowfullscreen></iframe></div></div>"
            ]
          },
          "metadata": {},
          "execution_count": 115
        }
      ]
    },
    {
      "cell_type": "code",
      "source": [
        "https://datasciencesphere.com/project/track-location-ip-address-python-geocoder/"
      ],
      "metadata": {
        "id": "caznvoQGkxrR"
      },
      "execution_count": null,
      "outputs": []
    },
    {
      "cell_type": "markdown",
      "source": [
        "# Exercici 3\n",
        "Mostra'm la teva creativitat, Sorprèn-me fes un pas més enllà amb l'anàlisi anterior."
      ],
      "metadata": {
        "id": "hrprGj7QrUaF"
      }
    },
    {
      "cell_type": "markdown",
      "source": [
        "https://datasciencesphere.com/project/track-location-ip-address-python-geocoder/"
      ],
      "metadata": {
        "id": "-_HEZQjzl-ID"
      }
    },
    {
      "cell_type": "code",
      "source": [
        "ip = geocoder.ip(\"me\")\n",
        "ip\n",
        "\n",
        "print(ip.latlng)"
      ],
      "metadata": {
        "id": "O7ucmMlajURX",
        "outputId": "ec7f0cfe-c5bf-41c6-dc67-0d97a8d25a02",
        "colab": {
          "base_uri": "https://localhost:8080/"
        }
      },
      "execution_count": null,
      "outputs": [
        {
          "output_type": "execute_result",
          "data": {
            "text/plain": [
              "<[OK] Ipinfo - Geocode [North Charleston, South Carolina, US]>"
            ]
          },
          "metadata": {},
          "execution_count": 62
        }
      ]
    },
    {
      "cell_type": "code",
      "source": [
        "g = geocoder.ip('74.125.226.99')\n",
        ">>> g.address"
      ],
      "metadata": {
        "id": "aL9zAtCa3wCS"
      },
      "execution_count": null,
      "outputs": []
    },
    {
      "cell_type": "code",
      "source": [
        "import requests\n",
        "\n",
        "url = 'https://maps.googleapis.com/maps/api/geocode/json'\n",
        "r = requests.get(url, params={\n",
        "    'sensor': 'false', \n",
        "    'address': 'Centre Pompidou, Paris, FR'\n",
        "})\n",
        "\n",
        "results = r.json()['results']\n",
        "results\n",
        "#location = results[0]['geometry']['location']\n",
        "#lat, lng = location['lat'], location['lng']"
      ],
      "metadata": {
        "id": "i3bLx72UmO1t",
        "outputId": "fd801fed-29ce-4cf0-cec7-0024dd6c17a2",
        "colab": {
          "base_uri": "https://localhost:8080/"
        }
      },
      "execution_count": null,
      "outputs": [
        {
          "output_type": "execute_result",
          "data": {
            "text/plain": [
              "[]"
            ]
          },
          "metadata": {},
          "execution_count": 80
        }
      ]
    },
    {
      "cell_type": "markdown",
      "source": [
        "https://janakiev.com/blog/geocoding-in-python/"
      ],
      "metadata": {
        "id": "GqfQAvkNm2Me"
      }
    },
    {
      "cell_type": "code",
      "source": [
        "location = geocoder.ip(\"66.249.76.216\")\n",
        "print(ip.city)\n",
        "print(ip)\n",
        "print(ip.latlng)\n",
        "\n",
        "location = ip.latlng\n",
        "lat, lng = location[0], location[1]\n",
        "\n",
        "#location = results[0]['geometry']['location']\n",
        "#lat, lng = location['lat'], location['lng']\n",
        "\n",
        "print(lat, lng, location)"
      ],
      "metadata": {
        "id": "AG99G4qWmz83",
        "outputId": "2d43c0cf-ca3a-4d12-f7cc-3b22d02505c1",
        "colab": {
          "base_uri": "https://localhost:8080/",
          "height": 235
        }
      },
      "execution_count": null,
      "outputs": [
        {
          "output_type": "error",
          "ename": "NameError",
          "evalue": "ignored",
          "traceback": [
            "\u001b[0;31m---------------------------------------------------------------------------\u001b[0m",
            "\u001b[0;31mNameError\u001b[0m                                 Traceback (most recent call last)",
            "\u001b[0;32m<ipython-input-93-e566714156a7>\u001b[0m in \u001b[0;36m<module>\u001b[0;34m()\u001b[0m\n\u001b[0;32m----> 1\u001b[0;31m \u001b[0mlocation\u001b[0m \u001b[0;34m=\u001b[0m \u001b[0mgeocoder\u001b[0m\u001b[0;34m.\u001b[0m\u001b[0mip\u001b[0m\u001b[0;34m(\u001b[0m\u001b[0;34m\"66.249.76.216\"\u001b[0m\u001b[0;34m)\u001b[0m\u001b[0;34m\u001b[0m\u001b[0;34m\u001b[0m\u001b[0m\n\u001b[0m\u001b[1;32m      2\u001b[0m \u001b[0mprint\u001b[0m\u001b[0;34m(\u001b[0m\u001b[0mip\u001b[0m\u001b[0;34m.\u001b[0m\u001b[0mcity\u001b[0m\u001b[0;34m)\u001b[0m\u001b[0;34m\u001b[0m\u001b[0;34m\u001b[0m\u001b[0m\n\u001b[1;32m      3\u001b[0m \u001b[0mprint\u001b[0m\u001b[0;34m(\u001b[0m\u001b[0mip\u001b[0m\u001b[0;34m)\u001b[0m\u001b[0;34m\u001b[0m\u001b[0;34m\u001b[0m\u001b[0m\n\u001b[1;32m      4\u001b[0m \u001b[0mprint\u001b[0m\u001b[0;34m(\u001b[0m\u001b[0mip\u001b[0m\u001b[0;34m.\u001b[0m\u001b[0mlatlng\u001b[0m\u001b[0;34m)\u001b[0m\u001b[0;34m\u001b[0m\u001b[0;34m\u001b[0m\u001b[0m\n\u001b[1;32m      5\u001b[0m \u001b[0;34m\u001b[0m\u001b[0m\n",
            "\u001b[0;31mNameError\u001b[0m: name 'geocoder' is not defined"
          ]
        }
      ]
    }
  ]
}