{
  "nbformat": 4,
  "nbformat_minor": 0,
  "metadata": {
    "colab": {
      "name": "Untitled2.ipynb",
      "provenance": [],
      "mount_file_id": "https://github.com/JMML2021/0401_Registre-de-logs/blob/main/0401_Registre-de-logs%20Rev%20B.ipynb",
      "authorship_tag": "ABX9TyMEoFEcr9/apKijLcVr0gUJ",
      "include_colab_link": true
    },
    "kernelspec": {
      "name": "python3",
      "display_name": "Python 3"
    },
    "language_info": {
      "name": "python"
    }
  },
  "cells": [
    {
      "cell_type": "markdown",
      "metadata": {
        "id": "view-in-github",
        "colab_type": "text"
      },
      "source": [
        "<a href=\"https://colab.research.google.com/github/JMML2021/0401_Registre-de-logs/blob/main/0401_Registre-de-logs%20Rev%20C.ipynb\" target=\"_parent\"><img src=\"https://colab.research.google.com/assets/colab-badge.svg\" alt=\"Open In Colab\"/></a>"
      ]
    },
    {
      "cell_type": "code",
      "execution_count": 3,
      "metadata": {
        "id": "oD7cCpvzDJn3"
      },
      "outputs": [],
      "source": [
        "# importing libraries\n",
        "from urllib.request import urlretrieve\n",
        "#import py7zr\n",
        "import pandas as pd\n",
        "import os\n",
        "import re\n",
        "from datetime import datetime\n",
        "import pytz\n",
        "#import geocoder\n",
        "import folium\n",
        "import time\n",
        "import urllib.request\n",
        "import json\n",
        "import geopandas\n",
        "import matplotlib.pyplot as plt\n",
        "from datetime import datetime"
      ]
    },
    {
      "cell_type": "code",
      "source": [
        "# Activo Google Drive\n",
        "\n",
        "from google.colab import drive\n",
        "drive.mount('/content/drive')"
      ],
      "metadata": {
        "id": "XtbGt2_x71yT",
        "outputId": "12baf385-0fa7-4cc6-9e0f-7402c158e90c",
        "colab": {
          "base_uri": "https://localhost:8080/"
        }
      },
      "execution_count": 8,
      "outputs": [
        {
          "output_type": "stream",
          "name": "stdout",
          "text": [
            "Mounted at /content/drive\n"
          ]
        }
      ]
    },
    {
      "cell_type": "code",
      "source": [
        "# Abro archivo\n",
        "\n",
        "df = list(open('/content/drive/MyDrive/Web_access_log-akumenius.com.txt'))"
      ],
      "metadata": {
        "id": "S8cgYls8MpY3"
      },
      "execution_count": 9,
      "outputs": []
    },
    {
      "cell_type": "code",
      "source": [
        "# 0.- Abro por la mitad la linea\n",
        "\n",
        "def custom_split(sepr_list, str_to_split):\n",
        "    separatorsIzq = \"[\", \"]\", \"\\s\", \",\"\n",
        "\n",
        "    # create regular expression dynamically\n",
        "    regular_exp = '|'.join(map(re.escape, sepr_list))\n",
        "    return re.split(regular_exp, str_to_split)\n"
      ],
      "metadata": {
        "id": "dcv06GwhQv_c"
      },
      "execution_count": 10,
      "outputs": []
    },
    {
      "cell_type": "code",
      "source": [
        "# 1.- Separo la primera parte\n",
        "def ladoIzquierdo(texto1):\n",
        "  x = re.split(\"\\s\", texto1)\n",
        "  direccion = x[0]\n",
        "  print('Lado Izquierdo ', ladoIzquierdo(pp[0]))\n",
        "  IP = x[1]\n",
        "  return (direccion, IP)\n",
        "\n",
        "\n",
        "#\n",
        "\n"
      ],
      "metadata": {
        "id": "-gpYz7auSqmR"
      },
      "execution_count": 11,
      "outputs": []
    },
    {
      "cell_type": "code",
      "source": [
        "#2.- Separo la parte central.\n",
        "\n",
        "def custom_split(str_to_split):\n",
        "    separatorsCentro = \"[\", \"]\", \"\\s\", \",\",' '\n",
        "    # create regular expression dynamically\n",
        "    regular_exp = '|'.join(map(re.escape, separatorsCentro))\n",
        "\n",
        "    return re.split(regular_exp, str_to_split)\n",
        "\n",
        "#pp1= custom_split(pp[1])\n",
        "#print('Lado Derecho: ', pp1)    \n"
      ],
      "metadata": {
        "id": "s0G4sqNTFyP4"
      },
      "execution_count": 13,
      "outputs": []
    },
    {
      "cell_type": "code",
      "source": [
        "#3.- Separamos lado Derecho.\n",
        "\n",
        "def custom_splitDcha( texto3):\n",
        "    separatorsDcha = '\"', ';', ' '\n",
        "    # create regular expression dynamically\n",
        "    regular_exp = '|'.join(map(re.escape, separatorsDcha))\n",
        "    return re.split(regular_exp, texto3)\n",
        "\n"
      ],
      "metadata": {
        "id": "ekcJ4unmcfi0"
      },
      "execution_count": 55,
      "outputs": []
    },
    {
      "cell_type": "code",
      "source": [
        "data = {'Direccion': [],\n",
        "    'IPs': [],\n",
        "    'Fecha': [],\n",
        "    'Direccion': [],\n",
        "    'Navegador': []}\n",
        "df_salida = pd.DataFrame(data)\n",
        "\n",
        "for s, textoLinea  in enumerate(df):\n",
        "    #f = open(destFile, 'a+') \n",
        "\n",
        "    if s>=1 and s <=501:\n",
        "        #print(s,' TODO ', textoLinea)\n",
        "        pp= custom_split(textoLinea)  \n",
        "        #for p,q in enumerate(pp):\n",
        "          #print(p,q)\n",
        "        #print(s,len(pp), ' linea ', pp[0], pp[1] )\n",
        "        #pp[0]\n",
        "        nueva_fila = {'Direccion': pp[0],\n",
        "          'IPs': pp[1],\n",
        "          'Fecha': pp[5],\n",
        "          'Direccion': pp[9],\n",
        "          'Navegador': pp[14]+pp[15]+pp[16]}\n",
        "      #print(s, nueva_fila)\n",
        "      #Añadiendo una fila al dataframe\n",
        "        df_salida = df_salida.append(nueva_fila, ignore_index=True) \n",
        "\n",
        "\n",
        "df_salida"
      ],
      "metadata": {
        "id": "khQcN4j7YBKg",
        "outputId": "8e2e0ebe-b7e6-42ae-81a8-1de289a453a7",
        "colab": {
          "base_uri": "https://localhost:8080/",
          "height": 423
        }
      },
      "execution_count": 57,
      "outputs": [
        {
          "output_type": "execute_result",
          "data": {
            "text/plain": [
              "                                             Direccion            IPs  \\\n",
              "0                                                    *      127.0.0.1   \n",
              "1                                                    *      127.0.0.1   \n",
              "2                                                    *      127.0.0.1   \n",
              "3                                                    *      127.0.0.1   \n",
              "4                                                    *      127.0.0.1   \n",
              "..                                                 ...            ...   \n",
              "496  /destinos-baratos/destinosEstrelles/hoteles-en...  66.249.76.216   \n",
              "497  /hoteles-baratos/ofertas-hotel-Dorint-Am-Nurbu...  66.249.76.216   \n",
              "498  /hoteles-baratos/ofertas-hotel-Blue-Jack-Tar-e...  66.249.76.216   \n",
              "499  /hoteles-baratos/ofertas-hotel-Campanile-Le-Ma...  66.249.76.216   \n",
              "500  /destinos-baratos/destinosEstrelles/hoteles-en...  66.249.76.216   \n",
              "\n",
              "                    Fecha                               Navegador  \n",
              "0    23/Feb/2014:03:10:31                   \"Apache(internaldummy  \n",
              "1    23/Feb/2014:03:10:31                   \"Apache(internaldummy  \n",
              "2    23/Feb/2014:03:10:31                   \"Apache(internaldummy  \n",
              "3    23/Feb/2014:03:10:31                   \"Apache(internaldummy  \n",
              "4    23/Feb/2014:03:10:31                   \"Apache(internaldummy  \n",
              "..                    ...                                     ...  \n",
              "496  23/Feb/2014:03:22:22  \"Mozilla/5.0(compatible;Googlebot/2.1;  \n",
              "497  23/Feb/2014:03:22:23  \"Mozilla/5.0(compatible;Googlebot/2.1;  \n",
              "498  23/Feb/2014:03:22:25  \"Mozilla/5.0(compatible;Googlebot/2.1;  \n",
              "499  23/Feb/2014:03:22:28  \"Mozilla/5.0(compatible;Googlebot/2.1;  \n",
              "500  23/Feb/2014:03:22:29  \"Mozilla/5.0(compatible;Googlebot/2.1;  \n",
              "\n",
              "[501 rows x 4 columns]"
            ],
            "text/html": [
              "\n",
              "  <div id=\"df-8b1ad461-b8a3-423f-9ad3-3c441acfc43c\">\n",
              "    <div class=\"colab-df-container\">\n",
              "      <div>\n",
              "<style scoped>\n",
              "    .dataframe tbody tr th:only-of-type {\n",
              "        vertical-align: middle;\n",
              "    }\n",
              "\n",
              "    .dataframe tbody tr th {\n",
              "        vertical-align: top;\n",
              "    }\n",
              "\n",
              "    .dataframe thead th {\n",
              "        text-align: right;\n",
              "    }\n",
              "</style>\n",
              "<table border=\"1\" class=\"dataframe\">\n",
              "  <thead>\n",
              "    <tr style=\"text-align: right;\">\n",
              "      <th></th>\n",
              "      <th>Direccion</th>\n",
              "      <th>IPs</th>\n",
              "      <th>Fecha</th>\n",
              "      <th>Navegador</th>\n",
              "    </tr>\n",
              "  </thead>\n",
              "  <tbody>\n",
              "    <tr>\n",
              "      <th>0</th>\n",
              "      <td>*</td>\n",
              "      <td>127.0.0.1</td>\n",
              "      <td>23/Feb/2014:03:10:31</td>\n",
              "      <td>\"Apache(internaldummy</td>\n",
              "    </tr>\n",
              "    <tr>\n",
              "      <th>1</th>\n",
              "      <td>*</td>\n",
              "      <td>127.0.0.1</td>\n",
              "      <td>23/Feb/2014:03:10:31</td>\n",
              "      <td>\"Apache(internaldummy</td>\n",
              "    </tr>\n",
              "    <tr>\n",
              "      <th>2</th>\n",
              "      <td>*</td>\n",
              "      <td>127.0.0.1</td>\n",
              "      <td>23/Feb/2014:03:10:31</td>\n",
              "      <td>\"Apache(internaldummy</td>\n",
              "    </tr>\n",
              "    <tr>\n",
              "      <th>3</th>\n",
              "      <td>*</td>\n",
              "      <td>127.0.0.1</td>\n",
              "      <td>23/Feb/2014:03:10:31</td>\n",
              "      <td>\"Apache(internaldummy</td>\n",
              "    </tr>\n",
              "    <tr>\n",
              "      <th>4</th>\n",
              "      <td>*</td>\n",
              "      <td>127.0.0.1</td>\n",
              "      <td>23/Feb/2014:03:10:31</td>\n",
              "      <td>\"Apache(internaldummy</td>\n",
              "    </tr>\n",
              "    <tr>\n",
              "      <th>...</th>\n",
              "      <td>...</td>\n",
              "      <td>...</td>\n",
              "      <td>...</td>\n",
              "      <td>...</td>\n",
              "    </tr>\n",
              "    <tr>\n",
              "      <th>496</th>\n",
              "      <td>/destinos-baratos/destinosEstrelles/hoteles-en...</td>\n",
              "      <td>66.249.76.216</td>\n",
              "      <td>23/Feb/2014:03:22:22</td>\n",
              "      <td>\"Mozilla/5.0(compatible;Googlebot/2.1;</td>\n",
              "    </tr>\n",
              "    <tr>\n",
              "      <th>497</th>\n",
              "      <td>/hoteles-baratos/ofertas-hotel-Dorint-Am-Nurbu...</td>\n",
              "      <td>66.249.76.216</td>\n",
              "      <td>23/Feb/2014:03:22:23</td>\n",
              "      <td>\"Mozilla/5.0(compatible;Googlebot/2.1;</td>\n",
              "    </tr>\n",
              "    <tr>\n",
              "      <th>498</th>\n",
              "      <td>/hoteles-baratos/ofertas-hotel-Blue-Jack-Tar-e...</td>\n",
              "      <td>66.249.76.216</td>\n",
              "      <td>23/Feb/2014:03:22:25</td>\n",
              "      <td>\"Mozilla/5.0(compatible;Googlebot/2.1;</td>\n",
              "    </tr>\n",
              "    <tr>\n",
              "      <th>499</th>\n",
              "      <td>/hoteles-baratos/ofertas-hotel-Campanile-Le-Ma...</td>\n",
              "      <td>66.249.76.216</td>\n",
              "      <td>23/Feb/2014:03:22:28</td>\n",
              "      <td>\"Mozilla/5.0(compatible;Googlebot/2.1;</td>\n",
              "    </tr>\n",
              "    <tr>\n",
              "      <th>500</th>\n",
              "      <td>/destinos-baratos/destinosEstrelles/hoteles-en...</td>\n",
              "      <td>66.249.76.216</td>\n",
              "      <td>23/Feb/2014:03:22:29</td>\n",
              "      <td>\"Mozilla/5.0(compatible;Googlebot/2.1;</td>\n",
              "    </tr>\n",
              "  </tbody>\n",
              "</table>\n",
              "<p>501 rows × 4 columns</p>\n",
              "</div>\n",
              "      <button class=\"colab-df-convert\" onclick=\"convertToInteractive('df-8b1ad461-b8a3-423f-9ad3-3c441acfc43c')\"\n",
              "              title=\"Convert this dataframe to an interactive table.\"\n",
              "              style=\"display:none;\">\n",
              "        \n",
              "  <svg xmlns=\"http://www.w3.org/2000/svg\" height=\"24px\"viewBox=\"0 0 24 24\"\n",
              "       width=\"24px\">\n",
              "    <path d=\"M0 0h24v24H0V0z\" fill=\"none\"/>\n",
              "    <path d=\"M18.56 5.44l.94 2.06.94-2.06 2.06-.94-2.06-.94-.94-2.06-.94 2.06-2.06.94zm-11 1L8.5 8.5l.94-2.06 2.06-.94-2.06-.94L8.5 2.5l-.94 2.06-2.06.94zm10 10l.94 2.06.94-2.06 2.06-.94-2.06-.94-.94-2.06-.94 2.06-2.06.94z\"/><path d=\"M17.41 7.96l-1.37-1.37c-.4-.4-.92-.59-1.43-.59-.52 0-1.04.2-1.43.59L10.3 9.45l-7.72 7.72c-.78.78-.78 2.05 0 2.83L4 21.41c.39.39.9.59 1.41.59.51 0 1.02-.2 1.41-.59l7.78-7.78 2.81-2.81c.8-.78.8-2.07 0-2.86zM5.41 20L4 18.59l7.72-7.72 1.47 1.35L5.41 20z\"/>\n",
              "  </svg>\n",
              "      </button>\n",
              "      \n",
              "  <style>\n",
              "    .colab-df-container {\n",
              "      display:flex;\n",
              "      flex-wrap:wrap;\n",
              "      gap: 12px;\n",
              "    }\n",
              "\n",
              "    .colab-df-convert {\n",
              "      background-color: #E8F0FE;\n",
              "      border: none;\n",
              "      border-radius: 50%;\n",
              "      cursor: pointer;\n",
              "      display: none;\n",
              "      fill: #1967D2;\n",
              "      height: 32px;\n",
              "      padding: 0 0 0 0;\n",
              "      width: 32px;\n",
              "    }\n",
              "\n",
              "    .colab-df-convert:hover {\n",
              "      background-color: #E2EBFA;\n",
              "      box-shadow: 0px 1px 2px rgba(60, 64, 67, 0.3), 0px 1px 3px 1px rgba(60, 64, 67, 0.15);\n",
              "      fill: #174EA6;\n",
              "    }\n",
              "\n",
              "    [theme=dark] .colab-df-convert {\n",
              "      background-color: #3B4455;\n",
              "      fill: #D2E3FC;\n",
              "    }\n",
              "\n",
              "    [theme=dark] .colab-df-convert:hover {\n",
              "      background-color: #434B5C;\n",
              "      box-shadow: 0px 1px 3px 1px rgba(0, 0, 0, 0.15);\n",
              "      filter: drop-shadow(0px 1px 2px rgba(0, 0, 0, 0.3));\n",
              "      fill: #FFFFFF;\n",
              "    }\n",
              "  </style>\n",
              "\n",
              "      <script>\n",
              "        const buttonEl =\n",
              "          document.querySelector('#df-8b1ad461-b8a3-423f-9ad3-3c441acfc43c button.colab-df-convert');\n",
              "        buttonEl.style.display =\n",
              "          google.colab.kernel.accessAllowed ? 'block' : 'none';\n",
              "\n",
              "        async function convertToInteractive(key) {\n",
              "          const element = document.querySelector('#df-8b1ad461-b8a3-423f-9ad3-3c441acfc43c');\n",
              "          const dataTable =\n",
              "            await google.colab.kernel.invokeFunction('convertToInteractive',\n",
              "                                                     [key], {});\n",
              "          if (!dataTable) return;\n",
              "\n",
              "          const docLinkHtml = 'Like what you see? Visit the ' +\n",
              "            '<a target=\"_blank\" href=https://colab.research.google.com/notebooks/data_table.ipynb>data table notebook</a>'\n",
              "            + ' to learn more about interactive tables.';\n",
              "          element.innerHTML = '';\n",
              "          dataTable['output_type'] = 'display_data';\n",
              "          await google.colab.output.renderOutput(dataTable, element);\n",
              "          const docLink = document.createElement('div');\n",
              "          docLink.innerHTML = docLinkHtml;\n",
              "          element.appendChild(docLink);\n",
              "        }\n",
              "      </script>\n",
              "    </div>\n",
              "  </div>\n",
              "  "
            ]
          },
          "metadata": {},
          "execution_count": 57
        }
      ]
    },
    {
      "cell_type": "code",
      "source": [
        ""
      ],
      "metadata": {
        "id": "HuUDPADbY4UY"
      },
      "execution_count": null,
      "outputs": []
    },
    {
      "cell_type": "code",
      "source": [
        ""
      ],
      "metadata": {
        "id": "InPyU9ixuiLn"
      },
      "execution_count": null,
      "outputs": []
    },
    {
      "cell_type": "code",
      "source": [
        "ip = geocoder.ip(\"80.28.221.123\")\n",
        "print(ip.city)\n",
        "print(ip)\n",
        "print(ip.latlng)"
      ],
      "metadata": {
        "id": "skHdB2p1jKja",
        "outputId": "29a25717-d9f3-47ec-ff67-a1d729b89e74",
        "colab": {
          "base_uri": "https://localhost:8080/"
        }
      },
      "execution_count": null,
      "outputs": [
        {
          "output_type": "stream",
          "name": "stdout",
          "text": [
            "Terrassa\n",
            "<[OK] Ipinfo - Geocode [Terrassa, Catalonia, ES]>\n",
            "[41.5667, 2.0167]\n"
          ]
        }
      ]
    },
    {
      "cell_type": "code",
      "source": [
        "location = ip.latlng\n",
        "\n",
        "map = folium.Map(location=location, zoom_start=105)\n",
        "folium.CircleMarker(location=location, radius=15, color=\"blue\").add_to(map)\n",
        "folium.Marker(location).add_to(map)\n",
        "map"
      ],
      "metadata": {
        "id": "EIILDe56j9HA",
        "outputId": "def0256f-7711-47e5-eefb-1d96feb70aa0",
        "colab": {
          "base_uri": "https://localhost:8080/",
          "height": 915
        }
      },
      "execution_count": null,
      "outputs": [
        {
          "output_type": "execute_result",
          "data": {
            "text/plain": [
              "<folium.folium.Map at 0x7f7b39b3d3d0>"
            ],
            "text/html": [
              "<div style=\"width:100%;\"><div style=\"position:relative;width:100%;height:0;padding-bottom:60%;\"><span style=\"color:#565656\">Make this Notebook Trusted to load map: File -> Trust Notebook</span><iframe srcdoc=\"&lt;!DOCTYPE html&gt;\n",
              "&lt;head&gt;    \n",
              "    &lt;meta http-equiv=&quot;content-type&quot; content=&quot;text/html; charset=UTF-8&quot; /&gt;\n",
              "    &lt;script&gt;L_PREFER_CANVAS=false; L_NO_TOUCH=false; L_DISABLE_3D=false;&lt;/script&gt;\n",
              "    &lt;script src=&quot;https://cdn.jsdelivr.net/npm/leaflet@1.4.0/dist/leaflet.js&quot;&gt;&lt;/script&gt;\n",
              "    &lt;script src=&quot;https://code.jquery.com/jquery-1.12.4.min.js&quot;&gt;&lt;/script&gt;\n",
              "    &lt;script src=&quot;https://maxcdn.bootstrapcdn.com/bootstrap/3.2.0/js/bootstrap.min.js&quot;&gt;&lt;/script&gt;\n",
              "    &lt;script src=&quot;https://cdnjs.cloudflare.com/ajax/libs/Leaflet.awesome-markers/2.0.2/leaflet.awesome-markers.js&quot;&gt;&lt;/script&gt;\n",
              "    &lt;link rel=&quot;stylesheet&quot; href=&quot;https://cdn.jsdelivr.net/npm/leaflet@1.4.0/dist/leaflet.css&quot;/&gt;\n",
              "    &lt;link rel=&quot;stylesheet&quot; href=&quot;https://maxcdn.bootstrapcdn.com/bootstrap/3.2.0/css/bootstrap.min.css&quot;/&gt;\n",
              "    &lt;link rel=&quot;stylesheet&quot; href=&quot;https://maxcdn.bootstrapcdn.com/bootstrap/3.2.0/css/bootstrap-theme.min.css&quot;/&gt;\n",
              "    &lt;link rel=&quot;stylesheet&quot; href=&quot;https://maxcdn.bootstrapcdn.com/font-awesome/4.6.3/css/font-awesome.min.css&quot;/&gt;\n",
              "    &lt;link rel=&quot;stylesheet&quot; href=&quot;https://cdnjs.cloudflare.com/ajax/libs/Leaflet.awesome-markers/2.0.2/leaflet.awesome-markers.css&quot;/&gt;\n",
              "    &lt;link rel=&quot;stylesheet&quot; href=&quot;https://rawcdn.githack.com/python-visualization/folium/master/folium/templates/leaflet.awesome.rotate.css&quot;/&gt;\n",
              "    &lt;style&gt;html, body {width: 100%;height: 100%;margin: 0;padding: 0;}&lt;/style&gt;\n",
              "    &lt;style&gt;#map {position:absolute;top:0;bottom:0;right:0;left:0;}&lt;/style&gt;\n",
              "    \n",
              "    &lt;meta name=&quot;viewport&quot; content=&quot;width=device-width,\n",
              "        initial-scale=1.0, maximum-scale=1.0, user-scalable=no&quot; /&gt;\n",
              "    &lt;style&gt;#map_f3acb9cb4e094296af430c3bc80f2c2c {\n",
              "        position: relative;\n",
              "        width: 100.0%;\n",
              "        height: 100.0%;\n",
              "        left: 0.0%;\n",
              "        top: 0.0%;\n",
              "        }\n",
              "    &lt;/style&gt;\n",
              "&lt;/head&gt;\n",
              "&lt;body&gt;    \n",
              "    \n",
              "    &lt;div class=&quot;folium-map&quot; id=&quot;map_f3acb9cb4e094296af430c3bc80f2c2c&quot; &gt;&lt;/div&gt;\n",
              "&lt;/body&gt;\n",
              "&lt;script&gt;    \n",
              "    \n",
              "    \n",
              "        var bounds = null;\n",
              "    \n",
              "\n",
              "    var map_f3acb9cb4e094296af430c3bc80f2c2c = L.map(\n",
              "        &#x27;map_f3acb9cb4e094296af430c3bc80f2c2c&#x27;, {\n",
              "        center: [41.5667, 2.0167],\n",
              "        zoom: 105,\n",
              "        maxBounds: bounds,\n",
              "        layers: [],\n",
              "        worldCopyJump: false,\n",
              "        crs: L.CRS.EPSG3857,\n",
              "        zoomControl: true,\n",
              "        });\n",
              "\n",
              "\n",
              "    \n",
              "    var tile_layer_a43848ac4a7beb5bd3d259e8f1fb7c4e = L.tileLayer(\n",
              "        &#x27;https://{s}.tile.openstreetmap.org/{z}/{x}/{y}.png&#x27;,\n",
              "        {\n",
              "        &quot;attribution&quot;: null,\n",
              "        &quot;detectRetina&quot;: false,\n",
              "        &quot;maxNativeZoom&quot;: 18,\n",
              "        &quot;maxZoom&quot;: 18,\n",
              "        &quot;minZoom&quot;: 0,\n",
              "        &quot;noWrap&quot;: false,\n",
              "        &quot;opacity&quot;: 1,\n",
              "        &quot;subdomains&quot;: &quot;abc&quot;,\n",
              "        &quot;tms&quot;: false\n",
              "}).addTo(map_f3acb9cb4e094296af430c3bc80f2c2c);\n",
              "    \n",
              "            var circle_marker_dc93b256a808cbfc830b0149b9dd6df5 = L.circleMarker(\n",
              "                [41.5667, 2.0167],\n",
              "                {\n",
              "  &quot;bubblingMouseEvents&quot;: true,\n",
              "  &quot;color&quot;: &quot;blue&quot;,\n",
              "  &quot;dashArray&quot;: null,\n",
              "  &quot;dashOffset&quot;: null,\n",
              "  &quot;fill&quot;: false,\n",
              "  &quot;fillColor&quot;: &quot;blue&quot;,\n",
              "  &quot;fillOpacity&quot;: 0.2,\n",
              "  &quot;fillRule&quot;: &quot;evenodd&quot;,\n",
              "  &quot;lineCap&quot;: &quot;round&quot;,\n",
              "  &quot;lineJoin&quot;: &quot;round&quot;,\n",
              "  &quot;opacity&quot;: 1.0,\n",
              "  &quot;radius&quot;: 15,\n",
              "  &quot;stroke&quot;: true,\n",
              "  &quot;weight&quot;: 3\n",
              "}\n",
              "                )\n",
              "                .addTo(map_f3acb9cb4e094296af430c3bc80f2c2c);\n",
              "            \n",
              "    \n",
              "        var marker_d93409a7cba0844266d8cacc7771ab1b = L.marker(\n",
              "            [41.5667, 2.0167],\n",
              "            {\n",
              "                icon: new L.Icon.Default(),\n",
              "                }\n",
              "            ).addTo(map_f3acb9cb4e094296af430c3bc80f2c2c);\n",
              "        \n",
              "&lt;/script&gt;\" style=\"position:absolute;width:100%;height:100%;left:0;top:0;border:none !important;\" allowfullscreen webkitallowfullscreen mozallowfullscreen></iframe></div></div>"
            ]
          },
          "metadata": {},
          "execution_count": 93
        }
      ]
    },
    {
      "cell_type": "code",
      "source": [
        "https://cheatography.com/davechild/cheat-sheets/regular-expressions/"
      ],
      "metadata": {
        "id": "0LIAmuANsNqz"
      },
      "execution_count": null,
      "outputs": []
    },
    {
      "cell_type": "markdown",
      "source": [
        "https://cheatography.com/davechild/cheat-sheets/regular-expressions/"
      ],
      "metadata": {
        "id": "g03qZKLesPIc"
      }
    },
    {
      "cell_type": "code",
      "source": [
        "folium.Map(location=[45.5236, -122.6750],\n",
        "           tiles='Mapbox',\n",
        "           API_key='your.API.key')\n",
        "map"
      ],
      "metadata": {
        "id": "x_FhD2jfpwzR",
        "outputId": "a172722c-835b-4b80-e809-6268f90f45ed",
        "colab": {
          "base_uri": "https://localhost:8080/",
          "height": 915
        }
      },
      "execution_count": null,
      "outputs": [
        {
          "output_type": "execute_result",
          "data": {
            "text/plain": [
              "<folium.folium.Map at 0x7f7b39b0fbd0>"
            ],
            "text/html": [
              "<div style=\"width:100%;\"><div style=\"position:relative;width:100%;height:0;padding-bottom:60%;\"><span style=\"color:#565656\">Make this Notebook Trusted to load map: File -> Trust Notebook</span><iframe srcdoc=\"&lt;!DOCTYPE html&gt;\n",
              "&lt;head&gt;    \n",
              "    &lt;meta http-equiv=&quot;content-type&quot; content=&quot;text/html; charset=UTF-8&quot; /&gt;\n",
              "    &lt;script&gt;L_PREFER_CANVAS=false; L_NO_TOUCH=false; L_DISABLE_3D=false;&lt;/script&gt;\n",
              "    &lt;script src=&quot;https://cdn.jsdelivr.net/npm/leaflet@1.4.0/dist/leaflet.js&quot;&gt;&lt;/script&gt;\n",
              "    &lt;script src=&quot;https://code.jquery.com/jquery-1.12.4.min.js&quot;&gt;&lt;/script&gt;\n",
              "    &lt;script src=&quot;https://maxcdn.bootstrapcdn.com/bootstrap/3.2.0/js/bootstrap.min.js&quot;&gt;&lt;/script&gt;\n",
              "    &lt;script src=&quot;https://cdnjs.cloudflare.com/ajax/libs/Leaflet.awesome-markers/2.0.2/leaflet.awesome-markers.js&quot;&gt;&lt;/script&gt;\n",
              "    &lt;link rel=&quot;stylesheet&quot; href=&quot;https://cdn.jsdelivr.net/npm/leaflet@1.4.0/dist/leaflet.css&quot;/&gt;\n",
              "    &lt;link rel=&quot;stylesheet&quot; href=&quot;https://maxcdn.bootstrapcdn.com/bootstrap/3.2.0/css/bootstrap.min.css&quot;/&gt;\n",
              "    &lt;link rel=&quot;stylesheet&quot; href=&quot;https://maxcdn.bootstrapcdn.com/bootstrap/3.2.0/css/bootstrap-theme.min.css&quot;/&gt;\n",
              "    &lt;link rel=&quot;stylesheet&quot; href=&quot;https://maxcdn.bootstrapcdn.com/font-awesome/4.6.3/css/font-awesome.min.css&quot;/&gt;\n",
              "    &lt;link rel=&quot;stylesheet&quot; href=&quot;https://cdnjs.cloudflare.com/ajax/libs/Leaflet.awesome-markers/2.0.2/leaflet.awesome-markers.css&quot;/&gt;\n",
              "    &lt;link rel=&quot;stylesheet&quot; href=&quot;https://rawcdn.githack.com/python-visualization/folium/master/folium/templates/leaflet.awesome.rotate.css&quot;/&gt;\n",
              "    &lt;style&gt;html, body {width: 100%;height: 100%;margin: 0;padding: 0;}&lt;/style&gt;\n",
              "    &lt;style&gt;#map {position:absolute;top:0;bottom:0;right:0;left:0;}&lt;/style&gt;\n",
              "    \n",
              "    &lt;meta name=&quot;viewport&quot; content=&quot;width=device-width,\n",
              "        initial-scale=1.0, maximum-scale=1.0, user-scalable=no&quot; /&gt;\n",
              "    &lt;style&gt;#map_f635a39b38da92849f71d63664690d74 {\n",
              "        position: relative;\n",
              "        width: 100.0%;\n",
              "        height: 100.0%;\n",
              "        left: 0.0%;\n",
              "        top: 0.0%;\n",
              "        }\n",
              "    &lt;/style&gt;\n",
              "&lt;/head&gt;\n",
              "&lt;body&gt;    \n",
              "    \n",
              "    &lt;div class=&quot;folium-map&quot; id=&quot;map_f635a39b38da92849f71d63664690d74&quot; &gt;&lt;/div&gt;\n",
              "&lt;/body&gt;\n",
              "&lt;script&gt;    \n",
              "    \n",
              "    \n",
              "        var bounds = null;\n",
              "    \n",
              "\n",
              "    var map_f635a39b38da92849f71d63664690d74 = L.map(\n",
              "        &#x27;map_f635a39b38da92849f71d63664690d74&#x27;, {\n",
              "        center: [50.8505, 4.3488],\n",
              "        zoom: 105,\n",
              "        maxBounds: bounds,\n",
              "        layers: [],\n",
              "        worldCopyJump: false,\n",
              "        crs: L.CRS.EPSG3857,\n",
              "        zoomControl: true,\n",
              "        });\n",
              "\n",
              "\n",
              "    \n",
              "    var tile_layer_9b2b4d2ce547ea1fe82a53550289d31f = L.tileLayer(\n",
              "        &#x27;https://{s}.tile.openstreetmap.org/{z}/{x}/{y}.png&#x27;,\n",
              "        {\n",
              "        &quot;attribution&quot;: null,\n",
              "        &quot;detectRetina&quot;: false,\n",
              "        &quot;maxNativeZoom&quot;: 18,\n",
              "        &quot;maxZoom&quot;: 18,\n",
              "        &quot;minZoom&quot;: 0,\n",
              "        &quot;noWrap&quot;: false,\n",
              "        &quot;opacity&quot;: 1,\n",
              "        &quot;subdomains&quot;: &quot;abc&quot;,\n",
              "        &quot;tms&quot;: false\n",
              "}).addTo(map_f635a39b38da92849f71d63664690d74);\n",
              "    \n",
              "            var circle_marker_705a8fed22b69a8be5e6e0ce4164c6f6 = L.circleMarker(\n",
              "                [50.8505, 4.3488],\n",
              "                {\n",
              "  &quot;bubblingMouseEvents&quot;: true,\n",
              "  &quot;color&quot;: &quot;blue&quot;,\n",
              "  &quot;dashArray&quot;: null,\n",
              "  &quot;dashOffset&quot;: null,\n",
              "  &quot;fill&quot;: false,\n",
              "  &quot;fillColor&quot;: &quot;blue&quot;,\n",
              "  &quot;fillOpacity&quot;: 0.2,\n",
              "  &quot;fillRule&quot;: &quot;evenodd&quot;,\n",
              "  &quot;lineCap&quot;: &quot;round&quot;,\n",
              "  &quot;lineJoin&quot;: &quot;round&quot;,\n",
              "  &quot;opacity&quot;: 1.0,\n",
              "  &quot;radius&quot;: 15,\n",
              "  &quot;stroke&quot;: true,\n",
              "  &quot;weight&quot;: 3\n",
              "}\n",
              "                )\n",
              "                .addTo(map_f635a39b38da92849f71d63664690d74);\n",
              "            \n",
              "    \n",
              "        var marker_00003b4d7244b75d9422158dd1ed6376 = L.marker(\n",
              "            [50.8505, 4.3488],\n",
              "            {\n",
              "                icon: new L.Icon.Default(),\n",
              "                }\n",
              "            ).addTo(map_f635a39b38da92849f71d63664690d74);\n",
              "        \n",
              "&lt;/script&gt;\" style=\"position:absolute;width:100%;height:100%;left:0;top:0;border:none !important;\" allowfullscreen webkitallowfullscreen mozallowfullscreen></iframe></div></div>"
            ]
          },
          "metadata": {},
          "execution_count": 91
        }
      ]
    },
    {
      "cell_type": "code",
      "source": [
        "https://datasciencesphere.com/project/track-location-ip-address-python-geocoder/"
      ],
      "metadata": {
        "id": "caznvoQGkxrR"
      },
      "execution_count": null,
      "outputs": []
    },
    {
      "cell_type": "markdown",
      "source": [
        "https://datasciencesphere.com/project/track-location-ip-address-python-geocoder/"
      ],
      "metadata": {
        "id": "-_HEZQjzl-ID"
      }
    },
    {
      "cell_type": "code",
      "source": [
        "ip = geocoder.ip(\"me\")\n",
        "ip\n",
        "\n",
        "print(ip.latlng)"
      ],
      "metadata": {
        "id": "O7ucmMlajURX",
        "outputId": "ec7f0cfe-c5bf-41c6-dc67-0d97a8d25a02",
        "colab": {
          "base_uri": "https://localhost:8080/"
        }
      },
      "execution_count": null,
      "outputs": [
        {
          "output_type": "execute_result",
          "data": {
            "text/plain": [
              "<[OK] Ipinfo - Geocode [North Charleston, South Carolina, US]>"
            ]
          },
          "metadata": {},
          "execution_count": 62
        }
      ]
    },
    {
      "cell_type": "code",
      "source": [
        "import requests\n",
        "\n",
        "url = 'https://maps.googleapis.com/maps/api/geocode/json'\n",
        "r = requests.get(url, params={\n",
        "    'sensor': 'false', \n",
        "    'address': 'Centre Pompidou, Paris, FR'\n",
        "})\n",
        "\n",
        "results = r.json()['results']\n",
        "results\n",
        "#location = results[0]['geometry']['location']\n",
        "#lat, lng = location['lat'], location['lng']"
      ],
      "metadata": {
        "id": "i3bLx72UmO1t",
        "outputId": "fd801fed-29ce-4cf0-cec7-0024dd6c17a2",
        "colab": {
          "base_uri": "https://localhost:8080/"
        }
      },
      "execution_count": null,
      "outputs": [
        {
          "output_type": "execute_result",
          "data": {
            "text/plain": [
              "[]"
            ]
          },
          "metadata": {},
          "execution_count": 80
        }
      ]
    },
    {
      "cell_type": "markdown",
      "source": [
        "https://janakiev.com/blog/geocoding-in-python/"
      ],
      "metadata": {
        "id": "GqfQAvkNm2Me"
      }
    },
    {
      "cell_type": "code",
      "source": [
        "location = geocoder.ip(\"66.249.76.216\")\n",
        "print(ip.city)\n",
        "print(ip)\n",
        "print(ip.latlng)\n",
        "\n",
        "location = ip.latlng\n",
        "lat, lng = location[0], location[1]\n",
        "\n",
        "#location = results[0]['geometry']['location']\n",
        "#lat, lng = location['lat'], location['lng']\n",
        "\n",
        "print(lat, lng, location)"
      ],
      "metadata": {
        "id": "AG99G4qWmz83",
        "outputId": "5e1d7d5c-0425-41e6-ef50-3a43addbb610",
        "colab": {
          "base_uri": "https://localhost:8080/"
        }
      },
      "execution_count": null,
      "outputs": [
        {
          "output_type": "stream",
          "name": "stdout",
          "text": [
            "Brussels\n",
            "<[OK] Ipinfo - Geocode [Brussels, Brussels Capital, BE]>\n",
            "[50.8505, 4.3488]\n",
            "50.8505 4.3488 [50.8505, 4.3488]\n"
          ]
        }
      ]
    }
  ]
}