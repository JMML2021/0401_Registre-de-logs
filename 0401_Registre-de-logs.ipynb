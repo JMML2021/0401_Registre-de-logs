{
  "nbformat": 4,
  "nbformat_minor": 0,
  "metadata": {
    "colab": {
      "name": "Untitled2.ipynb",
      "provenance": [],
      "authorship_tag": "ABX9TyMdRDQg0f+Zla9Ch8VimjTT",
      "include_colab_link": true
    },
    "kernelspec": {
      "name": "python3",
      "display_name": "Python 3"
    },
    "language_info": {
      "name": "python"
    }
  },
  "cells": [
    {
      "cell_type": "markdown",
      "metadata": {
        "id": "view-in-github",
        "colab_type": "text"
      },
      "source": [
        "<a href=\"https://colab.research.google.com/github/JMML2021/0401_Registre-de-logs/blob/main/0401_Registre-de-logs.ipynb\" target=\"_parent\"><img src=\"https://colab.research.google.com/assets/colab-badge.svg\" alt=\"Open In Colab\"/></a>"
      ]
    },
    {
      "cell_type": "code",
      "execution_count": 12,
      "metadata": {
        "id": "oD7cCpvzDJn3"
      },
      "outputs": [],
      "source": [
        "# importing libraries\n",
        "from urllib.request import urlretrieve\n",
        "import py7zr\n",
        "import pandas as pd\n",
        "import os\n",
        "import re\n",
        "from datetime import datetime\n",
        "import pytz\n",
        "import geocoder\n",
        "import folium\n",
        "import time\n",
        "import urllib.request\n",
        "import json\n",
        "import geopandas\n",
        "import matplotlib.pyplot as plt"
      ]
    },
    {
      "cell_type": "code",
      "source": [
        "! pip install geopandas\n"
      ],
      "metadata": {
        "id": "VDeiTdsSFwj-",
        "outputId": "1f4b7be5-0660-4b38-cacf-17659389ceed",
        "colab": {
          "base_uri": "https://localhost:8080/"
        }
      },
      "execution_count": 11,
      "outputs": [
        {
          "output_type": "stream",
          "name": "stdout",
          "text": [
            "Looking in indexes: https://pypi.org/simple, https://us-python.pkg.dev/colab-wheels/public/simple/\n",
            "Collecting geopandas\n",
            "  Downloading geopandas-0.10.2-py2.py3-none-any.whl (1.0 MB)\n",
            "\u001b[K     |████████████████████████████████| 1.0 MB 5.2 MB/s \n",
            "\u001b[?25hRequirement already satisfied: pandas>=0.25.0 in /usr/local/lib/python3.7/dist-packages (from geopandas) (1.3.5)\n",
            "Collecting pyproj>=2.2.0\n",
            "  Downloading pyproj-3.2.1-cp37-cp37m-manylinux2010_x86_64.whl (6.3 MB)\n",
            "\u001b[K     |████████████████████████████████| 6.3 MB 49.6 MB/s \n",
            "\u001b[?25hRequirement already satisfied: shapely>=1.6 in /usr/local/lib/python3.7/dist-packages (from geopandas) (1.8.2)\n",
            "Collecting fiona>=1.8\n",
            "  Downloading Fiona-1.8.21-cp37-cp37m-manylinux2014_x86_64.whl (16.7 MB)\n",
            "\u001b[K     |████████████████████████████████| 16.7 MB 48.2 MB/s \n",
            "\u001b[?25hRequirement already satisfied: six>=1.7 in /usr/local/lib/python3.7/dist-packages (from fiona>=1.8->geopandas) (1.15.0)\n",
            "Requirement already satisfied: click>=4.0 in /usr/local/lib/python3.7/dist-packages (from fiona>=1.8->geopandas) (7.1.2)\n",
            "Collecting munch\n",
            "  Downloading munch-2.5.0-py2.py3-none-any.whl (10 kB)\n",
            "Requirement already satisfied: certifi in /usr/local/lib/python3.7/dist-packages (from fiona>=1.8->geopandas) (2022.5.18.1)\n",
            "Requirement already satisfied: attrs>=17 in /usr/local/lib/python3.7/dist-packages (from fiona>=1.8->geopandas) (21.4.0)\n",
            "Requirement already satisfied: setuptools in /usr/local/lib/python3.7/dist-packages (from fiona>=1.8->geopandas) (57.4.0)\n",
            "Collecting click-plugins>=1.0\n",
            "  Downloading click_plugins-1.1.1-py2.py3-none-any.whl (7.5 kB)\n",
            "Collecting cligj>=0.5\n",
            "  Downloading cligj-0.7.2-py3-none-any.whl (7.1 kB)\n",
            "Requirement already satisfied: python-dateutil>=2.7.3 in /usr/local/lib/python3.7/dist-packages (from pandas>=0.25.0->geopandas) (2.8.2)\n",
            "Requirement already satisfied: pytz>=2017.3 in /usr/local/lib/python3.7/dist-packages (from pandas>=0.25.0->geopandas) (2022.1)\n",
            "Requirement already satisfied: numpy>=1.17.3 in /usr/local/lib/python3.7/dist-packages (from pandas>=0.25.0->geopandas) (1.21.6)\n",
            "Installing collected packages: munch, cligj, click-plugins, pyproj, fiona, geopandas\n",
            "Successfully installed click-plugins-1.1.1 cligj-0.7.2 fiona-1.8.21 geopandas-0.10.2 munch-2.5.0 pyproj-3.2.1\n"
          ]
        }
      ]
    },
    {
      "cell_type": "code",
      "source": [
        "#the copy and page the link \n",
        "\n",
        "URL=\"https://github.com/IT-Academy-BCN/Data-Science/raw/main/Data-sources/Web_access_log-akumenius.com.txt.7z\""
      ],
      "metadata": {
        "id": "dLVEF9fjE_Dl"
      },
      "execution_count": 13,
      "outputs": []
    },
    {
      "cell_type": "code",
      "source": [
        "# write a location for the data\n",
        "\n",
        "PATH=\"./data\""
      ],
      "metadata": {
        "id": "Zr7mH5uvFCA6"
      },
      "execution_count": 14,
      "outputs": []
    },
    {
      "cell_type": "code",
      "source": [
        "def zip_download(url, destination_dir):\n",
        "\n",
        "    \"\"\"\"download a remote .7z file\n",
        "    Parameters\n",
        "    ----------\n",
        "    url : string\n",
        "        URL of file to download\n",
        "    file_path: string\n",
        "       Path to the local directory where the file will download\"\"\"\n",
        "    \n",
        "    filepath = os.path.join(destination_dir,\"zipfile\")\n",
        "\n",
        "    if not os.path.exists(filepath):\n",
        "        if not os.path.exists(destination_dir):\n",
        "            os.makedirs(destination_dir)\n",
        "        \n",
        "        urlretrieve(url, filepath)\n",
        "        \n",
        "        with py7zr.SevenZipFile(filepath, mode='r') as file:\n",
        "            file.extractall(destination_dir)\n",
        "        \n",
        "    os.remove(filepath)\n",
        "            \n",
        "    print('Download complete!')"
      ],
      "metadata": {
        "id": "6r1VQXkIFH07"
      },
      "execution_count": 15,
      "outputs": []
    },
    {
      "cell_type": "code",
      "source": [
        "def get_files_path(path):\n",
        "    \n",
        "    \"\"\"get the full path of a file in a given directory\n",
        "     Parameters\n",
        "    ----------\n",
        "    path : string\n",
        "        path of the directory where the files are\"\"\"\n",
        "    files = []\n",
        "    for file in os.listdir(path):\n",
        "        files.append(os.path.join(path,file))\n",
        "    return files"
      ],
      "metadata": {
        "id": "5icwbNU9FLkL"
      },
      "execution_count": 16,
      "outputs": []
    },
    {
      "cell_type": "code",
      "source": [
        "\n",
        "zip_download(URL,PATH)"
      ],
      "metadata": {
        "id": "qq5n6olMFPNU",
        "outputId": "17159ebe-11c4-4e75-d708-79b0223985e0",
        "colab": {
          "base_uri": "https://localhost:8080/"
        }
      },
      "execution_count": 17,
      "outputs": [
        {
          "output_type": "stream",
          "name": "stdout",
          "text": [
            "Download complete!\n"
          ]
        }
      ]
    },
    {
      "cell_type": "code",
      "source": [
        "files = get_files_path(PATH)\n",
        "for file in files:\n",
        "    file = file"
      ],
      "metadata": {
        "id": "2Hcl0LYSFS7b"
      },
      "execution_count": 18,
      "outputs": []
    },
    {
      "cell_type": "code",
      "source": [
        "for file in files:\n",
        "    open_file = open(file)  # here our data\n",
        "    print(\"lines from the file: \"+ file)\n",
        "    for i in range(5):\n",
        "        line = open_file.readline()\n",
        "        print(line)"
      ],
      "metadata": {
        "id": "Bow-XOhHFYS7",
        "outputId": "88cb7c2f-6a3a-43d5-a1af-21418699909c",
        "colab": {
          "base_uri": "https://localhost:8080/"
        }
      },
      "execution_count": 19,
      "outputs": [
        {
          "output_type": "stream",
          "name": "stdout",
          "text": [
            "lines from the file: ./data/Web_access_log-akumenius.com.txt\n",
            "localhost 127.0.0.1 - - [23/Feb/2014:03:10:31 +0100] \"OPTIONS * HTTP/1.0\" 200 - \"-\" \"Apache (internal dummy connection)\" VLOG=-\n",
            "\n",
            "localhost 127.0.0.1 - - [23/Feb/2014:03:10:31 +0100] \"OPTIONS * HTTP/1.0\" 200 - \"-\" \"Apache (internal dummy connection)\" VLOG=-\n",
            "\n",
            "localhost 127.0.0.1 - - [23/Feb/2014:03:10:31 +0100] \"OPTIONS * HTTP/1.0\" 200 - \"-\" \"Apache (internal dummy connection)\" VLOG=-\n",
            "\n",
            "localhost 127.0.0.1 - - [23/Feb/2014:03:10:31 +0100] \"OPTIONS * HTTP/1.0\" 200 - \"-\" \"Apache (internal dummy connection)\" VLOG=-\n",
            "\n",
            "localhost 127.0.0.1 - - [23/Feb/2014:03:10:31 +0100] \"OPTIONS * HTTP/1.0\" 200 - \"-\" \"Apache (internal dummy connection)\" VLOG=-\n",
            "\n"
          ]
        }
      ]
    },
    {
      "cell_type": "code",
      "source": [
        "from google.colab import drive\n",
        "drive.mount('/content/drive')"
      ],
      "metadata": {
        "id": "uEbPHpGbMLvw",
        "outputId": "d764a1a4-f12a-4e73-d768-bf0fdbeb77c4",
        "colab": {
          "base_uri": "https://localhost:8080/"
        }
      },
      "execution_count": 20,
      "outputs": [
        {
          "output_type": "stream",
          "name": "stdout",
          "text": [
            "Mounted at /content/drive\n"
          ]
        }
      ]
    },
    {
      "cell_type": "code",
      "source": [
        "https://drive.google.com/file/d/1BvKWyEwfiAEjDlLKwkuxYVpnvIvf1X48/view?usp=sharing"
      ],
      "metadata": {
        "id": "N-1DE8HmHBBA",
        "outputId": "a6939b58-666d-435c-9060-740fc980a6cd",
        "colab": {
          "base_uri": "https://localhost:8080/",
          "height": 130
        }
      },
      "execution_count": 21,
      "outputs": [
        {
          "output_type": "error",
          "ename": "SyntaxError",
          "evalue": "ignored",
          "traceback": [
            "\u001b[0;36m  File \u001b[0;32m\"<ipython-input-21-47ddf36727b0>\"\u001b[0;36m, line \u001b[0;32m1\u001b[0m\n\u001b[0;31m    https://drive.google.com/file/d/1BvKWyEwfiAEjDlLKwkuxYVpnvIvf1X48/view?usp=sharing\u001b[0m\n\u001b[0m           ^\u001b[0m\n\u001b[0;31mSyntaxError\u001b[0m\u001b[0;31m:\u001b[0m invalid syntax\n"
          ]
        }
      ]
    },
    {
      "cell_type": "code",
      "source": [
        "df = open('/content/data/Web_access_log-akumenius.com.txt')"
      ],
      "metadata": {
        "id": "S8cgYls8MpY3"
      },
      "execution_count": 22,
      "outputs": []
    },
    {
      "cell_type": "code",
      "source": [
        "print(df.readline())\n",
        "\n",
        "linea1= df.readline()\n",
        "print(linea1)\n",
        "x = re.split(\"\\s\", linea1)\n",
        "print(x)\n",
        "\n",
        "for g in x:\n",
        "  print(g)\n"
      ],
      "metadata": {
        "id": "F-vSyyVTNibo",
        "outputId": "59162a1e-7eb0-4163-f16d-2143f96e0fbc",
        "colab": {
          "base_uri": "https://localhost:8080/"
        }
      },
      "execution_count": 31,
      "outputs": [
        {
          "output_type": "stream",
          "name": "stdout",
          "text": [
            "www.akumenius.com 74.86.158.107 - - [26/Feb/2014:14:44:22 +0100] \"HEAD / HTTP/1.1\" 200 - \"-\" \"Mozilla/5.0+(compatible; UptimeRobot/2.0; http://www.uptimerobot.com/)\" VLOG=-\n",
            "\n",
            "test.akumenius.com 80.28.221.123 - - [26/Feb/2014:14:44:50 +0100] \"GET /newdesign/log/php/249 HTTP/1.1\" 200 453888 \"http://test.akumenius.com/newdesign/log\" \"Mozilla/5.0 (X11; U; Linux i686; ca; rv:1.9.2.17) Gecko/20110428 Fedora/3.6.17-1.fc13 Firefox/3.6.17\" VLOG=-\n",
            "\n",
            "['test.akumenius.com', '80.28.221.123', '-', '-', '[26/Feb/2014:14:44:50', '+0100]', '\"GET', '/newdesign/log/php/249', 'HTTP/1.1\"', '200', '453888', '\"http://test.akumenius.com/newdesign/log\"', '\"Mozilla/5.0', '(X11;', 'U;', 'Linux', 'i686;', 'ca;', 'rv:1.9.2.17)', 'Gecko/20110428', 'Fedora/3.6.17-1.fc13', 'Firefox/3.6.17\"', 'VLOG=-', '']\n",
            "test.akumenius.com\n",
            "80.28.221.123\n",
            "-\n",
            "-\n",
            "[26/Feb/2014:14:44:50\n",
            "+0100]\n",
            "\"GET\n",
            "/newdesign/log/php/249\n",
            "HTTP/1.1\"\n",
            "200\n",
            "453888\n",
            "\"http://test.akumenius.com/newdesign/log\"\n",
            "\"Mozilla/5.0\n",
            "(X11;\n",
            "U;\n",
            "Linux\n",
            "i686;\n",
            "ca;\n",
            "rv:1.9.2.17)\n",
            "Gecko/20110428\n",
            "Fedora/3.6.17-1.fc13\n",
            "Firefox/3.6.17\"\n",
            "VLOG=-\n",
            "\n"
          ]
        }
      ]
    },
    {
      "cell_type": "code",
      "source": [
        "x = re.search([\"\\b]\\w+\", linea1)"
      ],
      "metadata": {
        "id": "SDMTmWn_Owcd",
        "outputId": "973679b2-e427-4251-b1aa-86d0665dbe6b",
        "colab": {
          "base_uri": "https://localhost:8080/",
          "height": 130
        }
      },
      "execution_count": 32,
      "outputs": [
        {
          "output_type": "error",
          "ename": "SyntaxError",
          "evalue": "ignored",
          "traceback": [
            "\u001b[0;36m  File \u001b[0;32m\"<ipython-input-32-48ae028d9154>\"\u001b[0;36m, line \u001b[0;32m1\u001b[0m\n\u001b[0;31m    x = re.search([\"\\b]\\w+\", linea1)\u001b[0m\n\u001b[0m                                   ^\u001b[0m\n\u001b[0;31mSyntaxError\u001b[0m\u001b[0;31m:\u001b[0m invalid syntax\n"
          ]
        }
      ]
    },
    {
      "cell_type": "code",
      "source": [
        "j = re.split(\"[;,] \", linea1)\n",
        "for i in range(len (j)):\n",
        "  print(i, j[i])\n",
        "\n",
        "print('asdasd ', j)"
      ],
      "metadata": {
        "id": "H12255ZtPTP2",
        "outputId": "235ba3ae-2072-4b5f-c84a-87acef8c2c06",
        "colab": {
          "base_uri": "https://localhost:8080/"
        }
      },
      "execution_count": 40,
      "outputs": [
        {
          "output_type": "stream",
          "name": "stdout",
          "text": [
            "0 test.akumenius.com 80.28.221.123 - - [26/Feb/2014:14:44:50 +0100] \"GET /newdesign/log/php/249 HTTP/1.1\" 200 453888 \"http://test.akumenius.com/newdesign/log\" \"Mozilla/5.0 (X11\n",
            "1 U\n",
            "2 Linux i686\n",
            "3 ca\n",
            "4 rv:1.9.2.17) Gecko/20110428 Fedora/3.6.17-1.fc13 Firefox/3.6.17\" VLOG=-\n",
            "\n",
            "asdasd  ['test.akumenius.com 80.28.221.123 - - [26/Feb/2014:14:44:50 +0100] \"GET /newdesign/log/php/249 HTTP/1.1\" 200 453888 \"http://test.akumenius.com/newdesign/log\" \"Mozilla/5.0 (X11', 'U', 'Linux i686', 'ca', 'rv:1.9.2.17) Gecko/20110428 Fedora/3.6.17-1.fc13 Firefox/3.6.17\" VLOG=-\\n']\n"
          ]
        }
      ]
    },
    {
      "cell_type": "code",
      "source": [
        "import re\n",
        "text = j[0]\n",
        "separators = \"[\", \"]\", \"\\s\", \",\"\n",
        "\n",
        "\n",
        "def custom_split(sepr_list, str_to_split):\n",
        "    # create regular expression dynamically\n",
        "    regular_exp = '|'.join(map(re.escape, sepr_list))\n",
        "    return re.split(regular_exp, str_to_split)\n",
        "\n",
        "\n",
        "pp= custom_split(separators, text)\n",
        "for tt in range(len(pp)):\n",
        "  print( tt, pp[tt])"
      ],
      "metadata": {
        "id": "dcv06GwhQv_c",
        "outputId": "68a9bf79-ed86-4d21-fc24-7fe4de1c216b",
        "colab": {
          "base_uri": "https://localhost:8080/"
        }
      },
      "execution_count": 50,
      "outputs": [
        {
          "output_type": "stream",
          "name": "stdout",
          "text": [
            "0 test.akumenius.com 80.28.221.123 - - \n",
            "1 26/Feb/2014:14:44:50 +0100\n",
            "2  \"GET /newdesign/log/php/249 HTTP/1.1\" 200 453888 \"http://test.akumenius.com/newdesign/log\" \"Mozilla/5.0 (X11\n"
          ]
        }
      ]
    },
    {
      "cell_type": "code",
      "source": [
        "x = re.split(\"\\s\", pp[0])\n",
        "print(x)\n",
        "for tt in range (len( x)):\n",
        "  print( tt, x[tt])"
      ],
      "metadata": {
        "id": "-gpYz7auSqmR",
        "outputId": "00b02206-6539-44c7-e5d1-a2da46f8a673",
        "colab": {
          "base_uri": "https://localhost:8080/"
        }
      },
      "execution_count": 51,
      "outputs": [
        {
          "output_type": "stream",
          "name": "stdout",
          "text": [
            "['test.akumenius.com', '80.28.221.123', '-', '-', '']\n",
            "0 test.akumenius.com\n",
            "1 80.28.221.123\n",
            "2 -\n",
            "3 -\n",
            "4 \n"
          ]
        }
      ]
    },
    {
      "cell_type": "code",
      "source": [
        "x = re.split(\"\\s\", pp[2])\n",
        "print(x)\n",
        "for tt in range (len( x)):\n",
        "  print( tt, x[tt])"
      ],
      "metadata": {
        "id": "-6Gr3aUZTOh6",
        "outputId": "b921a969-4e1b-407b-9bee-af4cf8337e7d",
        "colab": {
          "base_uri": "https://localhost:8080/"
        }
      },
      "execution_count": 52,
      "outputs": [
        {
          "output_type": "stream",
          "name": "stdout",
          "text": [
            "['', '\"GET', '/newdesign/log/php/249', 'HTTP/1.1\"', '200', '453888', '\"http://test.akumenius.com/newdesign/log\"', '\"Mozilla/5.0', '(X11']\n",
            "0 \n",
            "1 \"GET\n",
            "2 /newdesign/log/php/249\n",
            "3 HTTP/1.1\"\n",
            "4 200\n",
            "5 453888\n",
            "6 \"http://test.akumenius.com/newdesign/log\"\n",
            "7 \"Mozilla/5.0\n",
            "8 (X11\n"
          ]
        }
      ]
    }
  ]
}