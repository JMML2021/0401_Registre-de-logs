{
  "nbformat": 4,
  "nbformat_minor": 0,
  "metadata": {
    "colab": {
      "name": "Untitled2.ipynb",
      "provenance": [],
      "mount_file_id": "https://github.com/JMML2021/0401_Registre-de-logs/blob/main/0401_Registre-de-logs.ipynb",
      "authorship_tag": "ABX9TyPrDWsipt3cVMEe+19fGKzu",
      "include_colab_link": true
    },
    "kernelspec": {
      "name": "python3",
      "display_name": "Python 3"
    },
    "language_info": {
      "name": "python"
    }
  },
  "cells": [
    {
      "cell_type": "markdown",
      "metadata": {
        "id": "view-in-github",
        "colab_type": "text"
      },
      "source": [
        "<a href=\"https://colab.research.google.com/github/JMML2021/0401_Registre-de-logs/blob/main/0401_Registre-de-logs.ipynb\" target=\"_parent\"><img src=\"https://colab.research.google.com/assets/colab-badge.svg\" alt=\"Open In Colab\"/></a>"
      ]
    },
    {
      "cell_type": "code",
      "execution_count": 20,
      "metadata": {
        "id": "oD7cCpvzDJn3"
      },
      "outputs": [],
      "source": [
        "# importing libraries\n",
        "from urllib.request import urlretrieve\n",
        "#import py7zr\n",
        "import pandas as pd\n",
        "import os\n",
        "import re\n",
        "from datetime import datetime\n",
        "import pytz\n",
        "#import geocoder\n",
        "import folium\n",
        "import time\n",
        "import urllib.request\n",
        "import json\n",
        "import geopandas\n",
        "import matplotlib.pyplot as plt"
      ]
    },
    {
      "cell_type": "code",
      "source": [
        "! pip install geocoder==0.6.0\n"
      ],
      "metadata": {
        "colab": {
          "base_uri": "https://localhost:8080/"
        },
        "id": "VDeiTdsSFwj-",
        "outputId": "d40fb47d-fe58-4e3e-bc7a-8d0df025088f"
      },
      "execution_count": 17,
      "outputs": [
        {
          "output_type": "stream",
          "name": "stdout",
          "text": [
            "Looking in indexes: https://pypi.org/simple, https://us-python.pkg.dev/colab-wheels/public/simple/\n",
            "Collecting geocoder==0.6.0\n",
            "  Downloading geocoder-0.6.0.tar.gz (14 kB)\n",
            "Requirement already satisfied: requests>=2.3.0 in /usr/local/lib/python3.7/dist-packages (from geocoder==0.6.0) (2.23.0)\n",
            "Requirement already satisfied: chardet<4,>=3.0.2 in /usr/local/lib/python3.7/dist-packages (from requests>=2.3.0->geocoder==0.6.0) (3.0.4)\n",
            "Requirement already satisfied: certifi>=2017.4.17 in /usr/local/lib/python3.7/dist-packages (from requests>=2.3.0->geocoder==0.6.0) (2022.5.18.1)\n",
            "Requirement already satisfied: urllib3!=1.25.0,!=1.25.1,<1.26,>=1.21.1 in /usr/local/lib/python3.7/dist-packages (from requests>=2.3.0->geocoder==0.6.0) (1.24.3)\n",
            "Requirement already satisfied: idna<3,>=2.5 in /usr/local/lib/python3.7/dist-packages (from requests>=2.3.0->geocoder==0.6.0) (2.10)\n",
            "Building wheels for collected packages: geocoder\n",
            "  Building wheel for geocoder (setup.py) ... \u001b[?25l\u001b[?25hdone\n",
            "  Created wheel for geocoder: filename=geocoder-0.6.0-py3-none-any.whl size=20639 sha256=5e90bbf791f8f98316d822d213ff369b7e33f443f6e62a24f2ae9219a17d463f\n",
            "  Stored in directory: /root/.cache/pip/wheels/98/23/d1/bfa86080943042ac4149591a7d98583cf229e4f23265a037ef\n",
            "Successfully built geocoder\n",
            "Installing collected packages: geocoder\n",
            "Successfully installed geocoder-0.6.0\n"
          ]
        }
      ]
    },
    {
      "cell_type": "code",
      "source": [
        "#the copy and page the link \n",
        "\n",
        "URL=\"https://github.com/IT-Academy-BCN/Data-Science/raw/main/Data-sources/Web_access_log-akumenius.com.txt.7z\""
      ],
      "metadata": {
        "id": "dLVEF9fjE_Dl"
      },
      "execution_count": null,
      "outputs": []
    },
    {
      "cell_type": "code",
      "source": [
        "# write a location for the data\n",
        "\n",
        "PATH=\"./data\""
      ],
      "metadata": {
        "id": "Zr7mH5uvFCA6"
      },
      "execution_count": null,
      "outputs": []
    },
    {
      "cell_type": "code",
      "source": [
        "def zip_download(url, destination_dir):\n",
        "\n",
        "    \"\"\"\"download a remote .7z file\n",
        "    Parameters\n",
        "    ----------\n",
        "    url : string\n",
        "        URL of file to download\n",
        "    file_path: string\n",
        "       Path to the local directory where the file will download\"\"\"\n",
        "    \n",
        "    filepath = os.path.join(destination_dir,\"zipfile\")\n",
        "\n",
        "    if not os.path.exists(filepath):\n",
        "        if not os.path.exists(destination_dir):\n",
        "            os.makedirs(destination_dir)\n",
        "        \n",
        "        urlretrieve(url, filepath)\n",
        "        \n",
        "        with py7zr.SevenZipFile(filepath, mode='r') as file:\n",
        "            file.extractall(destination_dir)\n",
        "        \n",
        "    os.remove(filepath)\n",
        "            \n",
        "    print('Download complete!')"
      ],
      "metadata": {
        "id": "6r1VQXkIFH07"
      },
      "execution_count": null,
      "outputs": []
    },
    {
      "cell_type": "code",
      "source": [
        "# Activo Google Drive\n",
        "\n",
        "from google.colab import drive\n",
        "drive.mount('/content/drive')"
      ],
      "metadata": {
        "id": "XtbGt2_x71yT",
        "outputId": "74707eb8-0d00-4ec8-fac4-6ac92bf0b821",
        "colab": {
          "base_uri": "https://localhost:8080/"
        }
      },
      "execution_count": 23,
      "outputs": [
        {
          "output_type": "stream",
          "name": "stdout",
          "text": [
            "Drive already mounted at /content/drive; to attempt to forcibly remount, call drive.mount(\"/content/drive\", force_remount=True).\n"
          ]
        }
      ]
    },
    {
      "cell_type": "code",
      "source": [
        "# Abro archivo\n",
        "\n",
        "df = list(open('/content/drive/MyDrive/Web_access_log-akumenius.com.txt'))"
      ],
      "metadata": {
        "id": "S8cgYls8MpY3"
      },
      "execution_count": 51,
      "outputs": []
    },
    {
      "cell_type": "code",
      "source": [
        "\n",
        "\n",
        "separators = \"[\", \"]\", \"\\s\", \",\"\n",
        "\n",
        "\n",
        "def custom_split(sepr_list, str_to_split):\n",
        "    # create regular expression dynamically\n",
        "    regular_exp = '|'.join(map(re.escape, sepr_list))\n",
        "    return re.split(regular_exp, str_to_split)\n"
      ],
      "metadata": {
        "id": "dcv06GwhQv_c"
      },
      "execution_count": 57,
      "outputs": []
    },
    {
      "cell_type": "code",
      "source": [
        "\n",
        "\n",
        "for s, textoLinea  in enumerate(df):\n",
        "  if s==59:\n",
        "    print(s,t)\n",
        "    pp= custom_split(separators, textoLinea)\n",
        "    print(pp)\n",
        "\n"
      ],
      "metadata": {
        "id": "CA09gwORESkk",
        "outputId": "061592da-1fdb-4b56-92e8-2ad55809b073",
        "colab": {
          "base_uri": "https://localhost:8080/"
        }
      },
      "execution_count": 58,
      "outputs": [
        {
          "output_type": "stream",
          "name": "stdout",
          "text": [
            "59 localhost 127.0.0.1 - - [02/Mar/2014:03:10:18 +0100] \"OPTIONS * HTTP/1.0\" 200 - \"-\" \"Apache (internal dummy connection)\" VLOG=-\n",
            "\n",
            "['www.akumenius.com 66.249.76.216 - - ', '23/Feb/2014:03:11:29 +0100', ' \"GET /hoteles-baratos/ofertas-hoteles-todo-incluido-en-cartaya_ESPA%C3%91A.html HTTP/1.1\" 200 4261 \"-\" \"Mozilla/5.0 (compatible; Googlebot/2.1; +http://www.google.com/bot.html)\" VLOG=-\\n']\n"
          ]
        }
      ]
    },
    {
      "cell_type": "code",
      "source": [
        "# Separo la primera parte\n",
        "def ladoIzquierdo(texto1):\n",
        "  x = re.split(\"\\s\", texto1)\n",
        "  direccion = x[0]\n",
        "  IP = x[1]\n",
        "  return (direccion, IP)\n",
        "\n",
        "\n",
        "print('Lado Izquierdo ', ladoIzquierdo(pp[0]))\n",
        "\n"
      ],
      "metadata": {
        "colab": {
          "base_uri": "https://localhost:8080/"
        },
        "id": "-gpYz7auSqmR",
        "outputId": "9e6c8b48-9d0f-4812-9969-bff7dae2fdd1"
      },
      "execution_count": 59,
      "outputs": [
        {
          "output_type": "stream",
          "name": "stdout",
          "text": [
            "Lado Izquierdo  ('www.akumenius.com', '66.249.76.216')\n"
          ]
        }
      ]
    },
    {
      "cell_type": "code",
      "source": [
        "separators = \"[\", \"]\", \"\\s\", \",\"\n",
        "\n",
        "\n",
        "def custom_split(sepr_list, str_to_split):\n",
        "    # create regular expression dynamically\n",
        "    regular_exp = '|'.join(map(re.escape, sepr_list))\n",
        "    return re.split(regular_exp, str_to_split)\n",
        "\n",
        "pp= custom_split(separators, pp[1])\n",
        "print('Lado Derecho: ', pp)    \n"
      ],
      "metadata": {
        "id": "s0G4sqNTFyP4",
        "outputId": "b329d34c-50b0-478f-fbb3-545d610b61f0",
        "colab": {
          "base_uri": "https://localhost:8080/"
        }
      },
      "execution_count": 61,
      "outputs": [
        {
          "output_type": "stream",
          "name": "stdout",
          "text": [
            "Lado Derecho:  ['23/Feb/2014:03:11:29 +0100']\n"
          ]
        }
      ]
    },
    {
      "cell_type": "code",
      "source": [
        "# Divido la segunda parte\n",
        "\n",
        "x = re.split(\"\\s\", pp[2\n",
        "                      \n",
        "                      ])\n",
        "print(x)\n",
        "for tt in range (len( x)):\n",
        "  print( tt, x[tt])"
      ],
      "metadata": {
        "colab": {
          "base_uri": "https://localhost:8080/"
        },
        "id": "-6Gr3aUZTOh6",
        "outputId": "b921a969-4e1b-407b-9bee-af4cf8337e7d"
      },
      "execution_count": null,
      "outputs": [
        {
          "output_type": "stream",
          "name": "stdout",
          "text": [
            "['', '\"GET', '/newdesign/log/php/249', 'HTTP/1.1\"', '200', '453888', '\"http://test.akumenius.com/newdesign/log\"', '\"Mozilla/5.0', '(X11']\n",
            "0 \n",
            "1 \"GET\n",
            "2 /newdesign/log/php/249\n",
            "3 HTTP/1.1\"\n",
            "4 200\n",
            "5 453888\n",
            "6 \"http://test.akumenius.com/newdesign/log\"\n",
            "7 \"Mozilla/5.0\n",
            "8 (X11\n"
          ]
        }
      ]
    },
    {
      "cell_type": "code",
      "source": [
        "for file in files:\n",
        "    open_file = open(file)  # here our data\n",
        "    print(\"lines from the file: \"+ file)\n",
        "    for i in range(5):\n",
        "        line = open_file.readline()\n",
        "        print(line)"
      ],
      "metadata": {
        "colab": {
          "base_uri": "https://localhost:8080/"
        },
        "id": "Bow-XOhHFYS7",
        "outputId": "88cb7c2f-6a3a-43d5-a1af-21418699909c"
      },
      "execution_count": null,
      "outputs": [
        {
          "output_type": "stream",
          "name": "stdout",
          "text": [
            "lines from the file: ./data/Web_access_log-akumenius.com.txt\n",
            "localhost 127.0.0.1 - - [23/Feb/2014:03:10:31 +0100] \"OPTIONS * HTTP/1.0\" 200 - \"-\" \"Apache (internal dummy connection)\" VLOG=-\n",
            "\n",
            "localhost 127.0.0.1 - - [23/Feb/2014:03:10:31 +0100] \"OPTIONS * HTTP/1.0\" 200 - \"-\" \"Apache (internal dummy connection)\" VLOG=-\n",
            "\n",
            "localhost 127.0.0.1 - - [23/Feb/2014:03:10:31 +0100] \"OPTIONS * HTTP/1.0\" 200 - \"-\" \"Apache (internal dummy connection)\" VLOG=-\n",
            "\n",
            "localhost 127.0.0.1 - - [23/Feb/2014:03:10:31 +0100] \"OPTIONS * HTTP/1.0\" 200 - \"-\" \"Apache (internal dummy connection)\" VLOG=-\n",
            "\n",
            "localhost 127.0.0.1 - - [23/Feb/2014:03:10:31 +0100] \"OPTIONS * HTTP/1.0\" 200 - \"-\" \"Apache (internal dummy connection)\" VLOG=-\n",
            "\n"
          ]
        }
      ]
    },
    {
      "cell_type": "code",
      "source": [
        "ip = geocoder.ip(\"80.28.221.123\")\n",
        "print(ip.city)\n",
        "print(ip)\n",
        "print(ip.latlng)"
      ],
      "metadata": {
        "id": "skHdB2p1jKja",
        "outputId": "29a25717-d9f3-47ec-ff67-a1d729b89e74",
        "colab": {
          "base_uri": "https://localhost:8080/"
        }
      },
      "execution_count": null,
      "outputs": [
        {
          "output_type": "stream",
          "name": "stdout",
          "text": [
            "Terrassa\n",
            "<[OK] Ipinfo - Geocode [Terrassa, Catalonia, ES]>\n",
            "[41.5667, 2.0167]\n"
          ]
        }
      ]
    },
    {
      "cell_type": "code",
      "source": [
        "location = ip.latlng\n",
        "\n",
        "map = folium.Map(location=location, zoom_start=105)\n",
        "folium.CircleMarker(location=location, radius=15, color=\"blue\").add_to(map)\n",
        "folium.Marker(location).add_to(map)\n",
        "map"
      ],
      "metadata": {
        "id": "EIILDe56j9HA",
        "outputId": "def0256f-7711-47e5-eefb-1d96feb70aa0",
        "colab": {
          "base_uri": "https://localhost:8080/",
          "height": 915
        }
      },
      "execution_count": null,
      "outputs": [
        {
          "output_type": "execute_result",
          "data": {
            "text/plain": [
              "<folium.folium.Map at 0x7f7b39b3d3d0>"
            ],
            "text/html": [
              "<div style=\"width:100%;\"><div style=\"position:relative;width:100%;height:0;padding-bottom:60%;\"><span style=\"color:#565656\">Make this Notebook Trusted to load map: File -> Trust Notebook</span><iframe srcdoc=\"&lt;!DOCTYPE html&gt;\n",
              "&lt;head&gt;    \n",
              "    &lt;meta http-equiv=&quot;content-type&quot; content=&quot;text/html; charset=UTF-8&quot; /&gt;\n",
              "    &lt;script&gt;L_PREFER_CANVAS=false; L_NO_TOUCH=false; L_DISABLE_3D=false;&lt;/script&gt;\n",
              "    &lt;script src=&quot;https://cdn.jsdelivr.net/npm/leaflet@1.4.0/dist/leaflet.js&quot;&gt;&lt;/script&gt;\n",
              "    &lt;script src=&quot;https://code.jquery.com/jquery-1.12.4.min.js&quot;&gt;&lt;/script&gt;\n",
              "    &lt;script src=&quot;https://maxcdn.bootstrapcdn.com/bootstrap/3.2.0/js/bootstrap.min.js&quot;&gt;&lt;/script&gt;\n",
              "    &lt;script src=&quot;https://cdnjs.cloudflare.com/ajax/libs/Leaflet.awesome-markers/2.0.2/leaflet.awesome-markers.js&quot;&gt;&lt;/script&gt;\n",
              "    &lt;link rel=&quot;stylesheet&quot; href=&quot;https://cdn.jsdelivr.net/npm/leaflet@1.4.0/dist/leaflet.css&quot;/&gt;\n",
              "    &lt;link rel=&quot;stylesheet&quot; href=&quot;https://maxcdn.bootstrapcdn.com/bootstrap/3.2.0/css/bootstrap.min.css&quot;/&gt;\n",
              "    &lt;link rel=&quot;stylesheet&quot; href=&quot;https://maxcdn.bootstrapcdn.com/bootstrap/3.2.0/css/bootstrap-theme.min.css&quot;/&gt;\n",
              "    &lt;link rel=&quot;stylesheet&quot; href=&quot;https://maxcdn.bootstrapcdn.com/font-awesome/4.6.3/css/font-awesome.min.css&quot;/&gt;\n",
              "    &lt;link rel=&quot;stylesheet&quot; href=&quot;https://cdnjs.cloudflare.com/ajax/libs/Leaflet.awesome-markers/2.0.2/leaflet.awesome-markers.css&quot;/&gt;\n",
              "    &lt;link rel=&quot;stylesheet&quot; href=&quot;https://rawcdn.githack.com/python-visualization/folium/master/folium/templates/leaflet.awesome.rotate.css&quot;/&gt;\n",
              "    &lt;style&gt;html, body {width: 100%;height: 100%;margin: 0;padding: 0;}&lt;/style&gt;\n",
              "    &lt;style&gt;#map {position:absolute;top:0;bottom:0;right:0;left:0;}&lt;/style&gt;\n",
              "    \n",
              "    &lt;meta name=&quot;viewport&quot; content=&quot;width=device-width,\n",
              "        initial-scale=1.0, maximum-scale=1.0, user-scalable=no&quot; /&gt;\n",
              "    &lt;style&gt;#map_f3acb9cb4e094296af430c3bc80f2c2c {\n",
              "        position: relative;\n",
              "        width: 100.0%;\n",
              "        height: 100.0%;\n",
              "        left: 0.0%;\n",
              "        top: 0.0%;\n",
              "        }\n",
              "    &lt;/style&gt;\n",
              "&lt;/head&gt;\n",
              "&lt;body&gt;    \n",
              "    \n",
              "    &lt;div class=&quot;folium-map&quot; id=&quot;map_f3acb9cb4e094296af430c3bc80f2c2c&quot; &gt;&lt;/div&gt;\n",
              "&lt;/body&gt;\n",
              "&lt;script&gt;    \n",
              "    \n",
              "    \n",
              "        var bounds = null;\n",
              "    \n",
              "\n",
              "    var map_f3acb9cb4e094296af430c3bc80f2c2c = L.map(\n",
              "        &#x27;map_f3acb9cb4e094296af430c3bc80f2c2c&#x27;, {\n",
              "        center: [41.5667, 2.0167],\n",
              "        zoom: 105,\n",
              "        maxBounds: bounds,\n",
              "        layers: [],\n",
              "        worldCopyJump: false,\n",
              "        crs: L.CRS.EPSG3857,\n",
              "        zoomControl: true,\n",
              "        });\n",
              "\n",
              "\n",
              "    \n",
              "    var tile_layer_a43848ac4a7beb5bd3d259e8f1fb7c4e = L.tileLayer(\n",
              "        &#x27;https://{s}.tile.openstreetmap.org/{z}/{x}/{y}.png&#x27;,\n",
              "        {\n",
              "        &quot;attribution&quot;: null,\n",
              "        &quot;detectRetina&quot;: false,\n",
              "        &quot;maxNativeZoom&quot;: 18,\n",
              "        &quot;maxZoom&quot;: 18,\n",
              "        &quot;minZoom&quot;: 0,\n",
              "        &quot;noWrap&quot;: false,\n",
              "        &quot;opacity&quot;: 1,\n",
              "        &quot;subdomains&quot;: &quot;abc&quot;,\n",
              "        &quot;tms&quot;: false\n",
              "}).addTo(map_f3acb9cb4e094296af430c3bc80f2c2c);\n",
              "    \n",
              "            var circle_marker_dc93b256a808cbfc830b0149b9dd6df5 = L.circleMarker(\n",
              "                [41.5667, 2.0167],\n",
              "                {\n",
              "  &quot;bubblingMouseEvents&quot;: true,\n",
              "  &quot;color&quot;: &quot;blue&quot;,\n",
              "  &quot;dashArray&quot;: null,\n",
              "  &quot;dashOffset&quot;: null,\n",
              "  &quot;fill&quot;: false,\n",
              "  &quot;fillColor&quot;: &quot;blue&quot;,\n",
              "  &quot;fillOpacity&quot;: 0.2,\n",
              "  &quot;fillRule&quot;: &quot;evenodd&quot;,\n",
              "  &quot;lineCap&quot;: &quot;round&quot;,\n",
              "  &quot;lineJoin&quot;: &quot;round&quot;,\n",
              "  &quot;opacity&quot;: 1.0,\n",
              "  &quot;radius&quot;: 15,\n",
              "  &quot;stroke&quot;: true,\n",
              "  &quot;weight&quot;: 3\n",
              "}\n",
              "                )\n",
              "                .addTo(map_f3acb9cb4e094296af430c3bc80f2c2c);\n",
              "            \n",
              "    \n",
              "        var marker_d93409a7cba0844266d8cacc7771ab1b = L.marker(\n",
              "            [41.5667, 2.0167],\n",
              "            {\n",
              "                icon: new L.Icon.Default(),\n",
              "                }\n",
              "            ).addTo(map_f3acb9cb4e094296af430c3bc80f2c2c);\n",
              "        \n",
              "&lt;/script&gt;\" style=\"position:absolute;width:100%;height:100%;left:0;top:0;border:none !important;\" allowfullscreen webkitallowfullscreen mozallowfullscreen></iframe></div></div>"
            ]
          },
          "metadata": {},
          "execution_count": 93
        }
      ]
    },
    {
      "cell_type": "code",
      "source": [
        "https://cheatography.com/davechild/cheat-sheets/regular-expressions/"
      ],
      "metadata": {
        "id": "0LIAmuANsNqz"
      },
      "execution_count": null,
      "outputs": []
    },
    {
      "cell_type": "markdown",
      "source": [
        "https://cheatography.com/davechild/cheat-sheets/regular-expressions/"
      ],
      "metadata": {
        "id": "g03qZKLesPIc"
      }
    },
    {
      "cell_type": "code",
      "source": [
        "folium.Map(location=[45.5236, -122.6750],\n",
        "           tiles='Mapbox',\n",
        "           API_key='your.API.key')\n",
        "map"
      ],
      "metadata": {
        "id": "x_FhD2jfpwzR",
        "outputId": "a172722c-835b-4b80-e809-6268f90f45ed",
        "colab": {
          "base_uri": "https://localhost:8080/",
          "height": 915
        }
      },
      "execution_count": null,
      "outputs": [
        {
          "output_type": "execute_result",
          "data": {
            "text/plain": [
              "<folium.folium.Map at 0x7f7b39b0fbd0>"
            ],
            "text/html": [
              "<div style=\"width:100%;\"><div style=\"position:relative;width:100%;height:0;padding-bottom:60%;\"><span style=\"color:#565656\">Make this Notebook Trusted to load map: File -> Trust Notebook</span><iframe srcdoc=\"&lt;!DOCTYPE html&gt;\n",
              "&lt;head&gt;    \n",
              "    &lt;meta http-equiv=&quot;content-type&quot; content=&quot;text/html; charset=UTF-8&quot; /&gt;\n",
              "    &lt;script&gt;L_PREFER_CANVAS=false; L_NO_TOUCH=false; L_DISABLE_3D=false;&lt;/script&gt;\n",
              "    &lt;script src=&quot;https://cdn.jsdelivr.net/npm/leaflet@1.4.0/dist/leaflet.js&quot;&gt;&lt;/script&gt;\n",
              "    &lt;script src=&quot;https://code.jquery.com/jquery-1.12.4.min.js&quot;&gt;&lt;/script&gt;\n",
              "    &lt;script src=&quot;https://maxcdn.bootstrapcdn.com/bootstrap/3.2.0/js/bootstrap.min.js&quot;&gt;&lt;/script&gt;\n",
              "    &lt;script src=&quot;https://cdnjs.cloudflare.com/ajax/libs/Leaflet.awesome-markers/2.0.2/leaflet.awesome-markers.js&quot;&gt;&lt;/script&gt;\n",
              "    &lt;link rel=&quot;stylesheet&quot; href=&quot;https://cdn.jsdelivr.net/npm/leaflet@1.4.0/dist/leaflet.css&quot;/&gt;\n",
              "    &lt;link rel=&quot;stylesheet&quot; href=&quot;https://maxcdn.bootstrapcdn.com/bootstrap/3.2.0/css/bootstrap.min.css&quot;/&gt;\n",
              "    &lt;link rel=&quot;stylesheet&quot; href=&quot;https://maxcdn.bootstrapcdn.com/bootstrap/3.2.0/css/bootstrap-theme.min.css&quot;/&gt;\n",
              "    &lt;link rel=&quot;stylesheet&quot; href=&quot;https://maxcdn.bootstrapcdn.com/font-awesome/4.6.3/css/font-awesome.min.css&quot;/&gt;\n",
              "    &lt;link rel=&quot;stylesheet&quot; href=&quot;https://cdnjs.cloudflare.com/ajax/libs/Leaflet.awesome-markers/2.0.2/leaflet.awesome-markers.css&quot;/&gt;\n",
              "    &lt;link rel=&quot;stylesheet&quot; href=&quot;https://rawcdn.githack.com/python-visualization/folium/master/folium/templates/leaflet.awesome.rotate.css&quot;/&gt;\n",
              "    &lt;style&gt;html, body {width: 100%;height: 100%;margin: 0;padding: 0;}&lt;/style&gt;\n",
              "    &lt;style&gt;#map {position:absolute;top:0;bottom:0;right:0;left:0;}&lt;/style&gt;\n",
              "    \n",
              "    &lt;meta name=&quot;viewport&quot; content=&quot;width=device-width,\n",
              "        initial-scale=1.0, maximum-scale=1.0, user-scalable=no&quot; /&gt;\n",
              "    &lt;style&gt;#map_f635a39b38da92849f71d63664690d74 {\n",
              "        position: relative;\n",
              "        width: 100.0%;\n",
              "        height: 100.0%;\n",
              "        left: 0.0%;\n",
              "        top: 0.0%;\n",
              "        }\n",
              "    &lt;/style&gt;\n",
              "&lt;/head&gt;\n",
              "&lt;body&gt;    \n",
              "    \n",
              "    &lt;div class=&quot;folium-map&quot; id=&quot;map_f635a39b38da92849f71d63664690d74&quot; &gt;&lt;/div&gt;\n",
              "&lt;/body&gt;\n",
              "&lt;script&gt;    \n",
              "    \n",
              "    \n",
              "        var bounds = null;\n",
              "    \n",
              "\n",
              "    var map_f635a39b38da92849f71d63664690d74 = L.map(\n",
              "        &#x27;map_f635a39b38da92849f71d63664690d74&#x27;, {\n",
              "        center: [50.8505, 4.3488],\n",
              "        zoom: 105,\n",
              "        maxBounds: bounds,\n",
              "        layers: [],\n",
              "        worldCopyJump: false,\n",
              "        crs: L.CRS.EPSG3857,\n",
              "        zoomControl: true,\n",
              "        });\n",
              "\n",
              "\n",
              "    \n",
              "    var tile_layer_9b2b4d2ce547ea1fe82a53550289d31f = L.tileLayer(\n",
              "        &#x27;https://{s}.tile.openstreetmap.org/{z}/{x}/{y}.png&#x27;,\n",
              "        {\n",
              "        &quot;attribution&quot;: null,\n",
              "        &quot;detectRetina&quot;: false,\n",
              "        &quot;maxNativeZoom&quot;: 18,\n",
              "        &quot;maxZoom&quot;: 18,\n",
              "        &quot;minZoom&quot;: 0,\n",
              "        &quot;noWrap&quot;: false,\n",
              "        &quot;opacity&quot;: 1,\n",
              "        &quot;subdomains&quot;: &quot;abc&quot;,\n",
              "        &quot;tms&quot;: false\n",
              "}).addTo(map_f635a39b38da92849f71d63664690d74);\n",
              "    \n",
              "            var circle_marker_705a8fed22b69a8be5e6e0ce4164c6f6 = L.circleMarker(\n",
              "                [50.8505, 4.3488],\n",
              "                {\n",
              "  &quot;bubblingMouseEvents&quot;: true,\n",
              "  &quot;color&quot;: &quot;blue&quot;,\n",
              "  &quot;dashArray&quot;: null,\n",
              "  &quot;dashOffset&quot;: null,\n",
              "  &quot;fill&quot;: false,\n",
              "  &quot;fillColor&quot;: &quot;blue&quot;,\n",
              "  &quot;fillOpacity&quot;: 0.2,\n",
              "  &quot;fillRule&quot;: &quot;evenodd&quot;,\n",
              "  &quot;lineCap&quot;: &quot;round&quot;,\n",
              "  &quot;lineJoin&quot;: &quot;round&quot;,\n",
              "  &quot;opacity&quot;: 1.0,\n",
              "  &quot;radius&quot;: 15,\n",
              "  &quot;stroke&quot;: true,\n",
              "  &quot;weight&quot;: 3\n",
              "}\n",
              "                )\n",
              "                .addTo(map_f635a39b38da92849f71d63664690d74);\n",
              "            \n",
              "    \n",
              "        var marker_00003b4d7244b75d9422158dd1ed6376 = L.marker(\n",
              "            [50.8505, 4.3488],\n",
              "            {\n",
              "                icon: new L.Icon.Default(),\n",
              "                }\n",
              "            ).addTo(map_f635a39b38da92849f71d63664690d74);\n",
              "        \n",
              "&lt;/script&gt;\" style=\"position:absolute;width:100%;height:100%;left:0;top:0;border:none !important;\" allowfullscreen webkitallowfullscreen mozallowfullscreen></iframe></div></div>"
            ]
          },
          "metadata": {},
          "execution_count": 91
        }
      ]
    },
    {
      "cell_type": "code",
      "source": [
        "https://datasciencesphere.com/project/track-location-ip-address-python-geocoder/"
      ],
      "metadata": {
        "id": "caznvoQGkxrR"
      },
      "execution_count": null,
      "outputs": []
    },
    {
      "cell_type": "markdown",
      "source": [
        "https://datasciencesphere.com/project/track-location-ip-address-python-geocoder/"
      ],
      "metadata": {
        "id": "-_HEZQjzl-ID"
      }
    },
    {
      "cell_type": "code",
      "source": [
        "ip = geocoder.ip(\"me\")\n",
        "ip\n",
        "\n",
        "print(ip.latlng)"
      ],
      "metadata": {
        "id": "O7ucmMlajURX",
        "outputId": "ec7f0cfe-c5bf-41c6-dc67-0d97a8d25a02",
        "colab": {
          "base_uri": "https://localhost:8080/"
        }
      },
      "execution_count": null,
      "outputs": [
        {
          "output_type": "execute_result",
          "data": {
            "text/plain": [
              "<[OK] Ipinfo - Geocode [North Charleston, South Carolina, US]>"
            ]
          },
          "metadata": {},
          "execution_count": 62
        }
      ]
    },
    {
      "cell_type": "code",
      "source": [
        "import requests\n",
        "\n",
        "url = 'https://maps.googleapis.com/maps/api/geocode/json'\n",
        "r = requests.get(url, params={\n",
        "    'sensor': 'false', \n",
        "    'address': 'Centre Pompidou, Paris, FR'\n",
        "})\n",
        "\n",
        "results = r.json()['results']\n",
        "results\n",
        "#location = results[0]['geometry']['location']\n",
        "#lat, lng = location['lat'], location['lng']"
      ],
      "metadata": {
        "id": "i3bLx72UmO1t",
        "outputId": "fd801fed-29ce-4cf0-cec7-0024dd6c17a2",
        "colab": {
          "base_uri": "https://localhost:8080/"
        }
      },
      "execution_count": null,
      "outputs": [
        {
          "output_type": "execute_result",
          "data": {
            "text/plain": [
              "[]"
            ]
          },
          "metadata": {},
          "execution_count": 80
        }
      ]
    },
    {
      "cell_type": "markdown",
      "source": [
        "https://janakiev.com/blog/geocoding-in-python/"
      ],
      "metadata": {
        "id": "GqfQAvkNm2Me"
      }
    },
    {
      "cell_type": "code",
      "source": [
        "location = geocoder.ip(\"66.249.76.216\")\n",
        "print(ip.city)\n",
        "print(ip)\n",
        "print(ip.latlng)\n",
        "\n",
        "location = ip.latlng\n",
        "lat, lng = location[0], location[1]\n",
        "\n",
        "#location = results[0]['geometry']['location']\n",
        "#lat, lng = location['lat'], location['lng']\n",
        "\n",
        "print(lat, lng, location)"
      ],
      "metadata": {
        "id": "AG99G4qWmz83",
        "outputId": "5e1d7d5c-0425-41e6-ef50-3a43addbb610",
        "colab": {
          "base_uri": "https://localhost:8080/"
        }
      },
      "execution_count": null,
      "outputs": [
        {
          "output_type": "stream",
          "name": "stdout",
          "text": [
            "Brussels\n",
            "<[OK] Ipinfo - Geocode [Brussels, Brussels Capital, BE]>\n",
            "[50.8505, 4.3488]\n",
            "50.8505 4.3488 [50.8505, 4.3488]\n"
          ]
        }
      ]
    }
  ]
}