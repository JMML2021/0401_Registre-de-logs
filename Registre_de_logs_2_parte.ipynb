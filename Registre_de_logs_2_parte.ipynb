{
  "nbformat": 4,
  "nbformat_minor": 0,
  "metadata": {
    "colab": {
      "name": "UntitleRegistre de logs 2 parte.ipynb",
      "provenance": [],
      "toc_visible": true,
      "authorship_tag": "ABX9TyOEPHwuiHLB+xLQDrVGTwuW",
      "include_colab_link": true
    },
    "kernelspec": {
      "name": "python3",
      "display_name": "Python 3"
    },
    "language_info": {
      "name": "python"
    }
  },
  "cells": [
    {
      "cell_type": "markdown",
      "metadata": {
        "id": "view-in-github",
        "colab_type": "text"
      },
      "source": [
        "<a href=\"https://colab.research.google.com/github/JMML2021/0401_Registre-de-logs/blob/main/Registre_de_logs_2_parte.ipynb\" target=\"_parent\"><img src=\"https://colab.research.google.com/assets/colab-badge.svg\" alt=\"Open In Colab\"/></a>"
      ]
    },
    {
      "cell_type": "code",
      "source": [
        "# importing libraries\n",
        "from urllib.request import urlretrieve\n",
        "import pandas as pd\n",
        "import os\n",
        "import re\n",
        "from datetime import datetime\n",
        "import pytz\n",
        "#import geocoder\n",
        "import folium\n",
        "import time\n",
        "import urllib.request\n",
        "import json\n",
        "import geopandas\n",
        "import matplotlib.pyplot as plt\n",
        "from datetime import datetime"
      ],
      "metadata": {
        "id": "DRsN99VoIXXC"
      },
      "execution_count": 1,
      "outputs": []
    },
    {
      "cell_type": "code",
      "source": [
        "!conda --version # now returns 4.8.3"
      ],
      "metadata": {
        "id": "PQOVKAdlD9we",
        "outputId": "c9727000-6136-43e5-cc4a-ff76833a52ff",
        "colab": {
          "base_uri": "https://localhost:8080/"
        }
      },
      "execution_count": 2,
      "outputs": [
        {
          "output_type": "stream",
          "name": "stdout",
          "text": [
            "conda 4.9.2\n"
          ]
        }
      ]
    },
    {
      "cell_type": "code",
      "source": [
        "!pip install geopandas"
      ],
      "metadata": {
        "id": "D62x1rFhIeMS",
        "outputId": "9baabf35-983a-4608-c10d-20829a21b17b",
        "colab": {
          "base_uri": "https://localhost:8080/",
          "height": 957
        }
      },
      "execution_count": 3,
      "outputs": [
        {
          "output_type": "stream",
          "name": "stdout",
          "text": [
            "Looking in indexes: https://pypi.org/simple, https://us-python.pkg.dev/colab-wheels/public/simple/\n",
            "Collecting geopandas\n",
            "  Downloading geopandas-0.10.2-py2.py3-none-any.whl (1.0 MB)\n",
            "\u001b[K     |████████████████████████████████| 1.0 MB 6.9 MB/s \n",
            "\u001b[?25hCollecting pandas>=0.25.0\n",
            "  Downloading pandas-1.3.5-cp37-cp37m-manylinux_2_17_x86_64.manylinux2014_x86_64.whl (11.3 MB)\n",
            "\u001b[K     |████████████████████████████████| 11.3 MB 47.7 MB/s \n",
            "\u001b[?25hCollecting pyproj>=2.2.0\n",
            "  Downloading pyproj-3.2.1-cp37-cp37m-manylinux2010_x86_64.whl (6.3 MB)\n",
            "\u001b[K     |████████████████████████████████| 6.3 MB 24.5 MB/s \n",
            "\u001b[?25hCollecting fiona>=1.8\n",
            "  Downloading Fiona-1.8.21-cp37-cp37m-manylinux2014_x86_64.whl (16.7 MB)\n",
            "\u001b[K     |████████████████████████████████| 16.7 MB 8.3 MB/s \n",
            "\u001b[?25hCollecting shapely>=1.6\n",
            "  Downloading Shapely-1.8.2-cp37-cp37m-manylinux_2_12_x86_64.manylinux2010_x86_64.whl (2.0 MB)\n",
            "\u001b[K     |████████████████████████████████| 2.0 MB 44.6 MB/s \n",
            "\u001b[?25hRequirement already satisfied: certifi in /usr/local/lib/python3.7/site-packages (from fiona>=1.8->geopandas) (2020.12.5)\n",
            "Collecting click-plugins>=1.0\n",
            "  Downloading click_plugins-1.1.1-py2.py3-none-any.whl (7.5 kB)\n",
            "Requirement already satisfied: six>=1.7 in /usr/local/lib/python3.7/site-packages (from fiona>=1.8->geopandas) (1.15.0)\n",
            "Requirement already satisfied: setuptools in /usr/local/lib/python3.7/site-packages (from fiona>=1.8->geopandas) (49.6.0.post20210108)\n",
            "Collecting munch\n",
            "  Downloading munch-2.5.0-py2.py3-none-any.whl (10 kB)\n",
            "Collecting attrs>=17\n",
            "  Downloading attrs-21.4.0-py2.py3-none-any.whl (60 kB)\n",
            "\u001b[K     |████████████████████████████████| 60 kB 7.9 MB/s \n",
            "\u001b[?25hCollecting cligj>=0.5\n",
            "  Downloading cligj-0.7.2-py3-none-any.whl (7.1 kB)\n",
            "Collecting click>=4.0\n",
            "  Downloading click-8.1.3-py3-none-any.whl (96 kB)\n",
            "\u001b[K     |████████████████████████████████| 96 kB 6.6 MB/s \n",
            "\u001b[?25hCollecting importlib-metadata\n",
            "  Downloading importlib_metadata-4.11.4-py3-none-any.whl (18 kB)\n",
            "Collecting python-dateutil>=2.7.3\n",
            "  Downloading python_dateutil-2.8.2-py2.py3-none-any.whl (247 kB)\n",
            "\u001b[K     |████████████████████████████████| 247 kB 63.1 MB/s \n",
            "\u001b[?25hCollecting numpy>=1.17.3\n",
            "  Downloading numpy-1.21.6-cp37-cp37m-manylinux_2_12_x86_64.manylinux2010_x86_64.whl (15.7 MB)\n",
            "\u001b[K     |████████████████████████████████| 15.7 MB 36.8 MB/s \n",
            "\u001b[?25hCollecting pytz>=2017.3\n",
            "  Downloading pytz-2022.1-py2.py3-none-any.whl (503 kB)\n",
            "\u001b[K     |████████████████████████████████| 503 kB 39.4 MB/s \n",
            "\u001b[?25hCollecting zipp>=0.5\n",
            "  Downloading zipp-3.8.0-py3-none-any.whl (5.4 kB)\n",
            "Collecting typing-extensions>=3.6.4\n",
            "  Downloading typing_extensions-4.2.0-py3-none-any.whl (24 kB)\n",
            "Installing collected packages: zipp, typing-extensions, importlib-metadata, click, pytz, python-dateutil, numpy, munch, cligj, click-plugins, attrs, shapely, pyproj, pandas, fiona, geopandas\n",
            "Successfully installed attrs-21.4.0 click-8.1.3 click-plugins-1.1.1 cligj-0.7.2 fiona-1.8.21 geopandas-0.10.2 importlib-metadata-4.11.4 munch-2.5.0 numpy-1.21.6 pandas-1.3.5 pyproj-3.2.1 python-dateutil-2.8.2 pytz-2022.1 shapely-1.8.2 typing-extensions-4.2.0 zipp-3.8.0\n"
          ]
        },
        {
          "output_type": "display_data",
          "data": {
            "application/vnd.colab-display-data+json": {
              "pip_warning": {
                "packages": [
                  "dateutil",
                  "numpy"
                ]
              }
            }
          },
          "metadata": {}
        }
      ]
    },
    {
      "cell_type": "code",
      "source": [
        "!pip install -q condacolab\n",
        "import condacolab\n",
        "condacolab.install()"
      ],
      "metadata": {
        "id": "_wOzwW7MJqv-",
        "outputId": "12ddd77f-0180-4fa1-8993-bccfc6fda25c",
        "colab": {
          "base_uri": "https://localhost:8080/"
        }
      },
      "execution_count": 1,
      "outputs": [
        {
          "output_type": "stream",
          "name": "stdout",
          "text": [
            "✨🍰✨ Everything looks OK!\n"
          ]
        }
      ]
    },
    {
      "cell_type": "code",
      "source": [
        "# Activo Google Drive\n",
        "\n",
        "from google.colab import drive\n",
        "drive.mount('/content/drive')"
      ],
      "metadata": {
        "id": "XtbGt2_x71yT",
        "outputId": "23ea6964-34c9-401e-fe3c-053a18d23a2b",
        "colab": {
          "base_uri": "https://localhost:8080/"
        }
      },
      "execution_count": 5,
      "outputs": [
        {
          "output_type": "stream",
          "name": "stdout",
          "text": [
            "Mounted at /content/drive\n"
          ]
        }
      ]
    },
    {
      "cell_type": "code",
      "source": [
        "# Abro el fichero uan vez adecuado\n",
        "\n",
        "path = ('/content/drive/MyDrive/01_COLAB/' +'direcionesIP.csv')\n",
        "df=  pd.read_csv(path)"
      ],
      "metadata": {
        "id": "XH0TQpbDIlSX"
      },
      "execution_count": 18,
      "outputs": []
    },
    {
      "cell_type": "code",
      "source": [
        "df.dtypes"
      ],
      "metadata": {
        "id": "SY_qRwO2JgVf",
        "outputId": "f04f05ce-f37b-44b8-be00-eb5bb45427bc",
        "colab": {
          "base_uri": "https://localhost:8080/"
        }
      },
      "execution_count": 19,
      "outputs": [
        {
          "output_type": "execute_result",
          "data": {
            "text/plain": [
              "Unnamed: 0        int64\n",
              "virtual_host     object\n",
              "IPs              object\n",
              "Fecha            object\n",
              "request          object\n",
              "status           object\n",
              "size             object\n",
              "referer          object\n",
              "user_agent      float64\n",
              "dtype: object"
            ]
          },
          "metadata": {},
          "execution_count": 19
        }
      ]
    },
    {
      "cell_type": "code",
      "source": [
        "data_ip =df[\"IPs\"].value_counts().rename_axis('ip').reset_index(name=\"visits\")\n",
        "data_ip.head()"
      ],
      "metadata": {
        "id": "iO8DPKwZI7WR",
        "outputId": "78ed04ae-07ed-40bc-8d61-5f37e8dd6eda",
        "colab": {
          "base_uri": "https://localhost:8080/",
          "height": 206
        }
      },
      "execution_count": 20,
      "outputs": [
        {
          "output_type": "execute_result",
          "data": {
            "text/plain": [
              "              ip  visits\n",
              "0  66.249.76.216     415\n",
              "1      127.0.0.1      21\n",
              "2   157.55.33.97       7\n",
              "3  199.30.20.223       6\n",
              "4  157.55.35.112       4"
            ],
            "text/html": [
              "\n",
              "  <div id=\"df-f35cb5fe-c6e9-4aa7-8f78-72ceb5c55808\">\n",
              "    <div class=\"colab-df-container\">\n",
              "      <div>\n",
              "<style scoped>\n",
              "    .dataframe tbody tr th:only-of-type {\n",
              "        vertical-align: middle;\n",
              "    }\n",
              "\n",
              "    .dataframe tbody tr th {\n",
              "        vertical-align: top;\n",
              "    }\n",
              "\n",
              "    .dataframe thead th {\n",
              "        text-align: right;\n",
              "    }\n",
              "</style>\n",
              "<table border=\"1\" class=\"dataframe\">\n",
              "  <thead>\n",
              "    <tr style=\"text-align: right;\">\n",
              "      <th></th>\n",
              "      <th>ip</th>\n",
              "      <th>visits</th>\n",
              "    </tr>\n",
              "  </thead>\n",
              "  <tbody>\n",
              "    <tr>\n",
              "      <th>0</th>\n",
              "      <td>66.249.76.216</td>\n",
              "      <td>415</td>\n",
              "    </tr>\n",
              "    <tr>\n",
              "      <th>1</th>\n",
              "      <td>127.0.0.1</td>\n",
              "      <td>21</td>\n",
              "    </tr>\n",
              "    <tr>\n",
              "      <th>2</th>\n",
              "      <td>157.55.33.97</td>\n",
              "      <td>7</td>\n",
              "    </tr>\n",
              "    <tr>\n",
              "      <th>3</th>\n",
              "      <td>199.30.20.223</td>\n",
              "      <td>6</td>\n",
              "    </tr>\n",
              "    <tr>\n",
              "      <th>4</th>\n",
              "      <td>157.55.35.112</td>\n",
              "      <td>4</td>\n",
              "    </tr>\n",
              "  </tbody>\n",
              "</table>\n",
              "</div>\n",
              "      <button class=\"colab-df-convert\" onclick=\"convertToInteractive('df-f35cb5fe-c6e9-4aa7-8f78-72ceb5c55808')\"\n",
              "              title=\"Convert this dataframe to an interactive table.\"\n",
              "              style=\"display:none;\">\n",
              "        \n",
              "  <svg xmlns=\"http://www.w3.org/2000/svg\" height=\"24px\"viewBox=\"0 0 24 24\"\n",
              "       width=\"24px\">\n",
              "    <path d=\"M0 0h24v24H0V0z\" fill=\"none\"/>\n",
              "    <path d=\"M18.56 5.44l.94 2.06.94-2.06 2.06-.94-2.06-.94-.94-2.06-.94 2.06-2.06.94zm-11 1L8.5 8.5l.94-2.06 2.06-.94-2.06-.94L8.5 2.5l-.94 2.06-2.06.94zm10 10l.94 2.06.94-2.06 2.06-.94-2.06-.94-.94-2.06-.94 2.06-2.06.94z\"/><path d=\"M17.41 7.96l-1.37-1.37c-.4-.4-.92-.59-1.43-.59-.52 0-1.04.2-1.43.59L10.3 9.45l-7.72 7.72c-.78.78-.78 2.05 0 2.83L4 21.41c.39.39.9.59 1.41.59.51 0 1.02-.2 1.41-.59l7.78-7.78 2.81-2.81c.8-.78.8-2.07 0-2.86zM5.41 20L4 18.59l7.72-7.72 1.47 1.35L5.41 20z\"/>\n",
              "  </svg>\n",
              "      </button>\n",
              "      \n",
              "  <style>\n",
              "    .colab-df-container {\n",
              "      display:flex;\n",
              "      flex-wrap:wrap;\n",
              "      gap: 12px;\n",
              "    }\n",
              "\n",
              "    .colab-df-convert {\n",
              "      background-color: #E8F0FE;\n",
              "      border: none;\n",
              "      border-radius: 50%;\n",
              "      cursor: pointer;\n",
              "      display: none;\n",
              "      fill: #1967D2;\n",
              "      height: 32px;\n",
              "      padding: 0 0 0 0;\n",
              "      width: 32px;\n",
              "    }\n",
              "\n",
              "    .colab-df-convert:hover {\n",
              "      background-color: #E2EBFA;\n",
              "      box-shadow: 0px 1px 2px rgba(60, 64, 67, 0.3), 0px 1px 3px 1px rgba(60, 64, 67, 0.15);\n",
              "      fill: #174EA6;\n",
              "    }\n",
              "\n",
              "    [theme=dark] .colab-df-convert {\n",
              "      background-color: #3B4455;\n",
              "      fill: #D2E3FC;\n",
              "    }\n",
              "\n",
              "    [theme=dark] .colab-df-convert:hover {\n",
              "      background-color: #434B5C;\n",
              "      box-shadow: 0px 1px 3px 1px rgba(0, 0, 0, 0.15);\n",
              "      filter: drop-shadow(0px 1px 2px rgba(0, 0, 0, 0.3));\n",
              "      fill: #FFFFFF;\n",
              "    }\n",
              "  </style>\n",
              "\n",
              "      <script>\n",
              "        const buttonEl =\n",
              "          document.querySelector('#df-f35cb5fe-c6e9-4aa7-8f78-72ceb5c55808 button.colab-df-convert');\n",
              "        buttonEl.style.display =\n",
              "          google.colab.kernel.accessAllowed ? 'block' : 'none';\n",
              "\n",
              "        async function convertToInteractive(key) {\n",
              "          const element = document.querySelector('#df-f35cb5fe-c6e9-4aa7-8f78-72ceb5c55808');\n",
              "          const dataTable =\n",
              "            await google.colab.kernel.invokeFunction('convertToInteractive',\n",
              "                                                     [key], {});\n",
              "          if (!dataTable) return;\n",
              "\n",
              "          const docLinkHtml = 'Like what you see? Visit the ' +\n",
              "            '<a target=\"_blank\" href=https://colab.research.google.com/notebooks/data_table.ipynb>data table notebook</a>'\n",
              "            + ' to learn more about interactive tables.';\n",
              "          element.innerHTML = '';\n",
              "          dataTable['output_type'] = 'display_data';\n",
              "          await google.colab.output.renderOutput(dataTable, element);\n",
              "          const docLink = document.createElement('div');\n",
              "          docLink.innerHTML = docLinkHtml;\n",
              "          element.appendChild(docLink);\n",
              "        }\n",
              "      </script>\n",
              "    </div>\n",
              "  </div>\n",
              "  "
            ]
          },
          "metadata": {},
          "execution_count": 20
        }
      ]
    },
    {
      "cell_type": "code",
      "source": [
        "df"
      ],
      "metadata": {
        "id": "3vA-x6klFAYL",
        "outputId": "a53ea4fc-13e2-4a8e-c3cc-b9fb05ede2be",
        "colab": {
          "base_uri": "https://localhost:8080/",
          "height": 424
        }
      },
      "execution_count": 21,
      "outputs": [
        {
          "output_type": "execute_result",
          "data": {
            "text/plain": [
              "     Unnamed: 0       virtual_host            IPs                Fecha  \\\n",
              "0             0          localhost      127.0.0.1  2014-02-23 03:10:31   \n",
              "1             1          localhost      127.0.0.1  2014-02-23 03:10:31   \n",
              "2             2          localhost      127.0.0.1  2014-02-23 03:10:31   \n",
              "3             3          localhost      127.0.0.1  2014-02-23 03:10:31   \n",
              "4             4          localhost      127.0.0.1  2014-02-23 03:10:31   \n",
              "..          ...                ...            ...                  ...   \n",
              "495         495  www.akumenius.com  66.249.76.216  2014-02-23 03:22:21   \n",
              "496         496  www.akumenius.com  66.249.76.216  2014-02-23 03:22:22   \n",
              "497         497  www.akumenius.com  66.249.76.216  2014-02-23 03:22:23   \n",
              "498         498  www.akumenius.com  66.249.76.216  2014-02-23 03:22:25   \n",
              "499         499  www.akumenius.com  66.249.76.216  2014-02-23 03:22:28   \n",
              "\n",
              "                                               request status   size  \\\n",
              "0                                                    *    200      -   \n",
              "1                                                    *    200      -   \n",
              "2                                                    *    200      -   \n",
              "3                                                    *    200      -   \n",
              "4                                                    *    200      -   \n",
              "..                                                 ...    ...    ...   \n",
              "495          /escapadas/culturales-pais-vasco-599.html    200  10939   \n",
              "496  /destinos-baratos/destinosEstrelles/hoteles-en...    200   8813   \n",
              "497  /hoteles-baratos/ofertas-hotel-Dorint-Am-Nurbu...    404   3100   \n",
              "498  /hoteles-baratos/ofertas-hotel-Blue-Jack-Tar-e...    404   3100   \n",
              "499  /hoteles-baratos/ofertas-hotel-Campanile-Le-Ma...    404   3100   \n",
              "\n",
              "         referer  user_agent  \n",
              "0         Apache         NaN  \n",
              "1         Apache         NaN  \n",
              "2         Apache         NaN  \n",
              "3         Apache         NaN  \n",
              "4         Apache         NaN  \n",
              "..           ...         ...  \n",
              "495  Mozilla/5.0         NaN  \n",
              "496  Mozilla/5.0         NaN  \n",
              "497  Mozilla/5.0         NaN  \n",
              "498  Mozilla/5.0         NaN  \n",
              "499  Mozilla/5.0         NaN  \n",
              "\n",
              "[500 rows x 9 columns]"
            ],
            "text/html": [
              "\n",
              "  <div id=\"df-38aeff14-4595-403d-ad77-cb6414785074\">\n",
              "    <div class=\"colab-df-container\">\n",
              "      <div>\n",
              "<style scoped>\n",
              "    .dataframe tbody tr th:only-of-type {\n",
              "        vertical-align: middle;\n",
              "    }\n",
              "\n",
              "    .dataframe tbody tr th {\n",
              "        vertical-align: top;\n",
              "    }\n",
              "\n",
              "    .dataframe thead th {\n",
              "        text-align: right;\n",
              "    }\n",
              "</style>\n",
              "<table border=\"1\" class=\"dataframe\">\n",
              "  <thead>\n",
              "    <tr style=\"text-align: right;\">\n",
              "      <th></th>\n",
              "      <th>Unnamed: 0</th>\n",
              "      <th>virtual_host</th>\n",
              "      <th>IPs</th>\n",
              "      <th>Fecha</th>\n",
              "      <th>request</th>\n",
              "      <th>status</th>\n",
              "      <th>size</th>\n",
              "      <th>referer</th>\n",
              "      <th>user_agent</th>\n",
              "    </tr>\n",
              "  </thead>\n",
              "  <tbody>\n",
              "    <tr>\n",
              "      <th>0</th>\n",
              "      <td>0</td>\n",
              "      <td>localhost</td>\n",
              "      <td>127.0.0.1</td>\n",
              "      <td>2014-02-23 03:10:31</td>\n",
              "      <td>*</td>\n",
              "      <td>200</td>\n",
              "      <td>-</td>\n",
              "      <td>Apache</td>\n",
              "      <td>NaN</td>\n",
              "    </tr>\n",
              "    <tr>\n",
              "      <th>1</th>\n",
              "      <td>1</td>\n",
              "      <td>localhost</td>\n",
              "      <td>127.0.0.1</td>\n",
              "      <td>2014-02-23 03:10:31</td>\n",
              "      <td>*</td>\n",
              "      <td>200</td>\n",
              "      <td>-</td>\n",
              "      <td>Apache</td>\n",
              "      <td>NaN</td>\n",
              "    </tr>\n",
              "    <tr>\n",
              "      <th>2</th>\n",
              "      <td>2</td>\n",
              "      <td>localhost</td>\n",
              "      <td>127.0.0.1</td>\n",
              "      <td>2014-02-23 03:10:31</td>\n",
              "      <td>*</td>\n",
              "      <td>200</td>\n",
              "      <td>-</td>\n",
              "      <td>Apache</td>\n",
              "      <td>NaN</td>\n",
              "    </tr>\n",
              "    <tr>\n",
              "      <th>3</th>\n",
              "      <td>3</td>\n",
              "      <td>localhost</td>\n",
              "      <td>127.0.0.1</td>\n",
              "      <td>2014-02-23 03:10:31</td>\n",
              "      <td>*</td>\n",
              "      <td>200</td>\n",
              "      <td>-</td>\n",
              "      <td>Apache</td>\n",
              "      <td>NaN</td>\n",
              "    </tr>\n",
              "    <tr>\n",
              "      <th>4</th>\n",
              "      <td>4</td>\n",
              "      <td>localhost</td>\n",
              "      <td>127.0.0.1</td>\n",
              "      <td>2014-02-23 03:10:31</td>\n",
              "      <td>*</td>\n",
              "      <td>200</td>\n",
              "      <td>-</td>\n",
              "      <td>Apache</td>\n",
              "      <td>NaN</td>\n",
              "    </tr>\n",
              "    <tr>\n",
              "      <th>...</th>\n",
              "      <td>...</td>\n",
              "      <td>...</td>\n",
              "      <td>...</td>\n",
              "      <td>...</td>\n",
              "      <td>...</td>\n",
              "      <td>...</td>\n",
              "      <td>...</td>\n",
              "      <td>...</td>\n",
              "      <td>...</td>\n",
              "    </tr>\n",
              "    <tr>\n",
              "      <th>495</th>\n",
              "      <td>495</td>\n",
              "      <td>www.akumenius.com</td>\n",
              "      <td>66.249.76.216</td>\n",
              "      <td>2014-02-23 03:22:21</td>\n",
              "      <td>/escapadas/culturales-pais-vasco-599.html</td>\n",
              "      <td>200</td>\n",
              "      <td>10939</td>\n",
              "      <td>Mozilla/5.0</td>\n",
              "      <td>NaN</td>\n",
              "    </tr>\n",
              "    <tr>\n",
              "      <th>496</th>\n",
              "      <td>496</td>\n",
              "      <td>www.akumenius.com</td>\n",
              "      <td>66.249.76.216</td>\n",
              "      <td>2014-02-23 03:22:22</td>\n",
              "      <td>/destinos-baratos/destinosEstrelles/hoteles-en...</td>\n",
              "      <td>200</td>\n",
              "      <td>8813</td>\n",
              "      <td>Mozilla/5.0</td>\n",
              "      <td>NaN</td>\n",
              "    </tr>\n",
              "    <tr>\n",
              "      <th>497</th>\n",
              "      <td>497</td>\n",
              "      <td>www.akumenius.com</td>\n",
              "      <td>66.249.76.216</td>\n",
              "      <td>2014-02-23 03:22:23</td>\n",
              "      <td>/hoteles-baratos/ofertas-hotel-Dorint-Am-Nurbu...</td>\n",
              "      <td>404</td>\n",
              "      <td>3100</td>\n",
              "      <td>Mozilla/5.0</td>\n",
              "      <td>NaN</td>\n",
              "    </tr>\n",
              "    <tr>\n",
              "      <th>498</th>\n",
              "      <td>498</td>\n",
              "      <td>www.akumenius.com</td>\n",
              "      <td>66.249.76.216</td>\n",
              "      <td>2014-02-23 03:22:25</td>\n",
              "      <td>/hoteles-baratos/ofertas-hotel-Blue-Jack-Tar-e...</td>\n",
              "      <td>404</td>\n",
              "      <td>3100</td>\n",
              "      <td>Mozilla/5.0</td>\n",
              "      <td>NaN</td>\n",
              "    </tr>\n",
              "    <tr>\n",
              "      <th>499</th>\n",
              "      <td>499</td>\n",
              "      <td>www.akumenius.com</td>\n",
              "      <td>66.249.76.216</td>\n",
              "      <td>2014-02-23 03:22:28</td>\n",
              "      <td>/hoteles-baratos/ofertas-hotel-Campanile-Le-Ma...</td>\n",
              "      <td>404</td>\n",
              "      <td>3100</td>\n",
              "      <td>Mozilla/5.0</td>\n",
              "      <td>NaN</td>\n",
              "    </tr>\n",
              "  </tbody>\n",
              "</table>\n",
              "<p>500 rows × 9 columns</p>\n",
              "</div>\n",
              "      <button class=\"colab-df-convert\" onclick=\"convertToInteractive('df-38aeff14-4595-403d-ad77-cb6414785074')\"\n",
              "              title=\"Convert this dataframe to an interactive table.\"\n",
              "              style=\"display:none;\">\n",
              "        \n",
              "  <svg xmlns=\"http://www.w3.org/2000/svg\" height=\"24px\"viewBox=\"0 0 24 24\"\n",
              "       width=\"24px\">\n",
              "    <path d=\"M0 0h24v24H0V0z\" fill=\"none\"/>\n",
              "    <path d=\"M18.56 5.44l.94 2.06.94-2.06 2.06-.94-2.06-.94-.94-2.06-.94 2.06-2.06.94zm-11 1L8.5 8.5l.94-2.06 2.06-.94-2.06-.94L8.5 2.5l-.94 2.06-2.06.94zm10 10l.94 2.06.94-2.06 2.06-.94-2.06-.94-.94-2.06-.94 2.06-2.06.94z\"/><path d=\"M17.41 7.96l-1.37-1.37c-.4-.4-.92-.59-1.43-.59-.52 0-1.04.2-1.43.59L10.3 9.45l-7.72 7.72c-.78.78-.78 2.05 0 2.83L4 21.41c.39.39.9.59 1.41.59.51 0 1.02-.2 1.41-.59l7.78-7.78 2.81-2.81c.8-.78.8-2.07 0-2.86zM5.41 20L4 18.59l7.72-7.72 1.47 1.35L5.41 20z\"/>\n",
              "  </svg>\n",
              "      </button>\n",
              "      \n",
              "  <style>\n",
              "    .colab-df-container {\n",
              "      display:flex;\n",
              "      flex-wrap:wrap;\n",
              "      gap: 12px;\n",
              "    }\n",
              "\n",
              "    .colab-df-convert {\n",
              "      background-color: #E8F0FE;\n",
              "      border: none;\n",
              "      border-radius: 50%;\n",
              "      cursor: pointer;\n",
              "      display: none;\n",
              "      fill: #1967D2;\n",
              "      height: 32px;\n",
              "      padding: 0 0 0 0;\n",
              "      width: 32px;\n",
              "    }\n",
              "\n",
              "    .colab-df-convert:hover {\n",
              "      background-color: #E2EBFA;\n",
              "      box-shadow: 0px 1px 2px rgba(60, 64, 67, 0.3), 0px 1px 3px 1px rgba(60, 64, 67, 0.15);\n",
              "      fill: #174EA6;\n",
              "    }\n",
              "\n",
              "    [theme=dark] .colab-df-convert {\n",
              "      background-color: #3B4455;\n",
              "      fill: #D2E3FC;\n",
              "    }\n",
              "\n",
              "    [theme=dark] .colab-df-convert:hover {\n",
              "      background-color: #434B5C;\n",
              "      box-shadow: 0px 1px 3px 1px rgba(0, 0, 0, 0.15);\n",
              "      filter: drop-shadow(0px 1px 2px rgba(0, 0, 0, 0.3));\n",
              "      fill: #FFFFFF;\n",
              "    }\n",
              "  </style>\n",
              "\n",
              "      <script>\n",
              "        const buttonEl =\n",
              "          document.querySelector('#df-38aeff14-4595-403d-ad77-cb6414785074 button.colab-df-convert');\n",
              "        buttonEl.style.display =\n",
              "          google.colab.kernel.accessAllowed ? 'block' : 'none';\n",
              "\n",
              "        async function convertToInteractive(key) {\n",
              "          const element = document.querySelector('#df-38aeff14-4595-403d-ad77-cb6414785074');\n",
              "          const dataTable =\n",
              "            await google.colab.kernel.invokeFunction('convertToInteractive',\n",
              "                                                     [key], {});\n",
              "          if (!dataTable) return;\n",
              "\n",
              "          const docLinkHtml = 'Like what you see? Visit the ' +\n",
              "            '<a target=\"_blank\" href=https://colab.research.google.com/notebooks/data_table.ipynb>data table notebook</a>'\n",
              "            + ' to learn more about interactive tables.';\n",
              "          element.innerHTML = '';\n",
              "          dataTable['output_type'] = 'display_data';\n",
              "          await google.colab.output.renderOutput(dataTable, element);\n",
              "          const docLink = document.createElement('div');\n",
              "          docLink.innerHTML = docLinkHtml;\n",
              "          element.appendChild(docLink);\n",
              "        }\n",
              "      </script>\n",
              "    </div>\n",
              "  </div>\n",
              "  "
            ]
          },
          "metadata": {},
          "execution_count": 21
        }
      ]
    },
    {
      "cell_type": "code",
      "source": [
        "import geocoder\n",
        "ip = geocoder.ip(\"157.55.35.112\")\n",
        "print(ip.city)\n",
        "print(ip)\n",
        "print(ip.latlng)"
      ],
      "metadata": {
        "id": "zsSPfY3wI8B5",
        "outputId": "abeb25cf-7be7-4e15-cb05-025c3adaf7dd",
        "colab": {
          "base_uri": "https://localhost:8080/"
        }
      },
      "execution_count": 48,
      "outputs": [
        {
          "output_type": "stream",
          "name": "stdout",
          "text": [
            "Redmond\n",
            "<[OK] Ipinfo - Geocode [Redmond, Washington, US]>\n",
            "[47.674, -122.1215]\n"
          ]
        }
      ]
    },
    {
      "cell_type": "code",
      "source": [
        "for p,q in enumerate(data_ip):\n",
        "  print(p,q)\n",
        "  #location = q.latlng\n",
        "\n",
        "  map = folium.Map(location=location, zoom_start=5)\n",
        "  folium.CircleMarker(location=location, radius=50, color=\"red\").add_to(map)\n",
        "  folium.Marker(location).add_to(map)\n",
        "\n",
        "#map\n",
        "#print(ip)"
      ],
      "metadata": {
        "id": "wFIlH-MBi6Eo",
        "outputId": "6ca581ee-6b5e-44f3-fc58-feeb4fbaee4b",
        "colab": {
          "base_uri": "https://localhost:8080/"
        }
      },
      "execution_count": 53,
      "outputs": [
        {
          "output_type": "stream",
          "name": "stdout",
          "text": [
            "0 ip\n",
            "1 visits\n"
          ]
        }
      ]
    },
    {
      "cell_type": "code",
      "source": [
        "import geopandas\n",
        "\n",
        "path_to_data = geopandas.datasets.get_path(\"nybb\")\n",
        "gdf = geopandas.read_file(path_to_data)\n",
        "\n",
        "gdf"
      ],
      "metadata": {
        "id": "KlI-cYXDhaQn",
        "outputId": "5975c671-316d-4199-b65c-f5b06f7c8be8",
        "colab": {
          "base_uri": "https://localhost:8080/",
          "height": 206
        }
      },
      "execution_count": 27,
      "outputs": [
        {
          "output_type": "execute_result",
          "data": {
            "text/plain": [
              "   BoroCode       BoroName     Shape_Leng    Shape_Area  \\\n",
              "0         5  Staten Island  330470.010332  1.623820e+09   \n",
              "1         4         Queens  896344.047763  3.045213e+09   \n",
              "2         3       Brooklyn  741080.523166  1.937479e+09   \n",
              "3         1      Manhattan  359299.096471  6.364715e+08   \n",
              "4         2          Bronx  464392.991824  1.186925e+09   \n",
              "\n",
              "                                            geometry  \n",
              "0  MULTIPOLYGON (((970217.022 145643.332, 970227....  \n",
              "1  MULTIPOLYGON (((1029606.077 156073.814, 102957...  \n",
              "2  MULTIPOLYGON (((1021176.479 151374.797, 102100...  \n",
              "3  MULTIPOLYGON (((981219.056 188655.316, 980940....  \n",
              "4  MULTIPOLYGON (((1012821.806 229228.265, 101278...  "
            ],
            "text/html": [
              "\n",
              "  <div id=\"df-685575d2-514c-4721-a368-81be1ea27781\">\n",
              "    <div class=\"colab-df-container\">\n",
              "      <div>\n",
              "<style scoped>\n",
              "    .dataframe tbody tr th:only-of-type {\n",
              "        vertical-align: middle;\n",
              "    }\n",
              "\n",
              "    .dataframe tbody tr th {\n",
              "        vertical-align: top;\n",
              "    }\n",
              "\n",
              "    .dataframe thead th {\n",
              "        text-align: right;\n",
              "    }\n",
              "</style>\n",
              "<table border=\"1\" class=\"dataframe\">\n",
              "  <thead>\n",
              "    <tr style=\"text-align: right;\">\n",
              "      <th></th>\n",
              "      <th>BoroCode</th>\n",
              "      <th>BoroName</th>\n",
              "      <th>Shape_Leng</th>\n",
              "      <th>Shape_Area</th>\n",
              "      <th>geometry</th>\n",
              "    </tr>\n",
              "  </thead>\n",
              "  <tbody>\n",
              "    <tr>\n",
              "      <th>0</th>\n",
              "      <td>5</td>\n",
              "      <td>Staten Island</td>\n",
              "      <td>330470.010332</td>\n",
              "      <td>1.623820e+09</td>\n",
              "      <td>MULTIPOLYGON (((970217.022 145643.332, 970227....</td>\n",
              "    </tr>\n",
              "    <tr>\n",
              "      <th>1</th>\n",
              "      <td>4</td>\n",
              "      <td>Queens</td>\n",
              "      <td>896344.047763</td>\n",
              "      <td>3.045213e+09</td>\n",
              "      <td>MULTIPOLYGON (((1029606.077 156073.814, 102957...</td>\n",
              "    </tr>\n",
              "    <tr>\n",
              "      <th>2</th>\n",
              "      <td>3</td>\n",
              "      <td>Brooklyn</td>\n",
              "      <td>741080.523166</td>\n",
              "      <td>1.937479e+09</td>\n",
              "      <td>MULTIPOLYGON (((1021176.479 151374.797, 102100...</td>\n",
              "    </tr>\n",
              "    <tr>\n",
              "      <th>3</th>\n",
              "      <td>1</td>\n",
              "      <td>Manhattan</td>\n",
              "      <td>359299.096471</td>\n",
              "      <td>6.364715e+08</td>\n",
              "      <td>MULTIPOLYGON (((981219.056 188655.316, 980940....</td>\n",
              "    </tr>\n",
              "    <tr>\n",
              "      <th>4</th>\n",
              "      <td>2</td>\n",
              "      <td>Bronx</td>\n",
              "      <td>464392.991824</td>\n",
              "      <td>1.186925e+09</td>\n",
              "      <td>MULTIPOLYGON (((1012821.806 229228.265, 101278...</td>\n",
              "    </tr>\n",
              "  </tbody>\n",
              "</table>\n",
              "</div>\n",
              "      <button class=\"colab-df-convert\" onclick=\"convertToInteractive('df-685575d2-514c-4721-a368-81be1ea27781')\"\n",
              "              title=\"Convert this dataframe to an interactive table.\"\n",
              "              style=\"display:none;\">\n",
              "        \n",
              "  <svg xmlns=\"http://www.w3.org/2000/svg\" height=\"24px\"viewBox=\"0 0 24 24\"\n",
              "       width=\"24px\">\n",
              "    <path d=\"M0 0h24v24H0V0z\" fill=\"none\"/>\n",
              "    <path d=\"M18.56 5.44l.94 2.06.94-2.06 2.06-.94-2.06-.94-.94-2.06-.94 2.06-2.06.94zm-11 1L8.5 8.5l.94-2.06 2.06-.94-2.06-.94L8.5 2.5l-.94 2.06-2.06.94zm10 10l.94 2.06.94-2.06 2.06-.94-2.06-.94-.94-2.06-.94 2.06-2.06.94z\"/><path d=\"M17.41 7.96l-1.37-1.37c-.4-.4-.92-.59-1.43-.59-.52 0-1.04.2-1.43.59L10.3 9.45l-7.72 7.72c-.78.78-.78 2.05 0 2.83L4 21.41c.39.39.9.59 1.41.59.51 0 1.02-.2 1.41-.59l7.78-7.78 2.81-2.81c.8-.78.8-2.07 0-2.86zM5.41 20L4 18.59l7.72-7.72 1.47 1.35L5.41 20z\"/>\n",
              "  </svg>\n",
              "      </button>\n",
              "      \n",
              "  <style>\n",
              "    .colab-df-container {\n",
              "      display:flex;\n",
              "      flex-wrap:wrap;\n",
              "      gap: 12px;\n",
              "    }\n",
              "\n",
              "    .colab-df-convert {\n",
              "      background-color: #E8F0FE;\n",
              "      border: none;\n",
              "      border-radius: 50%;\n",
              "      cursor: pointer;\n",
              "      display: none;\n",
              "      fill: #1967D2;\n",
              "      height: 32px;\n",
              "      padding: 0 0 0 0;\n",
              "      width: 32px;\n",
              "    }\n",
              "\n",
              "    .colab-df-convert:hover {\n",
              "      background-color: #E2EBFA;\n",
              "      box-shadow: 0px 1px 2px rgba(60, 64, 67, 0.3), 0px 1px 3px 1px rgba(60, 64, 67, 0.15);\n",
              "      fill: #174EA6;\n",
              "    }\n",
              "\n",
              "    [theme=dark] .colab-df-convert {\n",
              "      background-color: #3B4455;\n",
              "      fill: #D2E3FC;\n",
              "    }\n",
              "\n",
              "    [theme=dark] .colab-df-convert:hover {\n",
              "      background-color: #434B5C;\n",
              "      box-shadow: 0px 1px 3px 1px rgba(0, 0, 0, 0.15);\n",
              "      filter: drop-shadow(0px 1px 2px rgba(0, 0, 0, 0.3));\n",
              "      fill: #FFFFFF;\n",
              "    }\n",
              "  </style>\n",
              "\n",
              "      <script>\n",
              "        const buttonEl =\n",
              "          document.querySelector('#df-685575d2-514c-4721-a368-81be1ea27781 button.colab-df-convert');\n",
              "        buttonEl.style.display =\n",
              "          google.colab.kernel.accessAllowed ? 'block' : 'none';\n",
              "\n",
              "        async function convertToInteractive(key) {\n",
              "          const element = document.querySelector('#df-685575d2-514c-4721-a368-81be1ea27781');\n",
              "          const dataTable =\n",
              "            await google.colab.kernel.invokeFunction('convertToInteractive',\n",
              "                                                     [key], {});\n",
              "          if (!dataTable) return;\n",
              "\n",
              "          const docLinkHtml = 'Like what you see? Visit the ' +\n",
              "            '<a target=\"_blank\" href=https://colab.research.google.com/notebooks/data_table.ipynb>data table notebook</a>'\n",
              "            + ' to learn more about interactive tables.';\n",
              "          element.innerHTML = '';\n",
              "          dataTable['output_type'] = 'display_data';\n",
              "          await google.colab.output.renderOutput(dataTable, element);\n",
              "          const docLink = document.createElement('div');\n",
              "          docLink.innerHTML = docLinkHtml;\n",
              "          element.appendChild(docLink);\n",
              "        }\n",
              "      </script>\n",
              "    </div>\n",
              "  </div>\n",
              "  "
            ]
          },
          "metadata": {},
          "execution_count": 27
        }
      ]
    },
    {
      "cell_type": "code",
      "source": [
        "#!pip install geoplot"
      ],
      "metadata": {
        "id": "Bmyx2xIVlEy5"
      },
      "execution_count": 1,
      "outputs": []
    },
    {
      "cell_type": "code",
      "source": [
        "import geopandas\n",
        "import geoplot\n",
        "import mapclassify\n",
        "\n",
        "world = geopandas.read_file(\n",
        "    geopandas.datasets.get_path('naturalearth_lowres')\n",
        ")\n",
        "boroughs = geopandas.read_file(\n",
        "    geoplot.datasets.get_path('nyc_boroughs')\n",
        ")\n",
        "collisions = geopandas.read_file(\n",
        "    geoplot.datasets.get_path('nyc_injurious_collisions')\n",
        ")"
      ],
      "metadata": {
        "id": "9b3-QsB_lAZE"
      },
      "execution_count": 7,
      "outputs": []
    },
    {
      "cell_type": "code",
      "source": [
        "geoplot.polyplot(world, figsize=(8, 4))"
      ],
      "metadata": {
        "id": "qmPIcYXQl20f",
        "outputId": "16b350d9-5252-4e6c-b1fa-741030e8ef23",
        "colab": {
          "base_uri": "https://localhost:8080/",
          "height": 320
        }
      },
      "execution_count": 8,
      "outputs": [
        {
          "output_type": "stream",
          "name": "stderr",
          "text": [
            "/usr/local/lib/python3.7/site-packages/geoplot/geoplot.py:885: ShapelyDeprecationWarning: Iteration over multi-part geometries is deprecated and will be removed in Shapely 2.0. Use the `geoms` property to access the constituent parts of a multi-part geometry.\n",
            "  for subgeom in geom:\n"
          ]
        },
        {
          "output_type": "execute_result",
          "data": {
            "text/plain": [
              "<matplotlib.axes._subplots.AxesSubplot at 0x7f595ec2d2d0>"
            ]
          },
          "metadata": {},
          "execution_count": 8
        },
        {
          "output_type": "display_data",
          "data": {
            "text/plain": [
              "<Figure size 576x288 with 1 Axes>"
            ],
            "image/png": "[encoded data removed]"
          },
          "metadata": {
            "needs_background": "light"
          }
        }
      ]
    },
    {
      "cell_type": "code",
      "source": [
        "# use the Orthographic map projection (e.g. a world globe)\n",
        "ax = geoplot.polyplot(\n",
        "    world, projection=geoplot.crs.Orthographic(), figsize=(8, 4)\n",
        ")\n",
        "ax.outline_patch.set_visible(True)"
      ],
      "metadata": {
        "id": "kjN1CVmOlwen",
        "outputId": "50d6f166-3f54-4cb1-cead-e236bd554236",
        "colab": {
          "base_uri": "https://localhost:8080/",
          "height": 235
        }
      },
      "execution_count": 5,
      "outputs": [
        {
          "output_type": "error",
          "ename": "NameError",
          "evalue": "ignored",
          "traceback": [
            "\u001b[0;31m---------------------------------------------------------------------------\u001b[0m",
            "\u001b[0;31mNameError\u001b[0m                                 Traceback (most recent call last)",
            "\u001b[0;32m<ipython-input-5-bf31e6ff44d1>\u001b[0m in \u001b[0;36m<module>\u001b[0;34m()\u001b[0m\n\u001b[1;32m      1\u001b[0m \u001b[0;31m# use the Orthographic map projection (e.g. a world globe)\u001b[0m\u001b[0;34m\u001b[0m\u001b[0;34m\u001b[0m\u001b[0;34m\u001b[0m\u001b[0m\n\u001b[0;32m----> 2\u001b[0;31m ax = geoplot.polyplot(\n\u001b[0m\u001b[1;32m      3\u001b[0m     \u001b[0mworld\u001b[0m\u001b[0;34m,\u001b[0m \u001b[0mprojection\u001b[0m\u001b[0;34m=\u001b[0m\u001b[0mgeoplot\u001b[0m\u001b[0;34m.\u001b[0m\u001b[0mcrs\u001b[0m\u001b[0;34m.\u001b[0m\u001b[0mOrthographic\u001b[0m\u001b[0;34m(\u001b[0m\u001b[0;34m)\u001b[0m\u001b[0;34m,\u001b[0m \u001b[0mfigsize\u001b[0m\u001b[0;34m=\u001b[0m\u001b[0;34m(\u001b[0m\u001b[0;36m8\u001b[0m\u001b[0;34m,\u001b[0m \u001b[0;36m4\u001b[0m\u001b[0;34m)\u001b[0m\u001b[0;34m\u001b[0m\u001b[0;34m\u001b[0m\u001b[0m\n\u001b[1;32m      4\u001b[0m )\n\u001b[1;32m      5\u001b[0m \u001b[0max\u001b[0m\u001b[0;34m.\u001b[0m\u001b[0moutline_patch\u001b[0m\u001b[0;34m.\u001b[0m\u001b[0mset_visible\u001b[0m\u001b[0;34m(\u001b[0m\u001b[0;32mTrue\u001b[0m\u001b[0;34m)\u001b[0m\u001b[0;34m\u001b[0m\u001b[0;34m\u001b[0m\u001b[0m\n",
            "\u001b[0;31mNameError\u001b[0m: name 'geoplot' is not defined"
          ]
        }
      ]
    },
    {
      "cell_type": "code",
      "source": [
        "import mapclassify\n",
        "gpd_per_person = world['gdp_md_est'] / world['pop_est']\n",
        "scheme = mapclassify.Quantiles(gpd_per_person, k=5)\n",
        "\n",
        "# Note: this code sample requires geoplot>=0.4.0.\n",
        "geoplot.choropleth(\n",
        "    world, hue=gpd_per_person, scheme=scheme,\n",
        "    cmap='Greens', figsize=(8, 4)\n",
        ")"
      ],
      "metadata": {
        "id": "DhckN9dumFDB",
        "outputId": "d149c42c-581e-476f-f478-559e9a8d95ce",
        "colab": {
          "base_uri": "https://localhost:8080/",
          "height": 235
        }
      },
      "execution_count": 4,
      "outputs": [
        {
          "output_type": "error",
          "ename": "NameError",
          "evalue": "ignored",
          "traceback": [
            "\u001b[0;31m---------------------------------------------------------------------------\u001b[0m",
            "\u001b[0;31mNameError\u001b[0m                                 Traceback (most recent call last)",
            "\u001b[0;32m<ipython-input-4-9222d10fca2a>\u001b[0m in \u001b[0;36m<module>\u001b[0;34m()\u001b[0m\n\u001b[1;32m      1\u001b[0m \u001b[0;32mimport\u001b[0m \u001b[0mmapclassify\u001b[0m\u001b[0;34m\u001b[0m\u001b[0;34m\u001b[0m\u001b[0m\n\u001b[0;32m----> 2\u001b[0;31m \u001b[0mgpd_per_person\u001b[0m \u001b[0;34m=\u001b[0m \u001b[0mworld\u001b[0m\u001b[0;34m[\u001b[0m\u001b[0;34m'gdp_md_est'\u001b[0m\u001b[0;34m]\u001b[0m \u001b[0;34m/\u001b[0m \u001b[0mworld\u001b[0m\u001b[0;34m[\u001b[0m\u001b[0;34m'pop_est'\u001b[0m\u001b[0;34m]\u001b[0m\u001b[0;34m\u001b[0m\u001b[0;34m\u001b[0m\u001b[0m\n\u001b[0m\u001b[1;32m      3\u001b[0m \u001b[0mscheme\u001b[0m \u001b[0;34m=\u001b[0m \u001b[0mmapclassify\u001b[0m\u001b[0;34m.\u001b[0m\u001b[0mQuantiles\u001b[0m\u001b[0;34m(\u001b[0m\u001b[0mgpd_per_person\u001b[0m\u001b[0;34m,\u001b[0m \u001b[0mk\u001b[0m\u001b[0;34m=\u001b[0m\u001b[0;36m5\u001b[0m\u001b[0;34m)\u001b[0m\u001b[0;34m\u001b[0m\u001b[0;34m\u001b[0m\u001b[0m\n\u001b[1;32m      4\u001b[0m \u001b[0;34m\u001b[0m\u001b[0m\n\u001b[1;32m      5\u001b[0m \u001b[0;31m# Note: this code sample requires geoplot>=0.4.0.\u001b[0m\u001b[0;34m\u001b[0m\u001b[0;34m\u001b[0m\u001b[0;34m\u001b[0m\u001b[0m\n",
            "\u001b[0;31mNameError\u001b[0m: name 'world' is not defined"
          ]
        }
      ]
    },
    {
      "cell_type": "code",
      "source": [
        "ax = geoplot.kdeplot(\n",
        "    collisions.head(1000), clip=boroughs.geometry,\n",
        "    shade=True, cmap='Reds',\n",
        "    projection=geoplot.crs.AlbersEqualArea())\n",
        "geoplot.polyplot(boroughs, ax=ax, zorder=1)"
      ],
      "metadata": {
        "id": "bJz7pp83n8Bp",
        "outputId": "4574cc51-ef7c-4293-cc8d-4fa1a1ea4a7b",
        "colab": {
          "base_uri": "https://localhost:8080/"
        }
      },
      "execution_count": null,
      "outputs": [
        {
          "output_type": "stream",
          "name": "stderr",
          "text": [
            "Geometry must be a Point or LineString\n"
          ]
        }
      ]
    },
    {
      "cell_type": "code",
      "source": [
        "#!pip uninstall shapely\n",
        "!pip install shapely --no-binary shapely#"
      ],
      "metadata": {
        "id": "e3sNitZomxlh",
        "outputId": "fc16dce0-8a38-466a-e160-4d9a62d5a7ae",
        "colab": {
          "base_uri": "https://localhost:8080/"
        }
      },
      "execution_count": 2,
      "outputs": [
        {
          "output_type": "stream",
          "name": "stdout",
          "text": [
            "Looking in indexes: https://pypi.org/simple, https://us-python.pkg.dev/colab-wheels/public/simple/\n",
            "Collecting shapely\n",
            "  Using cached Shapely-1.8.2-cp37-cp37m-manylinux_2_12_x86_64.manylinux2010_x86_64.whl (2.0 MB)\n",
            "Installing collected packages: shapely\n",
            "Successfully installed shapely-1.8.2\n"
          ]
        }
      ]
    },
    {
      "cell_type": "code",
      "source": [
        "import geopandas as gpd\n",
        "import geoplot as gplt\n",
        "import geoplot.crs as gcrs\n",
        "import matplotlib.pyplot as plt\n",
        "\n",
        "nyc_boroughs = gpd.read_file(gplt.datasets.get_path('nyc_boroughs'))\n",
        "nyc_collision_factors = gpd.read_file(gplt.datasets.get_path('nyc_collision_factors'))\n",
        "\n",
        "\n",
        "proj = gcrs.AlbersEqualArea(central_latitude=40.7128, central_longitude=-74.0059)\n",
        "fig = plt.figure(figsize=(10, 5))\n",
        "ax1 = plt.subplot(121, projection=proj)\n",
        "ax2 = plt.subplot(122, projection=proj)\n",
        "\n",
        "gplt.kdeplot(\n",
        "    nyc_collision_factors[\n",
        "        nyc_collision_factors['CONTRIBUTING FACTOR VEHICLE 1'] == \"Failure to Yield Right-of-Way\"\n",
        "    ],\n",
        "    cmap='Reds',\n",
        "    projection=proj,\n",
        "    shade=True, thresh=0.05,\n",
        "    clip=nyc_boroughs.geometry,\n",
        "    ax=ax1\n",
        ")\n",
        "gplt.polyplot(nyc_boroughs, zorder=1, ax=ax1)\n",
        "ax1.set_title(\"Failure to Yield Right-of-Way Crashes, 2016\")\n",
        "\n",
        "gplt.kdeplot(\n",
        "    nyc_collision_factors[\n",
        "        nyc_collision_factors['CONTRIBUTING FACTOR VEHICLE 1'] == \"Lost Consciousness\"\n",
        "    ],\n",
        "    cmap='Reds',\n",
        "    projection=proj,\n",
        "    shade=True, thresh=0.05,\n",
        "    clip=nyc_boroughs.geometry,\n",
        "    ax=ax2\n",
        ")\n",
        "gplt.polyplot(nyc_boroughs, zorder=1, ax=ax2)\n",
        "ax2.set_title(\"Loss of Consciousness Crashes, 2016\")"
      ],
      "metadata": {
        "id": "uRYD_GN4oOJk"
      },
      "execution_count": null,
      "outputs": []
    }
  ]
}